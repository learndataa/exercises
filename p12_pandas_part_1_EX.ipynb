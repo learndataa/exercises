{
 "cells": [
  {
   "cell_type": "code",
   "execution_count": null,
   "metadata": {},
   "outputs": [],
   "source": [
    "#learndataa learndataa learndataa learndataa learndataa learndataa learndataa learndataa learndataa"
   ]
  },
  {
   "cell_type": "markdown",
   "metadata": {},
   "source": [
    "## Exercises"
   ]
  },
  {
   "cell_type": "markdown",
   "metadata": {},
   "source": [
    "### For Beginners: 12. Pandas (Part 1) in Python"
   ]
  },
  {
   "cell_type": "markdown",
   "metadata": {},
   "source": [
    "#### Total questions sets: 2\n",
    "#### Estimated time required: upto 30 minutes or more (Please take your time to understand and solve the questions.)"
   ]
  },
  {
   "cell_type": "markdown",
   "metadata": {},
   "source": [
    "[Notes: \n",
    "- Answers may be typed after the line \"#-------#\" in each cell. Additional cells may be created if needed.\n",
    "- The estimated time required to complete the exercise may vary depending on your prior knowledge.\n",
    "- Answers to the questions are posted at the end of this worksheet. However, to help you learn, it is suggested that you to try to answer the questions yourself before looking at the answers.\n",
    "]"
   ]
  },
  {
   "cell_type": "markdown",
   "metadata": {},
   "source": [
    "### Import libraries"
   ]
  },
  {
   "cell_type": "code",
   "execution_count": 1,
   "metadata": {},
   "outputs": [],
   "source": [
    "import numpy as np\n",
    "import pandas as pd\n",
    "import matplotlib.pyplot as plt"
   ]
  },
  {
   "cell_type": "markdown",
   "metadata": {},
   "source": [
    "### Question 0:\n",
    "\n",
    "Create a new cell to each of the questions below. \n",
    "- Create a Series 'x', consisting of n=50 random integers from 11 to 46. Find its type, dtype and length\n",
    "- Create a DataFrame 'dfx' with: (i) above Series 'x', and (i) a list of strings or words of your choice. Find its type, dtypes, shape and size. Also, print top 3 and bottom 3 rows of dfx.\n",
    "        - Hint: \n",
    "        list('jbveijfpa') gives --> ['j', 'b', 'v', 'e', 'i', 'j', 'f', 'p', 'a']\n",
    "- Find the indices for 'x' and 'dfx'\n",
    "- Convert the DataFrame 'dfx' to a numpy array and store in variable 'dfx_array'. Find its type, dtype, shape and size.\n",
    "- Transpose 'dfx' and store in variable 'dfx_t'. Find its type, dtype, shape and size.\n",
    "\n",
    "\n",
    "\n",
    "Print all answers to output.\n"
   ]
  },
  {
   "cell_type": "code",
   "execution_count": null,
   "metadata": {},
   "outputs": [],
   "source": [
    "# ------- type the answer below this line ------- #\n",
    "\n"
   ]
  },
  {
   "cell_type": "markdown",
   "metadata": {},
   "source": [
    "### Question 1:\n",
    "\n",
    "#### Story\n",
    "Recently a trivia quiz was conducted in a school. The score of this quiz for each of the four classrooms is listed below: 'class_1_score' --> 'class_2_score'.\n",
    "\n",
    "#### Request:\n",
    "- Find the descriptive statistics of score for all classes such as: count, standard deviation, minimum, maximum, mean and quartiles.\n",
    "        - Hint-1: Combine all arrays into dataframe, say 'df_class'\n",
    "        - Hint-2: df.describe() \n",
    "- Sort values in 'df_class' by 'class_1_score' in descending order\n",
    "\n",
    "[Note: Create new variables of your choice as needed.]"
   ]
  },
  {
   "cell_type": "code",
   "execution_count": 4,
   "metadata": {},
   "outputs": [],
   "source": [
    "# Exam score for n=50 students in four classrooms:\n",
    "class_1_score = np.random.randint(50,100,50)\n",
    "class_2_score = np.random.randint(90,100,50)\n",
    "class_3_score = np.random.randint(60,100,50)\n",
    "class_4_score = np.random.randint(70,100,50)\n",
    "\n",
    "\n",
    "\n",
    "\n",
    "\n",
    "\n",
    "\n",
    "\n",
    "\n"
   ]
  },
  {
   "cell_type": "code",
   "execution_count": null,
   "metadata": {},
   "outputs": [],
   "source": []
  },
  {
   "cell_type": "markdown",
   "metadata": {},
   "source": [
    "### ////////////////////////////////////////////////////////////////////////////////////////////////////////\n",
    "### ////////////////////////////////////////////////////////////////////////////////////////////////////////\n",
    "### For practice, please try the questions above before looking at the answers below\n",
    "### ////////////////////////////////////////////////////////////////////////////////////////////////////////\n",
    "### ////////////////////////////////////////////////////////////////////////////////////////////////////////"
   ]
  },
  {
   "cell_type": "markdown",
   "metadata": {},
   "source": [
    "# Answers\n",
    "[Note: There may be different ways to answer the same question. Therefore, it is okay if the answers vary and sometimes do not match exactly.]"
   ]
  },
  {
   "cell_type": "code",
   "execution_count": null,
   "metadata": {},
   "outputs": [],
   "source": []
  },
  {
   "cell_type": "code",
   "execution_count": null,
   "metadata": {},
   "outputs": [],
   "source": []
  },
  {
   "cell_type": "markdown",
   "metadata": {},
   "source": [
    "### Question 0:\n",
    "\n",
    "Create a new cell to each of the questions below. \n",
    "- Create a Series 'x', consisting of n=50 random integers from 11 to 46. Find its type, dtype and length\n",
    "- Create a DataFrame 'dfx' with: (i) above Series 'x', and (i) a list of strings or words of your choice. Find its type, dtypes, shape and size. Also, print top 3 and bottom 3 rows of dfx.\n",
    "        - Hint: \n",
    "        list('jbveijfpa') gives --> ['j', 'b', 'v', 'e', 'i', 'j', 'f', 'p', 'a']\n",
    "- Find the indices for 'x' and 'dfx'\n",
    "- Convert the DataFrame 'dfx' to a numpy array and store in variable 'dfx_array'. Find its type, dtype, shape and size.\n",
    "- Transpose 'dfx' and store in variable 'dfx_t'. Find its type, shape and size.\n",
    "\n",
    "\n",
    "\n",
    "Print all answers to output.\n"
   ]
  },
  {
   "cell_type": "code",
   "execution_count": 2,
   "metadata": {
    "scrolled": false
   },
   "outputs": [
    {
     "name": "stdout",
     "output_type": "stream",
     "text": [
      "Answer # 1 --------------------------------------------------------------\n",
      "x:\n",
      " 0     35\n",
      "1     27\n",
      "2     38\n",
      "3     38\n",
      "4     40\n",
      "5     26\n",
      "6     32\n",
      "7     18\n",
      "8     29\n",
      "9     22\n",
      "10    30\n",
      "11    41\n",
      "12    36\n",
      "13    43\n",
      "14    18\n",
      "15    25\n",
      "16    17\n",
      "17    19\n",
      "18    29\n",
      "19    42\n",
      "20    21\n",
      "21    38\n",
      "22    37\n",
      "23    14\n",
      "24    43\n",
      "25    14\n",
      "26    46\n",
      "27    42\n",
      "28    37\n",
      "29    15\n",
      "30    14\n",
      "31    19\n",
      "32    15\n",
      "33    41\n",
      "34    21\n",
      "35    11\n",
      "36    24\n",
      "37    41\n",
      "38    44\n",
      "39    13\n",
      "40    39\n",
      "41    14\n",
      "42    39\n",
      "43    18\n",
      "44    37\n",
      "45    37\n",
      "46    15\n",
      "47    12\n",
      "48    42\n",
      "49    17\n",
      "dtype: int64 \n",
      "\n",
      "type: <class 'pandas.core.series.Series'> \n",
      "dtype: int64 \n",
      "len: 50\n",
      "\n",
      "\n",
      "Answer # 2 --------------------------------------------------------------\n",
      "x_char:\n",
      " ['l', 'k', 's', 'j', 'j', 'l', 'k', 'k', 'j', 'l', 'j', 'd', 'f', 'l', 'l', 'k', 'l', 'k', 'l', 'k', 'l', 'j', 's', 'd', 'i', 'l', 'f', 'j', 's', 'd', 'o', 'f', 'j', 's', 'l', 'd', 'j', 'f', 'l', 'k', 's', 'd', 'f', 'l', 'd', 's', 'j', 'f', 'l', 'd']\n",
      "type: <class 'pandas.core.series.Series'> \n",
      "dtype: int64 \n",
      "len: 50\n",
      "\n",
      "\n",
      "Top 3 rows (i.e. head()):\n",
      "     x x_char\n",
      "0  35      l\n",
      "1  27      k\n",
      "2  38      s\n",
      "\n",
      "\n",
      "Bottom 3 rows (i.e. tail()):\n",
      "      x x_char\n",
      "47  12      f\n",
      "48  42      l\n",
      "49  17      d\n",
      "\n",
      "\n",
      "type: <class 'pandas.core.frame.DataFrame'> \n",
      "dtypes: x          int64\n",
      "x_char    object\n",
      "dtype: object \n",
      "len: 50 \n",
      "shape: (50, 2)\n",
      "\n",
      "\n",
      "Answer # 3 --------------------------------------------------------------\n",
      "x.index: RangeIndex(start=0, stop=50, step=1)\n",
      "dfx.index: RangeIndex(start=0, stop=50, step=1)\n",
      "\n",
      "\n",
      "Answer # 4 --------------------------------------------------------------\n",
      "dfx_array:\n",
      " [[35 'l']\n",
      " [27 'k']\n",
      " [38 's']\n",
      " [38 'j']\n",
      " [40 'j']\n",
      " [26 'l']\n",
      " [32 'k']\n",
      " [18 'k']\n",
      " [29 'j']\n",
      " [22 'l']\n",
      " [30 'j']\n",
      " [41 'd']\n",
      " [36 'f']\n",
      " [43 'l']\n",
      " [18 'l']\n",
      " [25 'k']\n",
      " [17 'l']\n",
      " [19 'k']\n",
      " [29 'l']\n",
      " [42 'k']\n",
      " [21 'l']\n",
      " [38 'j']\n",
      " [37 's']\n",
      " [14 'd']\n",
      " [43 'i']\n",
      " [14 'l']\n",
      " [46 'f']\n",
      " [42 'j']\n",
      " [37 's']\n",
      " [15 'd']\n",
      " [14 'o']\n",
      " [19 'f']\n",
      " [15 'j']\n",
      " [41 's']\n",
      " [21 'l']\n",
      " [11 'd']\n",
      " [24 'j']\n",
      " [41 'f']\n",
      " [44 'l']\n",
      " [13 'k']\n",
      " [39 's']\n",
      " [14 'd']\n",
      " [39 'f']\n",
      " [18 'l']\n",
      " [37 'd']\n",
      " [37 's']\n",
      " [15 'j']\n",
      " [12 'f']\n",
      " [42 'l']\n",
      " [17 'd']]\n",
      "\n",
      "\n",
      "type: <class 'numpy.ndarray'> \n",
      "dtype: object \n",
      "len: 50 \n",
      "shape: (50, 2)\n",
      "\n",
      "\n",
      "Answer # 5 --------------------------------------------------------------\n",
      "dfx_t:         0   1   2   3   4   5   6   7   8   9   ...  40  41  42  43  44  45  \\\n",
      "x       35  27  38  38  40  26  32  18  29  22  ...  39  14  39  18  37  37   \n",
      "x_char   l   k   s   j   j   l   k   k   j   l  ...   s   d   f   l   d   s   \n",
      "\n",
      "        46  47  48  49  \n",
      "x       15  12  42  17  \n",
      "x_char   j   f   l   d  \n",
      "\n",
      "[2 rows x 50 columns]\n",
      "\n",
      "\n",
      "type: <class 'pandas.core.frame.DataFrame'> \n",
      "len: 2 \n",
      "shape: (2, 50)\n",
      "\n",
      "\n"
     ]
    }
   ],
   "source": [
    "# ------- type the answer below this line ------- #\n",
    "\n",
    "print(\"Answer # 1 --------------------------------------------------------------\")\n",
    "### Answer # 1:\n",
    "x = pd.Series(np.random.randint(11,47, 50))\n",
    "print(\"x:\\n\", x, '\\n')\n",
    "print('type:', type(x), '\\ndtype:', x.dtype, '\\nlen:', len(x))\n",
    "print('\\n')\n",
    "\n",
    "print(\"Answer # 2 --------------------------------------------------------------\")\n",
    "### Answer # 2:\n",
    "x_char = list('lksjjlkkjljdfllklklkljsdilfjsdofjsldjflksdfldsjfld')\n",
    "print('x_char:\\n',x_char)\n",
    "print('type:', type(x), '\\ndtype:', x.dtype, '\\nlen:', len(x))\n",
    "print('\\n')\n",
    "\n",
    "# create DataFrame\n",
    "dfx = pd.DataFrame({\n",
    "    'x': x,\n",
    "    'x_char': x_char\n",
    "})\n",
    "\n",
    "print('Top 3 rows (i.e. head()):\\n',dfx.head(3))\n",
    "print('\\n')\n",
    "print('Bottom 3 rows (i.e. tail()):\\n', dfx.tail(3))\n",
    "print('\\n')\n",
    "print('type:', type(dfx), '\\ndtypes:', dfx.dtypes, '\\nlen:', len(dfx), '\\nshape:',dfx.shape)\n",
    "print('\\n')\n",
    "\n",
    "print(\"Answer # 3 --------------------------------------------------------------\")\n",
    "### Answer # 3:\n",
    "print('x.index:',x.index)\n",
    "print('dfx.index:', dfx.index)\n",
    "print('\\n')\n",
    "\n",
    "print(\"Answer # 4 --------------------------------------------------------------\")\n",
    "### Answer # 4:\n",
    "dfx_array = dfx.to_numpy()\n",
    "print('dfx_array:\\n', dfx_array)\n",
    "print('\\n')\n",
    "print('type:', type(dfx_array), '\\ndtype:', dfx_array.dtype, '\\nlen:', len(dfx_array), '\\nshape:',dfx_array.shape)\n",
    "print('\\n')\n",
    "\n",
    "\n",
    "print(\"Answer # 5 --------------------------------------------------------------\")\n",
    "### Answer # 5:\n",
    "dfx_t = dfx.T\n",
    "print(\"dfx_t:\", dfx_t)\n",
    "print('\\n')\n",
    "print('type:', type(dfx_t), '\\nlen:', len(dfx_t), '\\nshape:',dfx_t.shape)\n",
    "print('\\n')\n"
   ]
  },
  {
   "cell_type": "markdown",
   "metadata": {},
   "source": [
    "### Question 1:\n",
    "\n",
    "#### Story\n",
    "Recently a trivia quiz was conducted in a school. The score of this quiz for each of the four classrooms is listed below: 'class_1_score' --> 'class_2_score'.\n",
    "\n",
    "#### Request:\n",
    "- Find the descriptive statistics of score for all classes such as: count, standard deviation, minimum, maximum, mean and quartiles.\n",
    "        - Hint-1: Combine all arrays into dataframe, say 'df_class'\n",
    "        - Hint-2: df.describe() \n",
    "- Sort values in 'df_class' by 'class_1_score' in descending order\n",
    "\n",
    "[Note: Create new variables of your choice as needed.]"
   ]
  },
  {
   "cell_type": "code",
   "execution_count": 3,
   "metadata": {},
   "outputs": [
    {
     "name": "stdout",
     "output_type": "stream",
     "text": [
      "Answer # 1 --------------------------------------------------------------\n",
      "df.head(3):\n",
      "    class_1_score  class_2_score  class_3_score  class_4_score\n",
      "0             55             97             78             97\n",
      "1             64             97             60             93\n",
      "2             86             92             70             99\n",
      "\n",
      "\n",
      "Descriptive statistics:\n",
      "        class_1_score  class_2_score  class_3_score  class_4_score\n",
      "count      50.000000      50.000000      50.000000      50.000000\n",
      "mean       73.260000      94.480000      78.180000      86.780000\n",
      "std        13.622925       2.901372      12.453489       8.490787\n",
      "min        50.000000      90.000000      60.000000      70.000000\n",
      "25%        62.000000      92.000000      69.000000      80.000000\n",
      "50%        73.000000      94.000000      77.000000      86.000000\n",
      "75%        85.250000      97.000000      89.000000      93.750000\n",
      "max        98.000000      99.000000      99.000000      99.000000\n",
      "\n",
      "\n",
      "Answer # 2 --------------------------------------------------------------\n",
      "df_sorted.head(3):\n",
      "     class_1_score  class_2_score  class_3_score  class_4_score\n",
      "25             50             97             74             75\n",
      "22             52             95             65             98\n",
      "33             53             92             97             81\n"
     ]
    }
   ],
   "source": [
    "# Exam score for n=50 students in four classrooms:\n",
    "class_1_score = np.random.randint(50,100,50)\n",
    "class_2_score = np.random.randint(90,100,50)\n",
    "class_3_score = np.random.randint(60,100,50)\n",
    "class_4_score = np.random.randint(70,100,50)\n",
    "\n",
    "\n",
    "\n",
    "# ------- type the answer below this line ------- #\n",
    "\n",
    "\n",
    "print(\"Answer # 1 --------------------------------------------------------------\")\n",
    "### Answer # 1:\n",
    "# Combine Series's into a DataFrame\n",
    "df = pd.DataFrame({\n",
    "    'class_1_score': class_1_score,\n",
    "    'class_2_score': class_2_score,\n",
    "    'class_3_score': class_3_score,\n",
    "    'class_4_score': class_4_score,\n",
    "})\n",
    "\n",
    "print(\"df.head(3):\\n\",df.head(3))\n",
    "print(\"\\n\")\n",
    "\n",
    "print(\"Descriptive statistics:\\n\", df.describe())\n",
    "print(\"\\n\")\n",
    "\n",
    "\n",
    "print(\"Answer # 2 --------------------------------------------------------------\")\n",
    "### Answer # 2:\n",
    "df_sorted = df.sort_values(by='class_1_score')\n",
    "print(\"df_sorted.head(3):\\n\", df_sorted.head(3))\n",
    "\n",
    "\n"
   ]
  },
  {
   "cell_type": "code",
   "execution_count": null,
   "metadata": {},
   "outputs": [],
   "source": []
  },
  {
   "cell_type": "markdown",
   "metadata": {},
   "source": [
    "# Congratulations on completing the exercise!"
   ]
  },
  {
   "cell_type": "markdown",
   "metadata": {},
   "source": [
    "### Hope you enjoyed the questions. Thank you !!!"
   ]
  },
  {
   "cell_type": "markdown",
   "metadata": {},
   "source": [
    "#### Please like, share and subscribe to learndataa \n",
    "-<html>https://www.youtube.com/channel/UCzUpHQAfj3ulmJkTAfBtXLw/</html>"
   ]
  },
  {
   "cell_type": "code",
   "execution_count": 27,
   "metadata": {},
   "outputs": [],
   "source": [
    "#learndataa learndataa learndataa learndataa learndataa learndataa learndataa learndataa learndataa"
   ]
  }
 ],
 "metadata": {
  "kernelspec": {
   "display_name": "Python 3",
   "language": "python",
   "name": "python3"
  },
  "language_info": {
   "codemirror_mode": {
    "name": "ipython",
    "version": 3
   },
   "file_extension": ".py",
   "mimetype": "text/x-python",
   "name": "python",
   "nbconvert_exporter": "python",
   "pygments_lexer": "ipython3",
   "version": "3.7.4"
  }
 },
 "nbformat": 4,
 "nbformat_minor": 2
}
