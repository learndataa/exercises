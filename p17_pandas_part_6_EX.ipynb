{
 "cells": [
  {
   "cell_type": "code",
   "execution_count": 1,
   "metadata": {},
   "outputs": [],
   "source": [
    "#learndataa learndataa learndataa learndataa learndataa learndataa learndataa learndataa learndataa"
   ]
  },
  {
   "cell_type": "markdown",
   "metadata": {},
   "source": [
    "## Exercises"
   ]
  },
  {
   "cell_type": "markdown",
   "metadata": {},
   "source": [
    "### For Beginners: 17. Pandas (Part 6) How to handle duplicate records in Python?"
   ]
  },
  {
   "cell_type": "markdown",
   "metadata": {},
   "source": [
    "#### Total questions sets:  4\n",
    "#### Estimated time required: upto 45 minutes or more (Please take your time to understand and solve the questions.)"
   ]
  },
  {
   "cell_type": "markdown",
   "metadata": {},
   "source": [
    "[Notes: \n",
    "- Answers may be typed after the line \"#-------#\" in each cell. Additional cells may be created if needed.\n",
    "- The estimated time required to complete the exercise may vary depending on your prior knowledge.\n",
    "- Answers to the questions are posted at the end of this worksheet. However, to help you learn, it is suggested that you to try to answer the questions yourself before looking at the answers.\n",
    "]"
   ]
  },
  {
   "cell_type": "markdown",
   "metadata": {},
   "source": [
    "### Import libraries"
   ]
  },
  {
   "cell_type": "code",
   "execution_count": 2,
   "metadata": {},
   "outputs": [],
   "source": [
    "import numpy as np\n",
    "import pandas as pd\n",
    "import matplotlib.pyplot as plt"
   ]
  },
  {
   "cell_type": "code",
   "execution_count": null,
   "metadata": {},
   "outputs": [],
   "source": []
  },
  {
   "cell_type": "markdown",
   "metadata": {},
   "source": [
    "### Question 0:\n",
    "\n",
    "#### Story:\n",
    "A football team is getting ready for a tournament. Initially, they need to select five players based on their performance scores.\n",
    "\n",
    "#### Request:\n",
    "    - Filter the DataFrame to get only the latest scores for each player\n",
    "    [Hint-1: Use .duplicated()\n",
    "    [Hint-2: Use the tilda '~' to select opposite of a condition in boolean mask filter.]\n",
    "    [Hint-3: Use pd.Timestamp('01-22-2020') to convert the 's_date'column to datetime\n",
    "        - football['s_dat'] = football['s_date'].apply(lambda x: pd.Timestamp(x))\n",
    "    [Hint-4: Use .reset_index() and .sort_values() to rearrange the DataFrame.]\n",
    "        - football = football.sort_values(by=['player_id','s_date']).reset_index(drop=True)\n",
    "        - Notice what happens if you do not sort the DataFrame\n",
    "\n",
    "Print all answers to output.\n",
    "\n",
    "\n",
    "[Note: Create new variables of your choice as needed.]\n",
    "\n",
    "\n"
   ]
  },
  {
   "cell_type": "code",
   "execution_count": null,
   "metadata": {},
   "outputs": [],
   "source": [
    "# Football player list\n",
    "football = pd.DataFrame({\n",
    "    'player_id':[100012,100012,100012,100013,100013,100013,100014,100014,100014,100015,100015,100015,100016,100016,100016],\n",
    "    's_date': ['01-29-2020','03-12-2020','02-15-2020','02-25-2020','01-11-2020','03-01-2020','01-20-2020','02-02-2020','03-11-2020','02-12-2020','01-23-2020','03-10-2020','01-09-2020','02-08-2020','03-06-2020'],\n",
    "    'score': [50,55,54,67,58,69,56,45,57,56,67,68,69,67,56]\n",
    "})\n",
    "# ------- type the answer below this line ------- #\n",
    "\n"
   ]
  },
  {
   "cell_type": "markdown",
   "metadata": {},
   "source": [
    "### Question 1:\n",
    "\n",
    "Get the same output as above Q#0 by using .drop_duplicate()\n",
    "\n",
    "Print all answers to output.\n",
    "\n",
    "[Note: Create new variables of your choice as needed.]"
   ]
  },
  {
   "cell_type": "code",
   "execution_count": null,
   "metadata": {},
   "outputs": [],
   "source": [
    "# Football player list\n",
    "football = pd.DataFrame({\n",
    "    'player_id':[100012,100012,100012,100013,100013,100013,100014,100014,100014,100015,100015,100015,100016,100016,100016],\n",
    "    's_date': ['01-29-2020','03-12-2020','02-15-2020','02-25-2020','01-11-2020','03-01-2020','01-20-2020','02-02-2020','03-11-2020','02-12-2020','01-23-2020','03-10-2020','01-09-2020','02-08-2020','03-06-2020'],\n",
    "    'score': [50,55,54,67,58,69,56,45,57,56,67,68,69,67,56]\n",
    "})\n",
    "# ------- type the answer below this line ------- #\n",
    "\n",
    "\n",
    "    \n"
   ]
  },
  {
   "cell_type": "markdown",
   "metadata": {},
   "source": [
    "### Question 2:\n",
    "\n",
    "    - Use the .get() command to get the 'score' of a player at index 10\n",
    "    - Use the .get() command to get the columns 's_date' and 'score'\n",
    "\n",
    "Print all answers to output.\n",
    "\n",
    "[Note: Create new variables of your choice as needed.]"
   ]
  },
  {
   "cell_type": "code",
   "execution_count": 8,
   "metadata": {},
   "outputs": [],
   "source": [
    "# Football player list\n",
    "football = pd.DataFrame({\n",
    "    'player_id':[100012,100012,100012,100013,100013,100013,100014,100014,100014,100015,100015,100015,100016,100016,100016],\n",
    "    's_date': ['01-29-2020','03-12-2020','02-15-2020','02-25-2020','01-11-2020','03-01-2020','01-20-2020','02-02-2020','03-11-2020','02-12-2020','01-23-2020','03-10-2020','01-09-2020','02-08-2020','03-06-2020'],\n",
    "    'score': [50,55,54,67,58,69,56,45,57,56,67,68,69,67,56]\n",
    "})\n",
    "# ------- type the answer below this line ------- #\n",
    "\n",
    "\n",
    "    \n",
    "\n"
   ]
  },
  {
   "cell_type": "code",
   "execution_count": null,
   "metadata": {},
   "outputs": [],
   "source": []
  },
  {
   "cell_type": "markdown",
   "metadata": {},
   "source": [
    "### Question 3:\n",
    "\n",
    "    - Use the .lookup() command to get player_id at index 4, s_date at index 4 and score at index 4\n",
    "    - Use the .lookup() command to get player_id at index 5, s_date at index 6 and score at index 7\n",
    "\n",
    "\n",
    "\n",
    "Print all answers to output.\n",
    "\n",
    "[Note: Create new variables of your choice as needed.]"
   ]
  },
  {
   "cell_type": "code",
   "execution_count": null,
   "metadata": {},
   "outputs": [],
   "source": [
    "# Football player list\n",
    "football = pd.DataFrame({\n",
    "    'player_id':[100012,100012,100012,100013,100013,100013,100014,100014,100014,100015,100015,100015,100016,100016,100016],\n",
    "    's_date': ['01-29-2020','03-12-2020','02-15-2020','02-25-2020','01-11-2020','03-01-2020','01-20-2020','02-02-2020','03-11-2020','02-12-2020','01-23-2020','03-10-2020','01-09-2020','02-08-2020','03-06-2020'],\n",
    "    'score': [50,55,54,67,58,69,56,45,57,56,67,68,69,67,56]\n",
    "})\n",
    "# ------- type the answer below this line ------- #\n",
    "\n",
    "\n",
    "    \n",
    "\n"
   ]
  },
  {
   "cell_type": "code",
   "execution_count": null,
   "metadata": {},
   "outputs": [],
   "source": []
  },
  {
   "cell_type": "markdown",
   "metadata": {},
   "source": [
    "### ////////////////////////////////////////////////////////////////////////////////////////////////////////\n",
    "### ////////////////////////////////////////////////////////////////////////////////////////////////////////\n",
    "### For practice, please try the questions above before looking at the answers below\n",
    "### ////////////////////////////////////////////////////////////////////////////////////////////////////////\n",
    "### ////////////////////////////////////////////////////////////////////////////////////////////////////////"
   ]
  },
  {
   "cell_type": "markdown",
   "metadata": {},
   "source": [
    "# Answers\n",
    "[Note: There may be different ways to answer the same question. Therefore, it is okay if the answers vary and sometimes do not match exactly.]"
   ]
  },
  {
   "cell_type": "code",
   "execution_count": null,
   "metadata": {},
   "outputs": [],
   "source": []
  },
  {
   "cell_type": "markdown",
   "metadata": {},
   "source": [
    "### Question 0:\n",
    "\n",
    "#### Story:\n",
    "A football team is getting ready for a tournament. Initially, they need to select five players based on their performance scores.\n",
    "\n",
    "#### Request:\n",
    "    - Filter the DataFrame to get only the latest scores for each player\n",
    "    [Hint-1: Use .duplicated()\n",
    "    [Hint-2: Use the tilda '~' to select opposite of a condition in boolean mask filter.]\n",
    "    [Hint-3: Use pd.Timestamp('01-22-2020') to convert the 's_date'column to datetime\n",
    "        - football['s_dat'] = football['s_date'].apply(lambda x: pd.Timestamp(x))\n",
    "    [Hint-4: Use .reset_index() and .sort_values() to rearrange the DataFrame.]\n",
    "        - football = football.sort_values(by=['player_id','s_date']).reset_index(drop=True)\n",
    "        - Notice what happens if you do not sort the DataFrame\n",
    "\n",
    "Print all answers to output.\n",
    "\n",
    "\n",
    "[Note: Create new variables of your choice as needed.]\n",
    "\n",
    "\n"
   ]
  },
  {
   "cell_type": "code",
   "execution_count": 4,
   "metadata": {},
   "outputs": [
    {
     "name": "stdout",
     "output_type": "stream",
     "text": [
      "#------------- Answer-1 ----------------------\n"
     ]
    },
    {
     "data": {
      "text/html": [
       "<div>\n",
       "<style scoped>\n",
       "    .dataframe tbody tr th:only-of-type {\n",
       "        vertical-align: middle;\n",
       "    }\n",
       "\n",
       "    .dataframe tbody tr th {\n",
       "        vertical-align: top;\n",
       "    }\n",
       "\n",
       "    .dataframe thead th {\n",
       "        text-align: right;\n",
       "    }\n",
       "</style>\n",
       "<table border=\"1\" class=\"dataframe\">\n",
       "  <thead>\n",
       "    <tr style=\"text-align: right;\">\n",
       "      <th></th>\n",
       "      <th>player_id</th>\n",
       "      <th>s_date</th>\n",
       "      <th>score</th>\n",
       "    </tr>\n",
       "  </thead>\n",
       "  <tbody>\n",
       "    <tr>\n",
       "      <td>2</td>\n",
       "      <td>100012</td>\n",
       "      <td>2020-03-12</td>\n",
       "      <td>55</td>\n",
       "    </tr>\n",
       "    <tr>\n",
       "      <td>5</td>\n",
       "      <td>100013</td>\n",
       "      <td>2020-03-01</td>\n",
       "      <td>69</td>\n",
       "    </tr>\n",
       "    <tr>\n",
       "      <td>8</td>\n",
       "      <td>100014</td>\n",
       "      <td>2020-03-11</td>\n",
       "      <td>57</td>\n",
       "    </tr>\n",
       "    <tr>\n",
       "      <td>11</td>\n",
       "      <td>100015</td>\n",
       "      <td>2020-03-10</td>\n",
       "      <td>68</td>\n",
       "    </tr>\n",
       "    <tr>\n",
       "      <td>14</td>\n",
       "      <td>100016</td>\n",
       "      <td>2020-03-06</td>\n",
       "      <td>56</td>\n",
       "    </tr>\n",
       "  </tbody>\n",
       "</table>\n",
       "</div>"
      ],
      "text/plain": [
       "    player_id     s_date  score\n",
       "2      100012 2020-03-12     55\n",
       "5      100013 2020-03-01     69\n",
       "8      100014 2020-03-11     57\n",
       "11     100015 2020-03-10     68\n",
       "14     100016 2020-03-06     56"
      ]
     },
     "execution_count": 4,
     "metadata": {},
     "output_type": "execute_result"
    }
   ],
   "source": [
    "# Football player list\n",
    "football = pd.DataFrame({\n",
    "    'player_id':[100012,100012,100012,100013,100013,100013,100014,100014,100014,100015,100015,100015,100016,100016,100016],\n",
    "    's_date': ['01-29-2020','03-12-2020','02-15-2020','02-25-2020','01-11-2020','03-01-2020','01-20-2020','02-02-2020','03-11-2020','02-12-2020','01-23-2020','03-10-2020','01-09-2020','02-08-2020','03-06-2020'],\n",
    "    'score': [50,55,54,67,58,69,56,45,57,56,67,68,69,67,56]\n",
    "})\n",
    "# ------- type the answer below this line ------- #\n",
    "\n",
    "\n",
    "print('#------------- Answer-1 ----------------------')\n",
    "# Convert string to date\n",
    "football['s_date'] = football['s_date'].apply(lambda x: pd.Timestamp(x))\n",
    "# Sort \n",
    "football = football.sort_values(by=['player_id','s_date']).reset_index(drop=True)\n",
    "# Create mask\n",
    "mask = football.duplicated('player_id', keep='last')\n",
    "football[~mask]"
   ]
  },
  {
   "cell_type": "markdown",
   "metadata": {},
   "source": [
    "### Question 1:\n",
    "\n",
    "Using the sorted DataFrame from Q#0 above, get the same output as above using .drop_duplicate()\n",
    "\n",
    "Print all answers to output.\n",
    "\n",
    "[Note: Create new variables of your choice as needed.]"
   ]
  },
  {
   "cell_type": "code",
   "execution_count": 7,
   "metadata": {},
   "outputs": [
    {
     "name": "stdout",
     "output_type": "stream",
     "text": [
      "#------------- Answer-1 ----------------------\n"
     ]
    },
    {
     "data": {
      "text/html": [
       "<div>\n",
       "<style scoped>\n",
       "    .dataframe tbody tr th:only-of-type {\n",
       "        vertical-align: middle;\n",
       "    }\n",
       "\n",
       "    .dataframe tbody tr th {\n",
       "        vertical-align: top;\n",
       "    }\n",
       "\n",
       "    .dataframe thead th {\n",
       "        text-align: right;\n",
       "    }\n",
       "</style>\n",
       "<table border=\"1\" class=\"dataframe\">\n",
       "  <thead>\n",
       "    <tr style=\"text-align: right;\">\n",
       "      <th></th>\n",
       "      <th>player_id</th>\n",
       "      <th>s_date</th>\n",
       "      <th>score</th>\n",
       "    </tr>\n",
       "  </thead>\n",
       "  <tbody>\n",
       "    <tr>\n",
       "      <td>2</td>\n",
       "      <td>100012</td>\n",
       "      <td>2020-03-12</td>\n",
       "      <td>55</td>\n",
       "    </tr>\n",
       "    <tr>\n",
       "      <td>5</td>\n",
       "      <td>100013</td>\n",
       "      <td>2020-03-01</td>\n",
       "      <td>69</td>\n",
       "    </tr>\n",
       "    <tr>\n",
       "      <td>8</td>\n",
       "      <td>100014</td>\n",
       "      <td>2020-03-11</td>\n",
       "      <td>57</td>\n",
       "    </tr>\n",
       "    <tr>\n",
       "      <td>11</td>\n",
       "      <td>100015</td>\n",
       "      <td>2020-03-10</td>\n",
       "      <td>68</td>\n",
       "    </tr>\n",
       "    <tr>\n",
       "      <td>14</td>\n",
       "      <td>100016</td>\n",
       "      <td>2020-03-06</td>\n",
       "      <td>56</td>\n",
       "    </tr>\n",
       "  </tbody>\n",
       "</table>\n",
       "</div>"
      ],
      "text/plain": [
       "    player_id     s_date  score\n",
       "2      100012 2020-03-12     55\n",
       "5      100013 2020-03-01     69\n",
       "8      100014 2020-03-11     57\n",
       "11     100015 2020-03-10     68\n",
       "14     100016 2020-03-06     56"
      ]
     },
     "execution_count": 7,
     "metadata": {},
     "output_type": "execute_result"
    }
   ],
   "source": [
    "\n",
    "# ------- type the answer below this line ------- #\n",
    "print('#------------- Answer-1 ----------------------')\n",
    "football.drop_duplicates('player_id', keep='last')\n",
    "    \n"
   ]
  },
  {
   "cell_type": "markdown",
   "metadata": {},
   "source": [
    "### Question 2:\n",
    "\n",
    "    - Use the .get() command to get the 'score' of a player at index 10\n",
    "    - Use the .get() command to get the columns 's_date' and 'score'\n",
    "\n",
    "Print all answers to output.\n",
    "\n",
    "[Note: Create new variables of your choice as needed.]"
   ]
  },
  {
   "cell_type": "code",
   "execution_count": 9,
   "metadata": {},
   "outputs": [
    {
     "name": "stdout",
     "output_type": "stream",
     "text": [
      "#------------- Answer-1 ----------------------\n",
      "'score' of player at index 10 is:  67\n",
      "\n",
      "\n",
      "#------------- Answer-2 ----------------------\n",
      "Columns 'score' and 's_date' are:          s_date  score\n",
      "0   01-29-2020     50\n",
      "1   03-12-2020     55\n",
      "2   02-15-2020     54\n",
      "3   02-25-2020     67\n",
      "4   01-11-2020     58\n",
      "5   03-01-2020     69\n",
      "6   01-20-2020     56\n",
      "7   02-02-2020     45\n",
      "8   03-11-2020     57\n",
      "9   02-12-2020     56\n",
      "10  01-23-2020     67\n",
      "11  03-10-2020     68\n",
      "12  01-09-2020     69\n",
      "13  02-08-2020     67\n",
      "14  03-06-2020     56\n"
     ]
    }
   ],
   "source": [
    "# Football player list\n",
    "football = pd.DataFrame({\n",
    "    'player_id':[100012,100012,100012,100013,100013,100013,100014,100014,100014,100015,100015,100015,100016,100016,100016],\n",
    "    's_date': ['01-29-2020','03-12-2020','02-15-2020','02-25-2020','01-11-2020','03-01-2020','01-20-2020','02-02-2020','03-11-2020','02-12-2020','01-23-2020','03-10-2020','01-09-2020','02-08-2020','03-06-2020'],\n",
    "    'score': [50,55,54,67,58,69,56,45,57,56,67,68,69,67,56]\n",
    "})\n",
    "# ------- type the answer below this line ------- #\n",
    "\n",
    "print('#------------- Answer-1 ----------------------')\n",
    "x = football['score'].get(10)\n",
    "print(\"'score' of player at index 10 is: \", x)\n",
    "print(\"\\n\")    \n",
    "\n",
    "print('#------------- Answer-2 ----------------------')\n",
    "x = football.get(['s_date','score'])\n",
    "print(\"Columns 'score' and 's_date' are: \", x)\n",
    "    \n",
    "\n"
   ]
  },
  {
   "cell_type": "code",
   "execution_count": null,
   "metadata": {},
   "outputs": [],
   "source": []
  },
  {
   "cell_type": "markdown",
   "metadata": {},
   "source": [
    "### Question 3:\n",
    "\n",
    "    - Use the .lookup() command to get player_id at index 4, s_date at index 4 and score at index 4\n",
    "    - Use the .lookup() command to get player_id at index 5, s_date at index 6 and score at index 7\n",
    "\n",
    "\n",
    "\n",
    "Print all answers to output.\n",
    "\n",
    "[Note: Create new variables of your choice as needed.]"
   ]
  },
  {
   "cell_type": "code",
   "execution_count": 10,
   "metadata": {},
   "outputs": [
    {
     "name": "stdout",
     "output_type": "stream",
     "text": [
      "#------------- Answer-1 ----------------------\n",
      "'player_id' at index 4, 's_date' at index 4 and 'score' at index 4:\n",
      " [100013 '01-11-2020' 58]\n",
      "\n",
      "\n",
      "#------------- Answer-2 ----------------------\n",
      "'player_id' at index 5, 's_date' at index 6 and 'score' at index 7:\n",
      " [100013 '01-20-2020' 45]\n"
     ]
    }
   ],
   "source": [
    "# Football player list\n",
    "football = pd.DataFrame({\n",
    "    'player_id':[100012,100012,100012,100013,100013,100013,100014,100014,100014,100015,100015,100015,100016,100016,100016],\n",
    "    's_date': ['01-29-2020','03-12-2020','02-15-2020','02-25-2020','01-11-2020','03-01-2020','01-20-2020','02-02-2020','03-11-2020','02-12-2020','01-23-2020','03-10-2020','01-09-2020','02-08-2020','03-06-2020'],\n",
    "    'score': [50,55,54,67,58,69,56,45,57,56,67,68,69,67,56]\n",
    "})\n",
    "# ------- type the answer below this line ------- #\n",
    "\n",
    "\n",
    "    \n",
    "print('#------------- Answer-1 ----------------------')\n",
    "x = football.lookup([4,4,4],['player_id','s_date','score'])\n",
    "print(\"'player_id' at index 4, 's_date' at index 4 and 'score' at index 4:\\n\", x)\n",
    "print(\"\\n\")    \n",
    "\n",
    "print('#------------- Answer-2 ----------------------')\n",
    "x = football.lookup([5,6,7],['player_id','s_date','score'])\n",
    "print(\"'player_id' at index 5, 's_date' at index 6 and 'score' at index 7:\\n\", x)\n",
    "\n",
    "\n",
    "\n"
   ]
  },
  {
   "cell_type": "code",
   "execution_count": null,
   "metadata": {},
   "outputs": [],
   "source": []
  },
  {
   "cell_type": "code",
   "execution_count": null,
   "metadata": {},
   "outputs": [],
   "source": []
  },
  {
   "cell_type": "code",
   "execution_count": null,
   "metadata": {},
   "outputs": [],
   "source": []
  },
  {
   "cell_type": "markdown",
   "metadata": {},
   "source": [
    "# Congratulations on completing the exercise!"
   ]
  },
  {
   "cell_type": "markdown",
   "metadata": {},
   "source": [
    "### Hope you enjoyed the questions. Thank you !!!"
   ]
  },
  {
   "cell_type": "markdown",
   "metadata": {},
   "source": [
    "#### Please like, share and subscribe to learndataa \n",
    "-<html>https://www.youtube.com/channel/UCzUpHQAfj3ulmJkTAfBtXLw/</html>"
   ]
  },
  {
   "cell_type": "code",
   "execution_count": 27,
   "metadata": {},
   "outputs": [],
   "source": [
    "#learndataa learndataa learndataa learndataa learndataa learndataa learndataa learndataa learndataa"
   ]
  }
 ],
 "metadata": {
  "kernelspec": {
   "display_name": "Python 3",
   "language": "python",
   "name": "python3"
  },
  "language_info": {
   "codemirror_mode": {
    "name": "ipython",
    "version": 3
   },
   "file_extension": ".py",
   "mimetype": "text/x-python",
   "name": "python",
   "nbconvert_exporter": "python",
   "pygments_lexer": "ipython3",
   "version": "3.7.4"
  }
 },
 "nbformat": 4,
 "nbformat_minor": 2
}
