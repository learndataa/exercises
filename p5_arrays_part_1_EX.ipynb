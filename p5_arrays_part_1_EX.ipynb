{
 "cells": [
  {
   "cell_type": "code",
   "execution_count": null,
   "metadata": {},
   "outputs": [],
   "source": [
    "#learndataa learndataa learndataa learndataa learndataa learndataa learndataa learndataa learndataa"
   ]
  },
  {
   "cell_type": "markdown",
   "metadata": {},
   "source": [
    "## Exercises"
   ]
  },
  {
   "cell_type": "markdown",
   "metadata": {},
   "source": [
    "### For Beginners: 5. Arrays (Part I) in Python"
   ]
  },
  {
   "cell_type": "markdown",
   "metadata": {},
   "source": [
    "#### Total questions sets: 6\n",
    "#### Estimated time required: upto 60 minutes"
   ]
  },
  {
   "cell_type": "markdown",
   "metadata": {},
   "source": [
    "[Notes: \n",
    "- Answers may be typed after the line \"#-------#\" in each cell. Additional cells may be created if needed.\n",
    "- The estimated time required to complete the exercise may vary depending on your prior knowledge.\n",
    "- Answers to the questions are posted at the end of this worksheet. However, to help you learn, it is suggested that you to try to answer the questions yourself before looking at the answers.\n",
    "]"
   ]
  },
  {
   "cell_type": "markdown",
   "metadata": {},
   "source": [
    "### Import libraries"
   ]
  },
  {
   "cell_type": "code",
   "execution_count": 1,
   "metadata": {},
   "outputs": [],
   "source": [
    "import numpy as np\n",
    "import pandas as pd"
   ]
  },
  {
   "cell_type": "markdown",
   "metadata": {},
   "source": [
    "### Question 0:\n",
    "- Create any 1-D (i.e. one dimensional) and 2-D array\n",
    "- Create a zeros and ones array for size(3,4)\n",
    "- Create an array of size (5,3) that has value of 999 only\n",
    "- Create a 4x4 array of random floats betwee 0 and 1\n",
    "- Create a 1-D array using .arange(), .linspace() with 5 elements each\n",
    "- Create an array from a list [5.96, 39.94, 22.34]\n",
    "\n",
    "Print all answers to output\n",
    "\n",
    "[Note: Create new variables of your choice as needed.]"
   ]
  },
  {
   "cell_type": "code",
   "execution_count": null,
   "metadata": {},
   "outputs": [],
   "source": [
    "# ------- type the answer below this line ------- #\n",
    "\n"
   ]
  },
  {
   "cell_type": "markdown",
   "metadata": {},
   "source": [
    "### Question # 1:  \n",
    "In the array given:\n",
    "- Find the index for the element of value 2\n",
    "- Find its shape, size, type and dtype\n",
    "- Slice the array to create a 2x2 array with elements 30, 40, 300 and 400\n",
    "- Slice the array to get elements from column at index 2 onwards and all rows\n",
    "- Slice the array to get elements from row at index 1 onwards and all columns\n",
    "- Slice the array to get all columns and only top two rows\n",
    "- Slice the array to get row at index 2 and columns at index 1 and 2 only only\n",
    "\n",
    "Print all answers to output\n",
    "\n",
    "[Note: Create new variables of your choice as needed.]"
   ]
  },
  {
   "cell_type": "code",
   "execution_count": null,
   "metadata": {},
   "outputs": [],
   "source": [
    "a = np.array([[1, 2, 3, 4], [10, 20, 30, 40], [100, 200, 300, 400]])\n",
    "\n",
    "# ------- type the answer below this line ------- #\n",
    "\n"
   ]
  },
  {
   "cell_type": "markdown",
   "metadata": {},
   "source": [
    "### Question # 2: \n",
    "- Compute the elementwise sum of two arrays below\n",
    "- Compute the elementwise multiplication of two arrays below\n",
    "- Use two arrays given to compute an output array np.array([[0.1 , 0.2 ],[0.05, 0.1 ]])\n",
    "\n",
    "Print all answers to output\n",
    "\n",
    "[Note: Create new variables of your choice as needed.]"
   ]
  },
  {
   "cell_type": "code",
   "execution_count": null,
   "metadata": {},
   "outputs": [],
   "source": [
    "p1 = np.array([[1,2], [1,2]])\n",
    "p2 = np.array([[10, 10], [20, 20]])\n",
    "\n",
    "\n",
    "# ------- type the answer below this line ------- #\n",
    "\n",
    "\n"
   ]
  },
  {
   "cell_type": "markdown",
   "metadata": {},
   "source": [
    "### Question # 3:\n",
    "- Find the index for the min and max numbers in the array for axis=0 and axis=1\n",
    "- Create a subset of the array as: np.array([[8,6],[2,11]]) (Hint: use slicing and square root)\n",
    "\n",
    "Print all answers to output\n",
    "\n",
    "[Note: Create new variables of your choice as needed.]"
   ]
  },
  {
   "cell_type": "code",
   "execution_count": null,
   "metadata": {},
   "outputs": [],
   "source": [
    "a = np.array([[1,22,3.4,56,9],\n",
    "              [34,23,64,36,2],\n",
    "              [6,8,4,121,6]\n",
    "             ])\n",
    "\n",
    "# ------- type the answer below this line ------- #\n",
    "\n"
   ]
  },
  {
   "cell_type": "markdown",
   "metadata": {},
   "source": [
    "### Question # 4:\n",
    "Imagine the array given below is the average customer rating data.\n",
    "Here, each column represents day of the week and\n",
    "each row represents the hotel chain in the Sky-city.\n",
    "Assuming that you reach that Sky-city on a Wednesday, \n",
    "which hotel could you find that has the highest customer rating? \n",
    "\n",
    "Rating scale:\n",
    "1(bad) ... to ... 5 (excellent)\n",
    "\n",
    "Print all answers to output\n",
    "\n",
    "[Note: Create new variables of your choice as needed.]"
   ]
  },
  {
   "cell_type": "code",
   "execution_count": null,
   "metadata": {},
   "outputs": [],
   "source": [
    "customer_rating = np.array([\n",
    "    [3.5, 4.9, 2.3, 5.0, 1.0, 3.4, 4.4], # Hotel Panorama\n",
    "    [0.5, 3.9, 1.3, 4.0, 5.0, 4.4, 2.4], # Hotel Galactica\n",
    "    [4.5, 1.9, 3.3, 4.0, 5.0, 3.9, 2.3], # Hotel Noname\n",
    "    [1.1, 3.9, 4.1, 3.9, 4.3, 4.7, 2.1], # Hotel Seaby\n",
    "    [5.0, 5.0, 1.1, 1.1, 2.4, 4.9, 2.3], # Hotel Drive\n",
    "    [4.5, 3.4, 3.3, 4.8, 4.4, 3.3, 3.1], # Hotel Paradise\n",
    "   # Mon. Tue. Wed. Thu. Fri. Sat. Sun  \n",
    "])\n",
    "# ------- type the answer below this line ------- #\n",
    "\n"
   ]
  },
  {
   "cell_type": "markdown",
   "metadata": {},
   "source": [
    "### Question # 5:\n",
    "\n",
    "#### Story:\n",
    "A new business'CrunchyRoads' in the city is in the final stages of a contract with one of five local airports.  \n",
    "The contract would allow CrunchyRoads to get cheaper air-tickets for their employees.\n",
    "They need to choose only one airport. The company also wishes to choose an airport that is closest to their headquarter. Because it would reduce the commute time for their staff and thus reduce travel cost. They have hired you as an analyst to find them a closest airport.\n",
    "\n",
    "#### Your approach:\n",
    "- In the array given below there are latitude and longitude for 5 airports\n",
    "- Column at Index#0 is latitude and Index#1 is longitude [Hint: Here, think of this as x (latitude) and y (longitude) coordinates.]\n",
    "- To calculate the distance between two points (x1,y1) and (x2,y2) the formula is: \n",
    "  - square root of (x2 - x2)**2 + (y2 - y1)**2\n",
    "\n",
    "\n",
    "[Note: Solve without using a 'for loop'.]\n",
    "\n",
    "\n",
    "Print all answers to output.\n",
    "\n",
    "[Note: Create new variables of your choice as needed.]"
   ]
  },
  {
   "cell_type": "code",
   "execution_count": null,
   "metadata": {},
   "outputs": [],
   "source": [
    "airports_xy_cord = np.array([\n",
    "    [10.5, 11.0], # Airport Superfast\n",
    "    [5.9,15.6],   # Airport Timfly\n",
    "    [13.8, 7.7],  # Airport Artsky\n",
    "    [8.0,8.0],    # Airport Whereto\n",
    "    [12.6,2.1]    # Airport Tonowhere\n",
    "   # x.    y. \n",
    "])\n",
    "\n",
    "crunchy_roads_cord = np.array(1,1)\n",
    "\n",
    "# ------- type the answer below this line ------- #\n",
    "\n"
   ]
  },
  {
   "cell_type": "code",
   "execution_count": null,
   "metadata": {},
   "outputs": [],
   "source": []
  },
  {
   "cell_type": "code",
   "execution_count": null,
   "metadata": {},
   "outputs": [],
   "source": []
  },
  {
   "cell_type": "code",
   "execution_count": null,
   "metadata": {},
   "outputs": [],
   "source": []
  },
  {
   "cell_type": "markdown",
   "metadata": {},
   "source": [
    "### ////////////////////////////////////////////////////////////////////////////////////////////////////////\n",
    "### ////////////////////////////////////////////////////////////////////////////////////////////////////////\n",
    "### For practice, please try the questions above before looking at the answers below\n",
    "### ////////////////////////////////////////////////////////////////////////////////////////////////////////\n",
    "### ////////////////////////////////////////////////////////////////////////////////////////////////////////"
   ]
  },
  {
   "cell_type": "markdown",
   "metadata": {},
   "source": [
    "# Answers\n",
    "[Note: There may be different ways to answer the same question. Therefore, it is okay if the answers vary and sometimes do not match exactly.]"
   ]
  },
  {
   "cell_type": "code",
   "execution_count": null,
   "metadata": {},
   "outputs": [],
   "source": []
  },
  {
   "cell_type": "markdown",
   "metadata": {},
   "source": [
    "### Question 0:\n",
    "- Create any 1-D (i.e. one dimensional) and 2-D array\n",
    "- Create a zeros and ones array for size(3,4)\n",
    "- Create an array of size (5,3) that has value of 999 only\n",
    "- Create a 4x4 array of random floats betwee 0 and 1\n",
    "- Create a 1-D array using .arange(), .linspace() with 5 elements each\n",
    "- Create an array from a list [5.96, 39.94, 22.34]\n",
    "\n",
    "Print all answers to output\n",
    "\n",
    "[Note: Create new variables of your choice as needed.]"
   ]
  },
  {
   "cell_type": "code",
   "execution_count": 3,
   "metadata": {},
   "outputs": [
    {
     "name": "stdout",
     "output_type": "stream",
     "text": [
      "1D array:  [1 2 3] \n",
      "\n",
      "Zeros: \n",
      " [[0. 0. 0. 0.]\n",
      " [0. 0. 0. 0.]\n",
      " [0. 0. 0. 0.]] \n",
      " Ones: \n",
      " [[1. 1. 1. 1.]\n",
      " [1. 1. 1. 1.]\n",
      " [1. 1. 1. 1.]] \n",
      "\n",
      "Full:\n",
      " [[999 999 999]\n",
      " [999 999 999]\n",
      " [999 999 999]\n",
      " [999 999 999]\n",
      " [999 999 999]]\n",
      "Random:\n",
      " [[0.74465664 0.94650702]\n",
      " [0.94233833 0.29209361]]\n",
      "\n",
      "\n",
      "arange:\n",
      " [0 1 2 3 4] \n",
      " linspace:\n",
      " [0.   1.25 2.5  3.75 5.  ] \n",
      "\n",
      "List to array:\n",
      " [ 5.96 39.94 22.34]  Type: <class 'numpy.ndarray'>\n"
     ]
    }
   ],
   "source": [
    "# ------- type the answer below this line ------- #\n",
    "\n",
    "# Answer # 1:\n",
    "one_d_array = np.array([1,2,3])\n",
    "print(\"1D array: \", one_d_array, \"\\n\") # Note: \"\\n\" is added to create a new line\n",
    "\n",
    "# Answer # 2:\n",
    "a_zeros = np.zeros((3,4))\n",
    "a_ones = np.ones((3,4))\n",
    "print(\"Zeros: \\n\", a_zeros,\"\\n\", \"Ones: \\n\", a_ones,\"\\n\")\n",
    "\n",
    "# Answer # 3:\n",
    "a_full = np.full((5,3), 999)\n",
    "print(\"Full:\\n\", a_full)\n",
    "\n",
    "# Answer # 4:\n",
    "a_random = np.array(np.random.random((2,2)))\n",
    "print(\"Random:\\n\",a_random)\n",
    "print(\"\\n\") # create a new line\n",
    "\n",
    "\n",
    "# Answer # 5:\n",
    "a_arange = np.array(np.arange(0,5))\n",
    "a_linspace = np.array(np.linspace(0,5,5))\n",
    "print(\"arange:\\n\", a_arange, \"\\n\", \"linspace:\\n\", a_linspace, \"\\n\")\n",
    "\n",
    "# Answer # 6:\n",
    "a_list = [5.96, 39.94, 22.34]\n",
    "a_array = np.array(a_list)\n",
    "print(\"List to array:\\n\", a_array, \" Type:\", type(a_array))"
   ]
  },
  {
   "cell_type": "markdown",
   "metadata": {},
   "source": [
    "### Question # 1:  \n",
    "In the array given:\n",
    "- Find the index for the element of value 2\n",
    "- Find its shape, size, type and dtype\n",
    "- Slice the array to create a 2x2 array with elements 30, 40, 300 and 400\n",
    "- Slice the array to get elements from column at index 2 onwards and all rows\n",
    "- Slice the array to get elements from row at index 1 onwards and all columns\n",
    "- Slice the array to get all columns and only top two rows\n",
    "- Slice the array to get row at index 2 and columns at index 1 and 2 only only\n",
    "\n",
    "Print all answers to output\n",
    "\n",
    "[Note: Create new variables of your choice as needed.]"
   ]
  },
  {
   "cell_type": "code",
   "execution_count": 4,
   "metadata": {},
   "outputs": [
    {
     "name": "stdout",
     "output_type": "stream",
     "text": [
      "Index of element 2 is: a[0,1]\n",
      "\n",
      "\n",
      "Shape: (3, 4)  Size: 12  Type: <class 'numpy.ndarray'>  dtype: int64\n",
      "\n",
      "\n",
      "Array: \n",
      " [[ 30  40]\n",
      " [300 400]]\n",
      "\n",
      "\n",
      "Array for index#2 columns and all rows: \n",
      " [[  3   4]\n",
      " [ 30  40]\n",
      " [300 400]]\n",
      "\n",
      "\n",
      "Array for index#1 row and all columns: \n",
      " [[ 10  20  30  40]\n",
      " [100 200 300 400]]\n",
      "\n",
      "\n",
      "Array with top two rows and all columns: \n",
      " [[ 1  2  3  4]\n",
      " [10 20 30 40]]\n",
      "\n",
      "\n",
      "Array with row at index#2 and columns with index# 1 and 2:\n",
      " [200 300]\n",
      "\n",
      "\n"
     ]
    }
   ],
   "source": [
    "a = np.array([[1, 2, 3, 4], [10, 20, 30, 40], [100, 200, 300, 400]])\n",
    "\n",
    "# ------- type the answer below this line ------- #\n",
    "\n",
    "# Answer # 1:\n",
    "#--> 2 is at row index#0 and column index#1\n",
    "print(\"Index of element 2 is: a[0,1]\")\n",
    "print(\"\\n\")\n",
    "\n",
    "# Answer # 2:\n",
    "a_shape = a.shape\n",
    "a_size = a.size\n",
    "a_type = type(a)\n",
    "a_dtype = a.dtype\n",
    "print(\"Shape:\", a_shape, \" Size:\",a_size, \" Type:\", a_type, \" dtype:\", a_dtype)\n",
    "print(\"\\n\")\n",
    "\n",
    "# Answer # 3:\n",
    "a_new = a[1:, 2:]\n",
    "print('Array: \\n', a_new)\n",
    "print(\"\\n\")\n",
    "\n",
    "# Answer # 4:\n",
    "a_cols = a[:, 2:]\n",
    "print('Array for index#2 columns and all rows: \\n', a_cols)\n",
    "print(\"\\n\")\n",
    "\n",
    "# Answer # 5:\n",
    "a_rows = a[1:, :]\n",
    "print('Array for index#1 row and all columns: \\n', a_rows)\n",
    "print(\"\\n\")\n",
    "\n",
    "# Answer # 6:\n",
    "a_slice = a[0:2,:]\n",
    "print(\"Array with top two rows and all columns: \\n\", a_slice)\n",
    "print(\"\\n\")\n",
    "\n",
    "# Answer # 7:\n",
    "a_slice2 = a[2, 1:3]\n",
    "print(\"Array with row at index#2 and columns with index# 1 and 2:\\n\", a_slice2)\n",
    "print(\"\\n\")"
   ]
  },
  {
   "cell_type": "markdown",
   "metadata": {},
   "source": [
    "### Question # 2: \n",
    "- Compute the elementwise sum of two arrays below\n",
    "- Compute the elementwise multiplication of two arrays below\n",
    "- Use two arrays given to compute an output array np.array([[0.1 , 0.2 ],[0.05, 0.1 ]])\n",
    "\n",
    "Print all answers to output\n",
    "\n",
    "[Note: Create new variables of your choice as needed.]"
   ]
  },
  {
   "cell_type": "code",
   "execution_count": 14,
   "metadata": {},
   "outputs": [
    {
     "name": "stdout",
     "output_type": "stream",
     "text": [
      "Elementwise sum: \n",
      " [[11 12]\n",
      " [21 22]]\n",
      "\n",
      "\n",
      "Elementwise multiplication: \n",
      " [[10 20]\n",
      " [20 40]]\n",
      "\n",
      "\n",
      "Array is: \n",
      " [[0.1  0.2 ]\n",
      " [0.05 0.1 ]]\n"
     ]
    }
   ],
   "source": [
    "p1 = np.array([[1,2], [1,2]])\n",
    "p2 = np.array([[10, 10], [20, 20]])\n",
    "\n",
    "\n",
    "# ------- type the answer below this line ------- #\n",
    "\n",
    "# Answer # 1:\n",
    "a_sum = p1 + p2\n",
    "print(\"Elementwise sum: \\n\", a_sum)\n",
    "print(\"\\n\")\n",
    "\n",
    "# Answer # 2:\n",
    "a_multi = p1 * p2\n",
    "print(\"Elementwise multiplication: \\n\", a_multi)\n",
    "print(\"\\n\")\n",
    "\n",
    "# Answer # 3:\n",
    "a_find = p1 / p2\n",
    "print(\"Array is: \\n\", a_find)"
   ]
  },
  {
   "cell_type": "markdown",
   "metadata": {},
   "source": [
    "### Question # 3:\n",
    "- Find the index for the min and max numbers in the array along axis=0 and axis=1 \n",
    "- Create a subset of the array as: np.array([[8,6],[2,11]]) (Hint: use slicing and square root)\n",
    "\n",
    "Print all answers to output\n",
    "\n",
    "[Note: Create new variables of your choice as needed.]"
   ]
  },
  {
   "cell_type": "code",
   "execution_count": 6,
   "metadata": {},
   "outputs": [
    {
     "name": "stdout",
     "output_type": "stream",
     "text": [
      "For axis=0: Min:  [ 1.   8.   3.4 36.   2. ]  Max: [ 34.  23.  64. 121.   9.] \n",
      "\n",
      "For axis=1: Min:  [1. 2. 4.]  Max: [ 56.  64. 121.]\n",
      "\n",
      "\n",
      "Sliced and square root of array: \n",
      " [[ 8.  6.]\n",
      " [ 2. 11.]]\n"
     ]
    }
   ],
   "source": [
    "a = np.array([[1,22,3.4,56,9],\n",
    "              [34,23,64,36,2],\n",
    "              [6,8,4,121,6]\n",
    "             ])\n",
    "\n",
    "# ------- type the answer below this line ------- #\n",
    "\n",
    "# Answer # 1:\n",
    "a_min_idx_col = a.min(axis=1)\n",
    "a_min_idx_row = a.min(axis=0)\n",
    "a_max_idx_col = a.max(axis=1)\n",
    "a_max_idx_row = a.max(axis=0)\n",
    "print(\"For axis=0: Min: \", a_min_idx_row, \" Max:\", a_max_idx_row, \"\\n\")\n",
    "print(\"For axis=1: Min: \", a_min_idx_col, \" Max:\", a_max_idx_col)\n",
    "print('\\n')\n",
    "\n",
    "# Answer # 2:\n",
    "a_sliced = np.sqrt(a[1:,2:4])\n",
    "print(\"Sliced and square root of array: \\n\", a_sliced)"
   ]
  },
  {
   "cell_type": "markdown",
   "metadata": {},
   "source": [
    "### Question # 4:\n",
    "Imagine the array given below is the average customer rating data.\n",
    "Here, each column represents day of the week and\n",
    "each row represents the hotel chain in the Sky-city.\n",
    "Assuming that you reach that Sky-city on a Wednesday, \n",
    "which hotel could you find that has the highest customer rating? \n",
    "\n",
    "Rating scale:\n",
    "1(bad) ... to ... 5 (excellent)\n",
    "\n",
    "Print all answers to output\n",
    "\n",
    "[Note: Create new variables of your choice as needed.]"
   ]
  },
  {
   "cell_type": "code",
   "execution_count": 7,
   "metadata": {},
   "outputs": [
    {
     "name": "stdout",
     "output_type": "stream",
     "text": [
      "The highest average customer rating on Wednesday is  4.1  for Hotel Seaby.\n"
     ]
    }
   ],
   "source": [
    "customer_rating = np.array([\n",
    "    [3.5, 4.9, 2.3, 5.0, 1.0, 3.4, 4.4], # Hotel Panorama\n",
    "    [0.5, 3.9, 1.3, 4.0, 5.0, 4.4, 2.4], # Hotel Galactica\n",
    "    [4.5, 1.9, 3.3, 4.0, 5.0, 3.9, 2.3], # Hotel Noname\n",
    "    [1.1, 3.9, 4.1, 3.9, 4.3, 4.7, 2.1], # Hotel Seaby\n",
    "    [5.0, 5.0, 1.1, 1.1, 2.4, 4.9, 2.3], # Hotel Drive\n",
    "    [4.5, 3.4, 3.3, 4.8, 4.4, 3.3, 3.1], # Hotel Paradise\n",
    "   # Mon. Tue. Wed. Thu. Fri. Sat. Sun  \n",
    "])\n",
    "# ------- type the answer below this line ------- #\n",
    "a = customer_rating[:,2] # Get the data for Wednesday\n",
    "a_max_rating = a.max() # Get the highest customer rating for Wednesday\n",
    "print(\"The highest average customer rating on Wednesday is \", a_max_rating, \" for Hotel Seaby.\")"
   ]
  },
  {
   "cell_type": "markdown",
   "metadata": {},
   "source": [
    "### Question # 5:\n",
    "\n",
    "#### Story:\n",
    "A new business'CrunchyRoads' in the city is in the final stages of a contract with one of five local airports.  \n",
    "The contract would allow CrunchyRoads to get cheaper air-tickets for their employees.\n",
    "They need to choose only one airport. The company also wishes to choose an airport that is closest to their headquarter. Because it would reduce the commute time for their staff and thus reduce travel cost. They have hired you as an analyst to find them a closest airport.\n",
    "\n",
    "#### Your approach:\n",
    "- In the array given below there are latitude and longitude for 5 airports\n",
    "- Column at Index#0 is latitude and Index#1 is longitude [Hint: Here, think of this as x (latitude) and y (longitude) coordinates.]\n",
    "- To calculate the distance between two points (x1,y1) and (x2,y2) the formula is: \n",
    "  - square root of (x2 - x1)**2 + (y2 - y1)**2\n",
    "  \n",
    "\n",
    "[Note: Solve without using a 'for loop'.]\n",
    "\n",
    "Print all answers to output.\n",
    "\n",
    "[Note: Create new variables of your choice as needed.]"
   ]
  },
  {
   "cell_type": "code",
   "execution_count": 13,
   "metadata": {},
   "outputs": [
    {
     "name": "stdout",
     "output_type": "stream",
     "text": [
      "[13.79311422 15.40032467 14.44749113  9.89949494 11.65203845]\n",
      "Shortest distance is  9.899494936611665 \n",
      "Airport Whereto is closest to headquarter.\n"
     ]
    }
   ],
   "source": [
    "airports_xy_cord = np.array([\n",
    "    [10.5, 11.0], # Airport Superfast\n",
    "    [5.9,15.6],   # Airport Timfly\n",
    "    [13.8, 7.7],  # Airport Artsky\n",
    "    [8.0,8.0],    # Airport Whereto\n",
    "    [12.6,2.1]    # Airport Tonowhere\n",
    "   # x.    y. \n",
    "])\n",
    "\n",
    "crunchy_roads_cord = np.array([1,1]) # Office Headquarter\n",
    "                            #. x y\n",
    "# ------- type the answer below this line ------- #\n",
    "\n",
    "a = (np.subtract(airports_xy_cord, crunchy_roads_cord))**2\n",
    "b = a.sum(axis=1)**0.5\n",
    "print(b)\n",
    "print(\"Shortest distance is \", min(b), \"\\nAirport Whereto is closest to headquarter.\")"
   ]
  },
  {
   "cell_type": "code",
   "execution_count": null,
   "metadata": {},
   "outputs": [],
   "source": []
  },
  {
   "cell_type": "markdown",
   "metadata": {},
   "source": [
    "### Hope you enjoyed the exercise. Thank you !!!"
   ]
  },
  {
   "cell_type": "markdown",
   "metadata": {},
   "source": [
    "#### Please like, share and subscribe to learndataa \n",
    "-<html>https://www.youtube.com/channel/UCzUpHQAfj3ulmJkTAfBtXLw/</html>"
   ]
  },
  {
   "cell_type": "code",
   "execution_count": 27,
   "metadata": {},
   "outputs": [],
   "source": [
    "#learndataa learndataa learndataa learndataa learndataa learndataa learndataa learndataa learndataa"
   ]
  }
 ],
 "metadata": {
  "kernelspec": {
   "display_name": "Python 3",
   "language": "python",
   "name": "python3"
  },
  "language_info": {
   "codemirror_mode": {
    "name": "ipython",
    "version": 3
   },
   "file_extension": ".py",
   "mimetype": "text/x-python",
   "name": "python",
   "nbconvert_exporter": "python",
   "pygments_lexer": "ipython3",
   "version": "3.7.4"
  }
 },
 "nbformat": 4,
 "nbformat_minor": 2
}
