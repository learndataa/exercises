{
 "cells": [
  {
   "cell_type": "code",
   "execution_count": 1,
   "metadata": {},
   "outputs": [],
   "source": [
    "#learndataa learndataa learndataa learndataa learndataa learndataa learndataa learndataa learndataa"
   ]
  },
  {
   "cell_type": "markdown",
   "metadata": {},
   "source": [
    "## Exercises"
   ]
  },
  {
   "cell_type": "markdown",
   "metadata": {},
   "source": [
    "### For Beginners: 16. Pandas (Part 5) isin(), where(), and mask() in Python"
   ]
  },
  {
   "cell_type": "markdown",
   "metadata": {},
   "source": [
    "#### Total questions sets:  4\n",
    "#### Estimated time required: upto 120 minutes or more (Please take your time to understand and solve the questions.)"
   ]
  },
  {
   "cell_type": "markdown",
   "metadata": {},
   "source": [
    "[Notes: \n",
    "- Answers may be typed after the line \"#-------#\" in each cell. Additional cells may be created if needed.\n",
    "- The estimated time required to complete the exercise may vary depending on your prior knowledge.\n",
    "- Answers to the questions are posted at the end of this worksheet. However, to help you learn, it is suggested that you to try to answer the questions yourself before looking at the answers.\n",
    "]"
   ]
  },
  {
   "cell_type": "markdown",
   "metadata": {},
   "source": [
    "### Import libraries"
   ]
  },
  {
   "cell_type": "code",
   "execution_count": 1,
   "metadata": {},
   "outputs": [],
   "source": [
    "import numpy as np\n",
    "import pandas as pd\n",
    "import matplotlib.pyplot as plt"
   ]
  },
  {
   "cell_type": "code",
   "execution_count": null,
   "metadata": {},
   "outputs": [],
   "source": []
  },
  {
   "cell_type": "markdown",
   "metadata": {},
   "source": [
    "### Question 0:\n",
    "\n",
    "#### Story:\n",
    "The DataState lottery is in final stage right now. And you have a ticket number combination is '5588 7334 3540 6288'. If this number matches the numbers drawn from 'mega_millions' you are a winner !!! You are welcome to post your number in the comments section of this video on YouTube!\n",
    "\n",
    "#### Request:\n",
    "    - Write a code using for-loop to re-run the 'draw_num' Series 16 times to draw a total of 16 numbers \n",
    "    - Each time a number is drawn:\n",
    "        - save the drawn number in a new list 'win_comb' \n",
    "        - and also check to see if that number is in your number combination 'my_num'. Print 'Found a match!' if it matches.\n",
    "    - After all the 16 numbers are drawn, check to see if your entire 16-digit combination matches the winning 16-digit combination 'my_num'. Print your number and 'I won mega millions lottery!' if it matches else print 'No match'.\n",
    "\n",
    "    [Mega Hint: By magical powers of random seed, I can see that you could be the winner.]\n",
    "    [Hint: Use .isin()]\n",
    "\n",
    "Print all answers to output.\n",
    "\n",
    "\n",
    "[Note: Create new variables of your choice as needed.]\n",
    "\n",
    "\n"
   ]
  },
  {
   "cell_type": "code",
   "execution_count": null,
   "metadata": {},
   "outputs": [],
   "source": [
    "# Winning number\n",
    "my_num = 5588733435406288\n",
    "\n",
    "# Mega millions draw\n",
    "draw_num = np.random.randint(0, 9, 1)\n",
    "\n",
    "# ------- type the answer below this line ------- #\n",
    "\n"
   ]
  },
  {
   "cell_type": "markdown",
   "metadata": {},
   "source": [
    "### Question 1:\n",
    "\n",
    "#### Story:\n",
    "A geology laboratory is working on a project to map the terrain in Dataland continent. They have stored the names of types of rocks found so far in the DataFrame 'rocks'.\n",
    "\n",
    "#### Request:\n",
    "A member of their team would like to know if:\n",
    "    - the metamorphic rock 'Techtonite' was found\n",
    "    - the sedimentary rock 'Claystone' and 'Oolite' was found\n",
    "    - the igneous rock 'Sovite' and 'Scoria' was found\n",
    "\n",
    "\n",
    "Next, assume that 'rocks' has items arranged in a chronological order. For example: the rocks 'Adakite', 'Argillite' and 'Gneiss' were found at the same time.\n",
    "    - Create a boolean mask using .isin() that checks if 'Anorthosite', 'Breccia', and 'Schist' were found at the same time\n",
    "    [Hint: Create a dictionary to hold the above three names]\n",
    "    - Use this mask to filter the DataFrame 'rocks'\n",
    "    [Hint: use .dropna() to remove rows with all NaN]\n",
    "\n",
    "Print all answers to output.\n",
    "\n",
    "[Note: Create new variables of your choice as needed.]"
   ]
  },
  {
   "cell_type": "code",
   "execution_count": null,
   "metadata": {},
   "outputs": [],
   "source": [
    "\n",
    "rocks = pd.DataFrame({\n",
    "    'igneous': ['Adakite', 'Andesite', 'Anorthosite', 'Basalt', 'Blairmorite'],\n",
    "    'sedimentary':['Argillite', 'Arkose', 'Breccia', 'Chalk', 'Claystone'],\n",
    "    'metamorphic': ['Gneiss', 'Eclogite', 'Schist', 'Tectonite', 'Whiteschist']\n",
    "})\n",
    "\n",
    "# ------- type the answer below this line ------- #\n",
    "\n",
    "    \n"
   ]
  },
  {
   "cell_type": "code",
   "execution_count": null,
   "metadata": {},
   "outputs": [],
   "source": [
    "# ------- type the answer below this line ------- #\n",
    "\n",
    "    \n",
    "    \n",
    "    \n",
    "    "
   ]
  },
  {
   "cell_type": "markdown",
   "metadata": {},
   "source": [
    "### Question 2:\n",
    "\n",
    "The geology team also has a rock repository 'rock_repo' that stores names of the rocks that are available in their laboratory as samples for testing. They would now like to match the 'rocks' found in the Dataland against the 'rock_repo' to find out how many matched. \n",
    "\n",
    "#### Request:\n",
    "    - Match the 'rocks' DataFrame with 'rock_repo' to create a boolean mask of True and False\n",
    "    - Find out how many of the types of rocks found at the site in Dataland already exist in the laboratory repository\n",
    "    - The team needs to replace the name 'Basalt' from the 'rock_repo' with another igneous rock type they found i.e. 'Sovite'. Could you help?\n",
    "\n",
    "\n",
    "Print all answers to output.\n",
    "\n",
    "[Note: Create new variables of your choice as needed.]"
   ]
  },
  {
   "cell_type": "code",
   "execution_count": 8,
   "metadata": {},
   "outputs": [],
   "source": [
    "rock_repo = pd.DataFrame({\n",
    "    'igneous':['Andesite','Alkali feldspar granite','Anorthosite','Aplite','Basalt','Basaltic trachyandesite','Mugearite','Shoshonite','Basanite','Blairmorite','Boninite','Carbonatite','Charnockite','Enderbite','Dacite','Diabase','Diorite','Napoleonite','Dunite','Essexite','Foidolite','Gabbro','Granite','Granodiorite'],\n",
    "    'sedimentary':['Tufa','Turbidite', 'Wackestone', 'Argillite','Arkose','Banded iron formation','Calcarenite','Chalk','Chert','Claystone','Coal','Conglomerate','Coquina','Diamictite','Diatomite','Dolomite','Evaporite','Flint','Geyserite','Greywacke','Gritstone','Itacolumite','Jaspillite','Laterite'],\n",
    "    'metamorphic': ['Anthracite','Amphibolite','Blueschist','Cataclasite','Eclogite','Gneiss','Granulite','Greenschist','Hornfels','Calcflinta','Litchfieldite','Marble','Migmatite','Mylonite','Metapelite','Metapsammite','Phyllite','Pseudotachylite','Quartzite','Schist','Serpentinite','Skarn','Soapstone','Whiteschist']\n",
    "\n",
    "\n",
    "})\n",
    "\n",
    "# ------- type the answer below this line ------- #\n",
    "\n",
    "\n"
   ]
  },
  {
   "cell_type": "code",
   "execution_count": null,
   "metadata": {},
   "outputs": [],
   "source": []
  },
  {
   "cell_type": "markdown",
   "metadata": {},
   "source": [
    "### Question 3:\n",
    "\n",
    "The geology team is now interested to know how many samples do they have in the repository for each rock type that was found in Dataland. This information will help them decide if they need more samples of any specific type of rock for further testing.\n",
    "\n",
    "#### Request\n",
    "    - Using the 'rocks' from Q#1, 'rock_repo' from Q#2 above and 'samples_avail' below, create a bar plot that shows the quantity of samples available for each rock type in 'rocks'.\n",
    "    [Hint: Use .dropna('all') to drop rows that have all NaN]\n",
    "    [Hint: Choose any type of layout that you think conveys the infromation easily. For example: (1) individual bar plot for each rock type, (2) creating 3 subplots, or (3) one plot with all three rock types.\n",
    "    \n",
    "    Note: Add label x-axis, y-axis and the title\n",
    "    \n",
    "    - Filter the DataFrame 'samples_avail' using .where() to keep only those numbers that are at or below 500. Then, using 'rock_repo' plot these rock types using these numbers.\n",
    "\n",
    "\n",
    "Print all answers to output.\n",
    "\n",
    "[Note: Create new variables of your choice as needed.]"
   ]
  },
  {
   "cell_type": "code",
   "execution_count": null,
   "metadata": {},
   "outputs": [],
   "source": [
    "# From Q#1\n",
    "rocks = pd.DataFrame({\n",
    "    'igneous': ['Adakite', 'Andesite', 'Anorthosite', 'Basalt', 'Blairmorite'],\n",
    "    'sedimentary':['Argillite', 'Arkose', 'Breccia', 'Chalk', 'Claystone'],\n",
    "    'metamorphic': ['Gneiss', 'Eclogite', 'Schist', 'Tectonite', 'Whiteschist']\n",
    "})\n",
    "\n",
    "\n",
    "\n",
    "# Rock samples available in laboratory for each type\n",
    "np.random.seed(99)\n",
    "samples_avail = pd.DataFrame({\n",
    "    'igneous': np.random.randint(0,10000, 25),\n",
    "    'sedimentary': np.random.randint(3000,9000,25),\n",
    "    'metamorphic': np.random.randint(1000,5000,25)\n",
    "})\n",
    "\n",
    "# ------- type the answer below this line ------- #\n",
    "\n",
    "\n"
   ]
  },
  {
   "cell_type": "code",
   "execution_count": null,
   "metadata": {},
   "outputs": [],
   "source": []
  },
  {
   "cell_type": "markdown",
   "metadata": {},
   "source": [
    "### ////////////////////////////////////////////////////////////////////////////////////////////////////////\n",
    "### ////////////////////////////////////////////////////////////////////////////////////////////////////////\n",
    "### For practice, please try the questions above before looking at the answers below\n",
    "### ////////////////////////////////////////////////////////////////////////////////////////////////////////\n",
    "### ////////////////////////////////////////////////////////////////////////////////////////////////////////"
   ]
  },
  {
   "cell_type": "markdown",
   "metadata": {},
   "source": [
    "# Answers\n",
    "[Note: There may be different ways to answer the same question. Therefore, it is okay if the answers vary and sometimes do not match exactly.]"
   ]
  },
  {
   "cell_type": "code",
   "execution_count": null,
   "metadata": {},
   "outputs": [],
   "source": []
  },
  {
   "cell_type": "markdown",
   "metadata": {},
   "source": [
    "### Question 0:\n",
    "\n",
    "#### Story:\n",
    "The DataState lottery is in final stage right now. And you have a ticket number combination is '5588 7334 3540 6288'. If this number matches the numbers drawn from 'mega_millions' you are a winner !!! You are welcome to post your number in the comments section of this video on YouTube!\n",
    "\n",
    "#### Request:\n",
    "    - Write a code using for-loop to re-run the 'draw_num' Series 16 times to draw a total of 16 numbers \n",
    "    - Each time a number is drawn:\n",
    "        - save the drawn number in a new list 'win_comb' \n",
    "        - and also check to see if that number is in your number combination 'my_num'. Print 'Found a match!' if it matches.\n",
    "    - After all the 16 numbers are drawn, check to see if your entire 16-digit combination matches the winning 16-digit combination 'my_num'. Print your number and 'I won mega millions lottery!' if it matches else print 'No match'.\n",
    "\n",
    "    [Mega Hint: By magical powers of random seed, I can see that you could be the winner.]\n",
    "\n",
    "Print all answers to output.\n",
    "\n",
    "\n",
    "[Note: Create new variables of your choice as needed.]\n",
    "\n",
    "\n"
   ]
  },
  {
   "cell_type": "code",
   "execution_count": 5,
   "metadata": {},
   "outputs": [
    {
     "name": "stdout",
     "output_type": "stream",
     "text": [
      "#------------- Answer # 1 ----------------\n",
      "Found a match!  5\n",
      "Found a match!  5\n",
      "Found a match!  8\n",
      "Found a match!  8\n",
      "Found a match!  7\n",
      "Found a match!  3\n",
      "Found a match!  3\n",
      "Found a match!  4\n",
      "Found a match!  3\n",
      "Found a match!  5\n",
      "Found a match!  4\n",
      "Found a match!  0\n",
      "Found a match!  6\n",
      "Found a match!  2\n",
      "Found a match!  8\n",
      "Found a match!  8\n",
      "\n",
      "Winning combination is:  5588733435406288\n",
      "My number is:  5588733435406288\n",
      "\n",
      "I won the mega millions lottery!\n"
     ]
    }
   ],
   "source": [
    "# Winning number\n",
    "my_num = 5588733435406288\n",
    "\n",
    "# Mega millions draw\n",
    "draw_num = np.random.randint(0, 9, 1)\n",
    "\n",
    "\n",
    "# ------- type the answer below this line ------- #\n",
    "print('#------------- Answer # 1 ----------------')\n",
    "digits = 16\n",
    "win_comb = []\n",
    "for i in range(digits):\n",
    "    \n",
    "    # Magic power of random seed!\n",
    "    np.random.seed(i)\n",
    "    \n",
    "    # Draw one number\n",
    "    draw_num = np.random.randint(0, 9, 1)\n",
    "\n",
    "    # Save the number in 'win_comb'\n",
    "    win_comb.append(draw_num[0])\n",
    "    \n",
    "    # Check if this number exists in your 'my_num'\n",
    "    draw_num = pd.Series(draw_num)\n",
    "\n",
    "    check = draw_num.isin(list(str(my_num)))\n",
    "    if (check[0]==True):\n",
    "        print('Found a match! ', draw_num[0])\n",
    "\n",
    "win_comb = ''.join(str(i) for i in win_comb)\n",
    "win_comb = int(win_comb)\n",
    "print(\"\\nWinning combination is: \", win_comb)\n",
    "print(\"My number is: \", my_num)\n",
    "\n",
    "# Check to see if your number matches the winning combination\n",
    "if (win_comb==my_num):\n",
    "    print(\"\\nI won the mega millions lottery!\")\n",
    "else:\n",
    "    print(\"\\nNo match.\")\n",
    "###\n",
    "\n"
   ]
  },
  {
   "cell_type": "code",
   "execution_count": null,
   "metadata": {},
   "outputs": [],
   "source": []
  },
  {
   "cell_type": "markdown",
   "metadata": {},
   "source": [
    "### Question 1:\n",
    "\n",
    "#### Story:\n",
    "A geology laboratory is working on a project to map the terrain in Dataland continent. They have stored the names of types of rocks found so far in the DataFrame 'rocks'.\n",
    "\n",
    "#### Request:\n",
    "A member of their team would like to know if:\n",
    "    - the metamorphic rock 'Techtonite' was found\n",
    "    - the sedimentary rock 'Claystone' and 'Oolite' was found\n",
    "    - the igneous rock 'Sovite' and 'Scoria' was found\n",
    "\n",
    "\n",
    "Next, assume that 'rocks' has items arranged in a chronological order. For example: the rocks 'Adakite', 'Argillite' and 'Gneiss' were found at the same time.\n",
    "    - Create a boolean mask using .isin() that checks if 'Anorthosite', 'Breccia', and 'Schist' were found at the same time\n",
    "    [Hint: Create a dictionary to hold the above three names]\n",
    "    - Use this mask to filter the DataFrame 'rocks'\n",
    "    [Hint: use .dropna() to remove rows with all NaN]\n",
    "\n",
    "Print all answers to output.\n",
    "\n",
    "[Note: Create new variables of your choice as needed.]"
   ]
  },
  {
   "cell_type": "code",
   "execution_count": 6,
   "metadata": {},
   "outputs": [
    {
     "name": "stdout",
     "output_type": "stream",
     "text": [
      "#------------- Answer # 1 ----------------\n",
      "['Tectonite']  is in 'rocks':  [ True]\n",
      "['Claystone' 'Oolite']  is in 'rocks':  [ True False]\n",
      "['Sovite' 'Scoria']  is in 'rocks':  [False False]\n"
     ]
    }
   ],
   "source": [
    "\n",
    "rocks = pd.DataFrame({\n",
    "    'igneous': ['Adakite', 'Andesite', 'Anorthosite', 'Basalt', 'Blairmorite'],\n",
    "    'sedimentary':['Argillite', 'Arkose', 'Breccia', 'Chalk', 'Claystone'],\n",
    "    'metamorphic': ['Gneiss', 'Eclogite', 'Schist', 'Tectonite', 'Whiteschist']\n",
    "})\n",
    "\n",
    "# ------- type the answer below this line ------- #\n",
    "\n",
    "print('#------------- Answer # 1 ----------------')\n",
    "# the metamorphic rock 'Tectonite' was found\n",
    "check_m =  pd.Series(['Tectonite'])\n",
    "x = check_m.isin(rocks['metamorphic'])\n",
    "print(check_m.values, \" is in 'rocks': \", x.values)\n",
    "\n",
    "# the sedimentary rock 'Claystone' and 'Oolite' was found\n",
    "check_sd =  pd.Series(['Claystone' , 'Oolite'])\n",
    "y = check_sd.isin(rocks['sedimentary'])\n",
    "print(check_sd.values, \" is in 'rocks': \", y.values)\n",
    "\n",
    "\n",
    "# the igneous rock 'Sovite' and 'Scoria' was found\n",
    "check_ig =  pd.Series(['Sovite' , 'Scoria'])\n",
    "z = check_ig.isin(rocks['igneous'])\n",
    "print(check_ig.values, \" is in 'rocks': \", z.values)\n"
   ]
  },
  {
   "cell_type": "code",
   "execution_count": 4,
   "metadata": {},
   "outputs": [
    {
     "name": "stdout",
     "output_type": "stream",
     "text": [
      "#------------- Answer # 2 ----------------\n"
     ]
    },
    {
     "data": {
      "text/html": [
       "<div>\n",
       "<style scoped>\n",
       "    .dataframe tbody tr th:only-of-type {\n",
       "        vertical-align: middle;\n",
       "    }\n",
       "\n",
       "    .dataframe tbody tr th {\n",
       "        vertical-align: top;\n",
       "    }\n",
       "\n",
       "    .dataframe thead th {\n",
       "        text-align: right;\n",
       "    }\n",
       "</style>\n",
       "<table border=\"1\" class=\"dataframe\">\n",
       "  <thead>\n",
       "    <tr style=\"text-align: right;\">\n",
       "      <th></th>\n",
       "      <th>igneous</th>\n",
       "      <th>sedimentary</th>\n",
       "      <th>metamorphic</th>\n",
       "    </tr>\n",
       "  </thead>\n",
       "  <tbody>\n",
       "    <tr>\n",
       "      <td>2</td>\n",
       "      <td>Anorthosite</td>\n",
       "      <td>Breccia</td>\n",
       "      <td>Schist</td>\n",
       "    </tr>\n",
       "  </tbody>\n",
       "</table>\n",
       "</div>"
      ],
      "text/plain": [
       "       igneous sedimentary metamorphic\n",
       "2  Anorthosite     Breccia      Schist"
      ]
     },
     "execution_count": 4,
     "metadata": {},
     "output_type": "execute_result"
    }
   ],
   "source": [
    "print('#------------- Answer # 2 ----------------')\n",
    "\n",
    "# Create a dictionary\n",
    "rdict = {\n",
    "    'igneous':['Anorthosite'],\n",
    "    'sedimentary':['Breccia'],\n",
    "    'metamorphic':['Schist']\n",
    "}\n",
    "\n",
    "# Create a mask\n",
    "mask = rocks.isin(rdict)\n",
    "\n",
    "# Apply mask to DataFrame\n",
    "matched = rocks[mask==True]\n",
    "\n",
    "# Remove NaN's\n",
    "matched = matched.dropna()\n",
    "matched"
   ]
  },
  {
   "cell_type": "code",
   "execution_count": null,
   "metadata": {},
   "outputs": [],
   "source": []
  },
  {
   "cell_type": "markdown",
   "metadata": {},
   "source": [
    "### Question 2:\n",
    "\n",
    "The geology team also has a rock repository 'rock_repo' that stores names of the rocks that are available in their laboratory as samples for testing. They would now like to match the 'rocks' found in the Dataland against the 'rock_repo' to find out how many matched. \n",
    "\n",
    "#### Request:\n",
    "    - Match the 'rocks' DataFrame with 'rock_repo' to create a boolean mask of True and False\n",
    "    - Find out how many of the types of rocks found at the site in Dataland already exist in the laboratory repository\n",
    "    - The team needs to replace the name 'Basalt' from the 'rock_repo' with another igneous rock type they found i.e. 'Sovite'. Could you help?\n",
    "\n",
    "\n",
    "Print all answers to output.\n",
    "\n",
    "[Note: Create new variables of your choice as needed.]"
   ]
  },
  {
   "cell_type": "code",
   "execution_count": 14,
   "metadata": {},
   "outputs": [
    {
     "name": "stdout",
     "output_type": "stream",
     "text": [
      "#------------- Answer # 1 ----------------\n",
      "Boolean mask:\n",
      "    igneous  sedimentary  metamorphic\n",
      "0    False         True         True\n",
      "1     True         True         True\n",
      "2     True        False         True\n",
      "3     True         True        False\n",
      "4     True         True         True \n",
      "\n",
      "\n",
      "\n",
      "#------------- Answer # 2 ----------------\n",
      "Rocks from Dataland that already exist in laboratory rock repository are:\n"
     ]
    },
    {
     "data": {
      "text/html": [
       "<div>\n",
       "<style scoped>\n",
       "    .dataframe tbody tr th:only-of-type {\n",
       "        vertical-align: middle;\n",
       "    }\n",
       "\n",
       "    .dataframe tbody tr th {\n",
       "        vertical-align: top;\n",
       "    }\n",
       "\n",
       "    .dataframe thead th {\n",
       "        text-align: right;\n",
       "    }\n",
       "</style>\n",
       "<table border=\"1\" class=\"dataframe\">\n",
       "  <thead>\n",
       "    <tr style=\"text-align: right;\">\n",
       "      <th></th>\n",
       "      <th>igneous</th>\n",
       "      <th>sedimentary</th>\n",
       "      <th>metamorphic</th>\n",
       "    </tr>\n",
       "  </thead>\n",
       "  <tbody>\n",
       "    <tr>\n",
       "      <td>0</td>\n",
       "      <td>NaN</td>\n",
       "      <td>Argillite</td>\n",
       "      <td>Gneiss</td>\n",
       "    </tr>\n",
       "    <tr>\n",
       "      <td>1</td>\n",
       "      <td>Andesite</td>\n",
       "      <td>Arkose</td>\n",
       "      <td>Eclogite</td>\n",
       "    </tr>\n",
       "    <tr>\n",
       "      <td>2</td>\n",
       "      <td>Anorthosite</td>\n",
       "      <td>NaN</td>\n",
       "      <td>Schist</td>\n",
       "    </tr>\n",
       "    <tr>\n",
       "      <td>3</td>\n",
       "      <td>Basalt</td>\n",
       "      <td>Chalk</td>\n",
       "      <td>NaN</td>\n",
       "    </tr>\n",
       "    <tr>\n",
       "      <td>4</td>\n",
       "      <td>Blairmorite</td>\n",
       "      <td>Claystone</td>\n",
       "      <td>Whiteschist</td>\n",
       "    </tr>\n",
       "  </tbody>\n",
       "</table>\n",
       "</div>"
      ],
      "text/plain": [
       "       igneous sedimentary  metamorphic\n",
       "0          NaN   Argillite       Gneiss\n",
       "1     Andesite      Arkose     Eclogite\n",
       "2  Anorthosite         NaN       Schist\n",
       "3       Basalt       Chalk          NaN\n",
       "4  Blairmorite   Claystone  Whiteschist"
      ]
     },
     "execution_count": 14,
     "metadata": {},
     "output_type": "execute_result"
    }
   ],
   "source": [
    "rock_repo = pd.DataFrame({\n",
    "    'igneous':['Andesite','Alkali feldspar granite','Anorthosite','Aplite','Basalt','Basaltic trachyandesite','Mugearite','Shoshonite','Basanite','Blairmorite','Boninite','Carbonatite','Charnockite','Enderbite','Dacite','Diabase','Diorite','Napoleonite','Dunite','Essexite','Foidolite','Gabbro','Granite','Granodiorite'],\n",
    "    'sedimentary':['Tufa','Turbidite', 'Wackestone', 'Argillite','Arkose','Banded iron formation','Calcarenite','Chalk','Chert','Claystone','Coal','Conglomerate','Coquina','Diamictite','Diatomite','Dolomite','Evaporite','Flint','Geyserite','Greywacke','Gritstone','Itacolumite','Jaspillite','Laterite'],\n",
    "    'metamorphic': ['Anthracite','Amphibolite','Blueschist','Cataclasite','Eclogite','Gneiss','Granulite','Greenschist','Hornfels','Calcflinta','Litchfieldite','Marble','Migmatite','Mylonite','Metapelite','Metapsammite','Phyllite','Pseudotachylite','Quartzite','Schist','Serpentinite','Skarn','Soapstone','Whiteschist']\n",
    "\n",
    "\n",
    "})\n",
    "\n",
    "# ------- type the answer below this line ------- #\n",
    "\n",
    "print('#------------- Answer # 1 ----------------')\n",
    "\n",
    "ra = rocks.copy()\n",
    "ra['igneous'] = rocks['igneous'].isin(rock_repo['igneous'])\n",
    "ra['sedimentary'] = rocks['sedimentary'].isin(rock_repo['sedimentary'])\n",
    "ra['metamorphic'] = rocks['metamorphic'].isin(rock_repo['metamorphic'])\n",
    "\n",
    "boolean_mask = ra\n",
    "print(\"Boolean mask:\\n\",ra,'\\n')\n",
    "print(\"\\n\")\n",
    "\n",
    "\n",
    "print('#------------- Answer # 2 ----------------')\n",
    "print(\"Rocks from Dataland that already exist in laboratory rock repository are:\")\n",
    "rocks[ra]"
   ]
  },
  {
   "cell_type": "code",
   "execution_count": 15,
   "metadata": {},
   "outputs": [
    {
     "name": "stdout",
     "output_type": "stream",
     "text": [
      "#------------- Answer # 2 ----------------\n"
     ]
    },
    {
     "data": {
      "text/html": [
       "<div>\n",
       "<style scoped>\n",
       "    .dataframe tbody tr th:only-of-type {\n",
       "        vertical-align: middle;\n",
       "    }\n",
       "\n",
       "    .dataframe tbody tr th {\n",
       "        vertical-align: top;\n",
       "    }\n",
       "\n",
       "    .dataframe thead th {\n",
       "        text-align: right;\n",
       "    }\n",
       "</style>\n",
       "<table border=\"1\" class=\"dataframe\">\n",
       "  <thead>\n",
       "    <tr style=\"text-align: right;\">\n",
       "      <th></th>\n",
       "      <th>igneous</th>\n",
       "      <th>sedimentary</th>\n",
       "      <th>metamorphic</th>\n",
       "    </tr>\n",
       "  </thead>\n",
       "  <tbody>\n",
       "    <tr>\n",
       "      <td>0</td>\n",
       "      <td>Adakite</td>\n",
       "      <td>Argillite</td>\n",
       "      <td>Gneiss</td>\n",
       "    </tr>\n",
       "    <tr>\n",
       "      <td>1</td>\n",
       "      <td>Andesite</td>\n",
       "      <td>Arkose</td>\n",
       "      <td>Eclogite</td>\n",
       "    </tr>\n",
       "    <tr>\n",
       "      <td>2</td>\n",
       "      <td>Anorthosite</td>\n",
       "      <td>Breccia</td>\n",
       "      <td>Schist</td>\n",
       "    </tr>\n",
       "    <tr>\n",
       "      <td>3</td>\n",
       "      <td>Sovite</td>\n",
       "      <td>Sovite</td>\n",
       "      <td>Sovite</td>\n",
       "    </tr>\n",
       "    <tr>\n",
       "      <td>4</td>\n",
       "      <td>Blairmorite</td>\n",
       "      <td>Claystone</td>\n",
       "      <td>Whiteschist</td>\n",
       "    </tr>\n",
       "  </tbody>\n",
       "</table>\n",
       "</div>"
      ],
      "text/plain": [
       "       igneous sedimentary  metamorphic\n",
       "0      Adakite   Argillite       Gneiss\n",
       "1     Andesite      Arkose     Eclogite\n",
       "2  Anorthosite     Breccia       Schist\n",
       "3       Sovite      Sovite       Sovite\n",
       "4  Blairmorite   Claystone  Whiteschist"
      ]
     },
     "execution_count": 15,
     "metadata": {},
     "output_type": "execute_result"
    }
   ],
   "source": [
    "print('#------------- Answer # 2 ----------------')\n",
    "\n",
    "rocks['igneous'][rocks['igneous']=='Basalt'] = 'Sovite'\n",
    "rocks"
   ]
  },
  {
   "cell_type": "code",
   "execution_count": null,
   "metadata": {},
   "outputs": [],
   "source": []
  },
  {
   "cell_type": "markdown",
   "metadata": {},
   "source": [
    "### Question 3:\n",
    "\n",
    "The geology team is now interested to know how many samples do they have in the repository for each rock type that was found in Dataland. This information will help them decide if they need more samples of any specific type of rock for further testing.\n",
    "\n",
    "#### Request\n",
    "    - Using the 'rocks' from Q#1, 'rock_repo' from Q#2 above and 'samples_avail' below, create a bar plot that shows the quantity of samples available for each rock type in 'rocks'.\n",
    "    [Hint: Use .dropna('all') to drop rows that have all NaN]\n",
    "    [Hint: Choose any type of layout that you think conveys the infromation easily. For example: (1) individual bar plot for each rock type, (2) creating 3 subplots, or (3) one plot with all three rock types.\n",
    "    \n",
    "    Note: Add label x-axis, y-axis and the title\n",
    "    \n",
    "    - Filter the DataFrame 'samples_avail' using .where() to keep only those numbers that are at or below 500. Then, using 'rock_repo' plot these rock types using these numbers.\n",
    "\n",
    "\n",
    "Print all answers to output.\n",
    "\n",
    "[Note: Create new variables of your choice as needed.]"
   ]
  },
  {
   "cell_type": "code",
   "execution_count": 19,
   "metadata": {},
   "outputs": [],
   "source": [
    "# From Q#1\n",
    "rocks = pd.DataFrame({\n",
    "    'igneous': ['Adakite', 'Andesite', 'Anorthosite', 'Basalt', 'Blairmorite'],\n",
    "    'sedimentary':['Argillite', 'Arkose', 'Breccia', 'Chalk', 'Claystone'],\n",
    "    'metamorphic': ['Gneiss', 'Eclogite', 'Schist', 'Tectonite', 'Whiteschist']\n",
    "})\n",
    "\n",
    "\n",
    "\n",
    "# Rock samples available in laboratory for each type\n",
    "np.random.seed(99)\n",
    "samples_avail = pd.DataFrame({\n",
    "    'igneous': np.random.randint(0,10000, 25),\n",
    "    'sedimentary': np.random.randint(3000,9000,25),\n",
    "    'metamorphic': np.random.randint(1000,5000,25)\n",
    "})\n",
    "\n",
    "# ------- type the answer below this line ------- #\n",
    "\n",
    "# Create a mask to keep only those rocks in rock_repo that are in rocks\n",
    "ra = rock_repo.copy()\n",
    "ra['igneous'] = rock_repo['igneous'].isin(rocks['igneous'])\n",
    "ra['sedimentary'] = rock_repo['sedimentary'].isin(rocks['sedimentary'])\n",
    "ra['metamorphic'] = rock_repo['metamorphic'].isin(rocks['metamorphic'])\n",
    "\n",
    "# Get counts\n",
    "x = rock_repo[ra].dropna(how='all')\n",
    "y = samples_avail[ra].dropna(how='all')\n"
   ]
  },
  {
   "cell_type": "code",
   "execution_count": 20,
   "metadata": {},
   "outputs": [
    {
     "name": "stdout",
     "output_type": "stream",
     "text": [
      "#----------- Plot layout - 1 --------------\n"
     ]
    },
    {
     "data": {
      "image/png": "[encoded data removed]",
      "text/plain": [
       "<Figure size 864x288 with 3 Axes>"
      ]
     },
     "metadata": {
      "needs_background": "light"
     },
     "output_type": "display_data"
    }
   ],
   "source": [
    "print(\"#----------- Plot layout - 1 --------------\")\n",
    "fig = plt.figure(figsize = (12,4))\n",
    "\n",
    "plt.subplot(1,3,1)\n",
    "plt.bar(x['igneous'].dropna(),y['igneous'].dropna())\n",
    "plt.xlabel('Igneous rock type')\n",
    "plt.ylabel('Count')\n",
    "plt.title('Samples available in rock repository')\n",
    "plt.xticks(rotation=90)\n",
    "\n",
    "plt.subplot(1,3,2)\n",
    "plt.bar(x['sedimentary'].dropna(),y['sedimentary'].dropna())\n",
    "plt.xlabel('Sedimentary rock type')\n",
    "plt.ylabel('Count')\n",
    "plt.title('Samples available in rock repository')\n",
    "plt.xticks(rotation=90)\n",
    "\n",
    "plt.subplot(1,3,3)\n",
    "plt.bar(x['metamorphic'].dropna(),y['metamorphic'].dropna())\n",
    "plt.xlabel('Metamorphic rock type')\n",
    "plt.ylabel('Count')\n",
    "plt.title('Samples available in rock repository')\n",
    "plt.xticks(rotation=90)\n",
    "\n",
    "plt.tight_layout()\n",
    "plt.show()\n",
    "\n",
    "\n"
   ]
  },
  {
   "cell_type": "code",
   "execution_count": 21,
   "metadata": {},
   "outputs": [
    {
     "name": "stdout",
     "output_type": "stream",
     "text": [
      "#----------- Plot layout - 2 --------------\n"
     ]
    },
    {
     "data": {
      "image/png": "[encoded data removed]",
      "text/plain": [
       "<Figure size 432x288 with 1 Axes>"
      ]
     },
     "metadata": {
      "needs_background": "light"
     },
     "output_type": "display_data"
    }
   ],
   "source": [
    "print(\"#----------- Plot layout - 2 --------------\")\n",
    "\n",
    "plt.bar(x['igneous'].dropna(),y['igneous'].dropna())\n",
    "plt.bar(x['sedimentary'].dropna(),y['sedimentary'].dropna())\n",
    "plt.bar(x['metamorphic'].dropna(),y['metamorphic'].dropna())\n",
    "\n",
    "plt.xlabel(\"Type of rock\")\n",
    "plt.ylabel(\"Count\")\n",
    "plt.title(\"Samples available in rock repository\")\n",
    "plt.xticks(rotation=90)\n",
    "plt.show()\n",
    "\n",
    "\n"
   ]
  },
  {
   "cell_type": "code",
   "execution_count": 22,
   "metadata": {},
   "outputs": [
    {
     "name": "stdout",
     "output_type": "stream",
     "text": [
      "#----------- Answer#2 --------------\n"
     ]
    },
    {
     "data": {
      "image/png": "[encoded data removed]",
      "text/plain": [
       "<Figure size 432x288 with 1 Axes>"
      ]
     },
     "metadata": {
      "needs_background": "light"
     },
     "output_type": "display_data"
    }
   ],
   "source": [
    "print(\"#----------- Answer#2 --------------\")\n",
    "\n",
    "# Filter samples_avail by <=500\n",
    "snew = samples_avail.copy()\n",
    "#snew[snew>500] = np.nan #<-- alternative - 1\n",
    "snew = snew.where(snew<=500, np.nan)#<-- alternative - 2\n",
    "snew = snew.dropna(how = 'all')\n",
    "\n",
    "# Get x and y for plotting\n",
    "x = rock_repo.loc[[9,10,13], 'igneous']\n",
    "y = snew.loc[[9,10,13], 'igneous']\n",
    "\n",
    "# Create a plot\n",
    "plt.bar(x,y)\n",
    "plt.xlabel(\"Type of rock\")\n",
    "plt.ylabel(\"Count\")\n",
    "plt.title(\"Samples available in rock repository\")\n",
    "plt.xticks(rotation=90)\n",
    "plt.show()\n",
    "\n"
   ]
  },
  {
   "cell_type": "code",
   "execution_count": null,
   "metadata": {},
   "outputs": [],
   "source": []
  },
  {
   "cell_type": "code",
   "execution_count": null,
   "metadata": {},
   "outputs": [],
   "source": []
  },
  {
   "cell_type": "code",
   "execution_count": null,
   "metadata": {},
   "outputs": [],
   "source": []
  },
  {
   "cell_type": "markdown",
   "metadata": {},
   "source": [
    "# Congratulations on completing the exercise!"
   ]
  },
  {
   "cell_type": "markdown",
   "metadata": {},
   "source": [
    "### Hope you enjoyed the questions. Thank you !!!"
   ]
  },
  {
   "cell_type": "markdown",
   "metadata": {},
   "source": [
    "#### Please like, share and subscribe to learndataa \n",
    "-<html>https://www.youtube.com/channel/UCzUpHQAfj3ulmJkTAfBtXLw/</html>"
   ]
  },
  {
   "cell_type": "code",
   "execution_count": 27,
   "metadata": {},
   "outputs": [],
   "source": [
    "#learndataa learndataa learndataa learndataa learndataa learndataa learndataa learndataa learndataa"
   ]
  }
 ],
 "metadata": {
  "kernelspec": {
   "display_name": "Python 3",
   "language": "python",
   "name": "python3"
  },
  "language_info": {
   "codemirror_mode": {
    "name": "ipython",
    "version": 3
   },
   "file_extension": ".py",
   "mimetype": "text/x-python",
   "name": "python",
   "nbconvert_exporter": "python",
   "pygments_lexer": "ipython3",
   "version": "3.7.4"
  }
 },
 "nbformat": 4,
 "nbformat_minor": 2
}
