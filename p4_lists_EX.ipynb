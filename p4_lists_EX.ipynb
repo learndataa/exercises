{
 "cells": [
  {
   "cell_type": "code",
   "execution_count": null,
   "metadata": {},
   "outputs": [],
   "source": [
    "#learndataa learndataa learndataa learndataa learndataa learndataa learndataa learndataa learndataa"
   ]
  },
  {
   "cell_type": "markdown",
   "metadata": {},
   "source": [
    "## Exercises"
   ]
  },
  {
   "cell_type": "markdown",
   "metadata": {},
   "source": [
    "### For Beginners: 4. Lists in Python"
   ]
  },
  {
   "cell_type": "markdown",
   "metadata": {},
   "source": [
    "#### Total questions: 6\n",
    "#### Estimated time required: upto 60 minutes"
   ]
  },
  {
   "cell_type": "markdown",
   "metadata": {},
   "source": [
    "[Notes: \n",
    "- Answers may be typed after the line \"#-------#\" in each cell. Additional cells may be created if needed.\n",
    "- The estimated time required to complete the exercise may vary depending on your prior knowledge.\n",
    "- Answers to the questions are posted at the end of this worksheet. However, to help you learn, it is suggested that you to try to answer the questions yourself before looking at the answers.\n",
    "]"
   ]
  },
  {
   "cell_type": "markdown",
   "metadata": {},
   "source": [
    "### Import libraries"
   ]
  },
  {
   "cell_type": "code",
   "execution_count": 1,
   "metadata": {},
   "outputs": [],
   "source": [
    "import numpy as np"
   ]
  },
  {
   "cell_type": "markdown",
   "metadata": {},
   "source": [
    "### Question 0:\n",
    "Use list 'x' for this question:\n",
    "- Find the length of list 'x'\n",
    "- Find the element at index = 3\n",
    "- Find the negative index for the element 88\n",
    "\n",
    "Print all answers to output\n",
    "\n",
    "[Note: Create new variables of your choice as needed.]"
   ]
  },
  {
   "cell_type": "code",
   "execution_count": null,
   "metadata": {},
   "outputs": [],
   "source": [
    "x = [34,33.6,32.1, 88,5, 76, 54.9,23]\n",
    "\n",
    "# ------- type the answer below this line ------- #\n",
    "\n"
   ]
  },
  {
   "cell_type": "markdown",
   "metadata": {},
   "source": [
    "### Question # 1:  \n",
    "Use list 'm' for this question.\n",
    "- Slice the list to get a new list [22.1, 998, 5, 45.34] in output\n",
    "- Slice the list get all elements from 31.9 onwards\n",
    "\n",
    "Print all answers to output\n",
    "\n",
    "[Note: Create new variables of your choice as needed.]"
   ]
  },
  {
   "cell_type": "code",
   "execution_count": null,
   "metadata": {},
   "outputs": [],
   "source": [
    "m = [94,43.6,22.1, 998,5, 45.34, 31.9,63,76,34]\n",
    "\n",
    "# ------- type the answer below this line ------- #\n",
    "\n"
   ]
  },
  {
   "cell_type": "markdown",
   "metadata": {},
   "source": [
    "### Question # 2: \n",
    "Use list 's' for this question:\n",
    "- Find the sum of all elements in list\n",
    "- Find the sum of last three elements in the list\n",
    "- Find the middle element in the list\n",
    "\n",
    "Print all answers to output\n",
    "\n",
    "[Note: Create new variables of your choice as needed.]"
   ]
  },
  {
   "cell_type": "code",
   "execution_count": null,
   "metadata": {},
   "outputs": [],
   "source": [
    "s = [1,2,3,4,5,67,43,25,5,6,7,12.2]\n",
    "\n",
    "\n",
    "# ------- type the answer below this line ------- #\n",
    "\n",
    "\n"
   ]
  },
  {
   "cell_type": "markdown",
   "metadata": {},
   "source": [
    "### Question # 3:\n",
    "Use list p and q for this question\n",
    "- Append the two lists and store it in a variable 'new_list'\n",
    "- Then use a 'for loop' to square all elements of the list\n",
    "- Append a number 999 to the new_list\n",
    "- Extend the squared_list using the list p\n",
    "\n",
    "\n",
    "Print all answers to output\n",
    "\n",
    "[Note: Create new variables of your choice as needed.]"
   ]
  },
  {
   "cell_type": "code",
   "execution_count": null,
   "metadata": {},
   "outputs": [],
   "source": [
    "p = [1,2,3,4,5]\n",
    "q = [6,7,8,9,10]\n",
    "new_list = [] # initialize an empty list\n",
    "\n",
    "# ------- type the answer below this line ------- #\n",
    "\n",
    "new_list = \n",
    "\n",
    "squared_list = "
   ]
  },
  {
   "cell_type": "markdown",
   "metadata": {},
   "source": [
    "### Question # 4:\n",
    "Use list 'animals' for this question.\n",
    "- Print all animal names from the list\n",
    "- Print both the name and index number of the animal names from the list using 'for loop'\n",
    "- Insert animal name 'puppy' immediately after 'dog'\n",
    "- Then, remove animals 'deer' and 'elephant' from the list\n",
    "\n",
    "\n",
    "Print all answers to output\n",
    "\n",
    "[Note: Create new variables of your choice as needed.]"
   ]
  },
  {
   "cell_type": "code",
   "execution_count": null,
   "metadata": {},
   "outputs": [],
   "source": [
    "animals = ['cat', 'dog', 'horse', 'deer', 'elephant']\n",
    "\n",
    "# ------- type the answer below this line ------- #\n",
    "\n"
   ]
  },
  {
   "cell_type": "markdown",
   "metadata": {},
   "source": [
    "### Question # 5:\n",
    "Use list 'numbers' for this question.\n",
    "- Use list comprehension to multiply all the elements of the list by 1000\n",
    "- Sort the list in descending order\n",
    "- Now reverse the list [Hint: Use .reverse()]\n",
    "- Create a copy of this reversed list into a new variable 'new_numbers'\n",
    "- Clear the list new_numbers\n",
    "\n",
    "Print all answers to output.\n",
    "\n",
    "[Note: Create new variables of your choice as needed.]"
   ]
  },
  {
   "cell_type": "code",
   "execution_count": null,
   "metadata": {},
   "outputs": [],
   "source": [
    "numbers = [60, 10, 70, 20, 30, 40, 50]\n",
    "\n",
    "# ------- type the answer below this line ------- #\n",
    "\n"
   ]
  },
  {
   "cell_type": "code",
   "execution_count": null,
   "metadata": {},
   "outputs": [],
   "source": []
  },
  {
   "cell_type": "code",
   "execution_count": null,
   "metadata": {},
   "outputs": [],
   "source": []
  },
  {
   "cell_type": "code",
   "execution_count": null,
   "metadata": {},
   "outputs": [],
   "source": []
  },
  {
   "cell_type": "markdown",
   "metadata": {},
   "source": [
    "### ////////////////////////////////////////////////////////////////////////////////////////////////////////\n",
    "### ////////////////////////////////////////////////////////////////////////////////////////////////////////\n",
    "### For practice, please try the questions above before looking at the answers below\n",
    "### ////////////////////////////////////////////////////////////////////////////////////////////////////////\n",
    "### ////////////////////////////////////////////////////////////////////////////////////////////////////////"
   ]
  },
  {
   "cell_type": "markdown",
   "metadata": {},
   "source": [
    "# Answers\n",
    "[Note: There may be different ways to answer the same question. Therefore, it is okay if the answers vary and sometimes do not match exactly.]"
   ]
  },
  {
   "cell_type": "code",
   "execution_count": null,
   "metadata": {},
   "outputs": [],
   "source": []
  },
  {
   "cell_type": "markdown",
   "metadata": {},
   "source": [
    "### Question 0:\n",
    "Use list 'x' for this question:\n",
    "- Find the length of list 'x'\n",
    "- Find the element at index = 3\n",
    "- Find the negative index for the element 88\n",
    "\n",
    "Print all answers to output\n",
    "\n",
    "[Note: Create new variables of your choice as needed.]"
   ]
  },
  {
   "cell_type": "code",
   "execution_count": null,
   "metadata": {},
   "outputs": [],
   "source": [
    "x = [34,33.6,32.1, 88,5, 76, 54.9,23]\n",
    "\n",
    "# ------- type the answer below this line ------- #\n",
    "\n",
    "# Answer # 1:\n",
    "length_x = len(x)\n",
    "print(\"Length of list = \", length_x)\n",
    "\n",
    "# Answer # 2:\n",
    "e_idx = x[3]\n",
    "print(\"Element at index 3 is: \", e_idx)\n",
    "\n",
    "# Answer # 3:\n",
    "n_idx = x[-5]\n",
    "print(\"Negative index of element 88 is: \", n_idx)"
   ]
  },
  {
   "cell_type": "markdown",
   "metadata": {},
   "source": [
    "### Question # 1:  \n",
    "Use list 'm' for this question.\n",
    "- Slice the list to get a new list [22.1, 998, 5, 45.34] in output\n",
    "- Slice the list get all elements from 31.9 onwards (including 31.9)\n",
    "\n",
    "[Note: Create new variables of your choice as needed.]"
   ]
  },
  {
   "cell_type": "code",
   "execution_count": null,
   "metadata": {},
   "outputs": [],
   "source": [
    "m = [94,43.6,22.1, 998,5, 45.34, 31.9,63,76,34]\n",
    "\n",
    "# ------- type the answer below this line ------- #\n",
    "\n",
    "# Answer # 1:\n",
    "m_slice_1 = m[2:6]\n",
    "print(\"Sliced output: \", m_slice_1)\n",
    "\n",
    "# Answer # 2:\n",
    "m_slice_2 = m[6:]\n",
    "print(\"Sliced output: \", m_slice_2)"
   ]
  },
  {
   "cell_type": "markdown",
   "metadata": {},
   "source": [
    "### Question # 2: \n",
    "Use list 's' for this question:\n",
    "- Find the sum of all elements in list\n",
    "- Find the sum of last three elements in the list\n",
    "- Find the middle two element in the list\n",
    "\n",
    "[Note: Create new variables of your choice as needed.]"
   ]
  },
  {
   "cell_type": "code",
   "execution_count": null,
   "metadata": {},
   "outputs": [],
   "source": [
    "s = [1,2,3,4,5,67,43,25,5,6,7,12.2]\n",
    "\n",
    "\n",
    "# ------- type the answer below this line ------- #\n",
    "\n",
    "# Answer # 1:\n",
    "s_sum = np.sum(s)\n",
    "print(\"Sum of elements in the list: \", s_sum)\n",
    "\n",
    "# Answer # 2:\n",
    "s1 = s[-3:]\n",
    "print(\"Sum of last 3 elements in the list: \", s1_sum)\n",
    "\n",
    "# Answer # 3:\n",
    "length = len(s)\n",
    "mid_index_1 = int(length/2)\n",
    "mid_index_2 = mid_index_1 + 1\n",
    "s2 = s[mid_index_1 : mid_index_2 + 1] \n",
    "print(\"Middle two elements are: \", s2)\n",
    "\n"
   ]
  },
  {
   "cell_type": "markdown",
   "metadata": {},
   "source": [
    "### Question # 3:\n",
    "Use list p and q for this question\n",
    "- Join or concatenate the two lists and store it in a variable 'new_list'\n",
    "- Then use a 'for loop' to square all elements of the list\n",
    "- Append a number 999 to the new_list\n",
    "- Extend the squared_list using the list p\n",
    "\n",
    "[Note: Create new variables of your choice as needed.]"
   ]
  },
  {
   "cell_type": "code",
   "execution_count": null,
   "metadata": {},
   "outputs": [],
   "source": [
    "p = [1,2,3,4,5]\n",
    "q = [6,7,8,9,10]\n",
    "new_list = [] # initialize an empty list\n",
    "\n",
    "# ------- type the answer below this line ------- #\n",
    "\n",
    "# Answer # 1:\n",
    "new_list = p + q\n",
    "print(\"Concatenated list: \", new_list)\n",
    "\n",
    "# Answer # 2:\n",
    "squared_list = [] # initialize an empty list\n",
    "for i in new_list:\n",
    "    squared_list.append(i**2)\n",
    "print(\"Squared list: \", squared_list)\n",
    "    \n",
    "# Answer # 3:\n",
    "new_list.append(999)\n",
    "print(\"Appended new_list: \", new_list)\n",
    "\n",
    "# Ansewr # 4:\n",
    "extended_list = squared_list.extend(p)\n",
    "print(\"Extended list: \", extended_list)"
   ]
  },
  {
   "cell_type": "markdown",
   "metadata": {},
   "source": [
    "### Question # 4:\n",
    "Use list 'animals' for this question.\n",
    "- Print all animal names from the list\n",
    "- Print both the name and index number of the animal names from the list using 'for loop'\n",
    "- Insert animal name 'puppy' immediately after 'dog'\n",
    "- Then, remove animals 'deer' and 'elephant' from the list"
   ]
  },
  {
   "cell_type": "code",
   "execution_count": null,
   "metadata": {},
   "outputs": [],
   "source": [
    "animals = ['cat', 'dog', 'horse', 'deer', 'elephant']\n",
    "\n",
    "# ------- type the answer below this line ------- #\n",
    "\n",
    "# Answer # 1:\n",
    "for animal in animals:\n",
    "    print(\"Animal is :\", animal,)\n",
    "print('\\n')\n",
    "\n",
    "# Answer # 2:\n",
    "for index, animal in enumerate(animals):\n",
    "    print(\"Index# \", index, \"; Animal: \", animal)\n",
    "print('\\n')\n",
    "    \n",
    "# Answer # 3:\n",
    "animals.insert(2, 'puppy')\n",
    "print(\"Added puppy to list: \", animals, '\\n')\n",
    "\n",
    "# Answer # 4:\n",
    "remove_items = ['deer', 'elephant']\n",
    "for animal in remove_items:\n",
    "    animals.remove(animal)\n",
    "print(\"List after remove: \", animals, '\\n')\n"
   ]
  },
  {
   "cell_type": "markdown",
   "metadata": {},
   "source": [
    "### Question # 5:\n",
    "Use list 'numbers' for this question.\n",
    "- Use list comprehension to multiply all the elements of the list by 1000\n",
    "- Sort the list in descending order\n",
    "- Now reverse the list [Hint: Use .reverse()]\n",
    "- Create a copy of this reversed list into a new variable 'new_numbers'\n",
    "- Clear the list new_numbers"
   ]
  },
  {
   "cell_type": "code",
   "execution_count": null,
   "metadata": {},
   "outputs": [],
   "source": [
    "numbers = [60, 10, 70, 20, 30, 40, 50]\n",
    "\n",
    "# ------- type the answer below this line ------- #\n",
    "\n",
    "# Answer # 1:\n",
    "new_list = [n*1000 for n in numbers]\n",
    "print(\"numbers: \", nn)\n",
    "print(\"\\n\")\n",
    "\n",
    "# Answer # 2:\n",
    "new_list.sort(reverse=True)\n",
    "print(\"Sorted numbers list: \", new_list)\n",
    "print(\"\\n\")\n",
    "\n",
    "# Answer # 3:\n",
    "new_list.reverse()\n",
    "print(\"Reverse the sorted numbers list: \", new_list)\n",
    "print(\"\\n\")\n",
    "\n",
    "# Answer # 4:\n",
    "new_numbers = new_list.copy()\n",
    "print(\"Created copy in new_numbers: \", new_numbers)\n",
    "print(\"\\n\")\n",
    "\n",
    "# Answer # 5:\n",
    "new_numbers.clear()\n",
    "print(\"Cleared new_numbers list: \", new_numbers)\n",
    "print(\"\\n\")"
   ]
  },
  {
   "cell_type": "code",
   "execution_count": null,
   "metadata": {},
   "outputs": [],
   "source": []
  },
  {
   "cell_type": "markdown",
   "metadata": {},
   "source": [
    "### Hope you enjoyed the exercise. Thank you !!!"
   ]
  },
  {
   "cell_type": "markdown",
   "metadata": {},
   "source": [
    "#### Please like, share and subscribe to learndataa \n",
    "-<html>https://www.youtube.com/channel/UCzUpHQAfj3ulmJkTAfBtXLw/</html>"
   ]
  },
  {
   "cell_type": "code",
   "execution_count": 27,
   "metadata": {},
   "outputs": [],
   "source": [
    "#learndataa learndataa learndataa learndataa learndataa learndataa learndataa learndataa learndataa"
   ]
  }
 ],
 "metadata": {
  "kernelspec": {
   "display_name": "Python 3",
   "language": "python",
   "name": "python3"
  },
  "language_info": {
   "codemirror_mode": {
    "name": "ipython",
    "version": 3
   },
   "file_extension": ".py",
   "mimetype": "text/x-python",
   "name": "python",
   "nbconvert_exporter": "python",
   "pygments_lexer": "ipython3",
   "version": "3.7.4"
  }
 },
 "nbformat": 4,
 "nbformat_minor": 2
}
