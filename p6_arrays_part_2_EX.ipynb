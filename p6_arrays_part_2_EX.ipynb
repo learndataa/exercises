{
 "cells": [
  {
   "cell_type": "code",
   "execution_count": null,
   "metadata": {},
   "outputs": [],
   "source": [
    "#learndataa learndataa learndataa learndataa learndataa learndataa learndataa learndataa learndataa"
   ]
  },
  {
   "cell_type": "markdown",
   "metadata": {},
   "source": [
    "## Exercises"
   ]
  },
  {
   "cell_type": "markdown",
   "metadata": {},
   "source": [
    "### For Beginners: 6. Arrays (Part II) in Python"
   ]
  },
  {
   "cell_type": "markdown",
   "metadata": {},
   "source": [
    "#### Total questions sets: 6\n",
    "#### Estimated time required: upto 120 minutes or more (Please take your time to understand and solve the questions.)"
   ]
  },
  {
   "cell_type": "markdown",
   "metadata": {},
   "source": [
    "[Notes: \n",
    "- Answers may be typed after the line \"#-------#\" in each cell. Additional cells may be created if needed.\n",
    "- The estimated time required to complete the exercise may vary depending on your prior knowledge.\n",
    "- Answers to the questions are posted at the end of this worksheet. However, to help you learn, it is suggested that you to try to answer the questions yourself before looking at the answers.\n",
    "]"
   ]
  },
  {
   "cell_type": "markdown",
   "metadata": {},
   "source": [
    "### Import libraries"
   ]
  },
  {
   "cell_type": "code",
   "execution_count": 2,
   "metadata": {},
   "outputs": [],
   "source": [
    "import numpy as np\n",
    "import pandas as pd"
   ]
  },
  {
   "cell_type": "markdown",
   "metadata": {},
   "source": [
    "### Question 0:\n",
    "\n",
    "#### Story:\n",
    "Our friend at MagicApples fruit store has given the data below for their weekly orders.\n",
    "The store sells mangoes, apples, oranges and bananas.\n",
    "- In the array 'fruits', the rows indicate day-of-week.\n",
    "Whereas, columns indicate time during the day such as: morning, afternoon, evening and night\n",
    " - For example: On Monday morning they sell mangoes\n",
    "- The array 'orders' is similar to fruits. It has weekly count of number of orders for each type of fruit.\n",
    " - For example: On Monday morning they sell '90' fruits.\n",
    "- Together arrays 'fruits' and 'orders' tell number of orders i.e. fruits sold for each type of fruit.\n",
    " - For example: On Monday morning they sell '90' fruits that are 'mangoes'.\n",
    "\n",
    "#### Requests:\n",
    "- Use boolean conditions to filter the array 'fruits' to include only 'apples' in the output. The length of that output array would tell how many times during a week the store sells apples. So how many times was it?\n",
    "- Using boolean conditions find the time of day when the orders are lowest on a Thursday.\n",
    "- Using the array 'order' find the day-of-week, that has highest number of orders in total.\n",
    "- Using the array 'order find the time of day that has the lowest orders in total.\n",
    "\n",
    "Print all answers to output\n",
    "\n",
    "[Note: Create new variables of your choice as needed.]"
   ]
  },
  {
   "cell_type": "code",
   "execution_count": null,
   "metadata": {},
   "outputs": [],
   "source": [
    "fruits = np.array([['mangoes', 'apples', 'oranges', 'bananas'], # Monday\n",
    "                   ['apples', 'apples', 'mangoes', 'bananas'],  # Tuesday\n",
    "                   ['oranges', 'oranges', 'bananas', 'mangoes'],# Wednesday\n",
    "                   ['apples', 'apples', 'mangoes', 'mangoes'],   # Thursday\n",
    "                   ['mangoes', 'apples', 'oranges', 'bananas'], # Friday\n",
    "                   ['apples', 'apples', 'mangoes', 'bananas'],  # Saturday\n",
    "                   ['oranges', 'oranges', 'bananas', 'mangoes'] # Sunday\n",
    "              #.  morning(m). afternoon(a) evening(e). night(n)\n",
    "             ])\n",
    "\n",
    "order = np.array([[90,100,20,80], # Monday\n",
    "                   [80,110,30,90], # Tuesday\n",
    "                   [120,90,34,82], # Wednesday\n",
    "                   [99,130,10,92], # Thursday\n",
    "                   [94,112,23,96], # Friday\n",
    "                   [88,101,29,89], # Saturday\n",
    "                   [76,85,35,100]  # Sunday\n",
    "                #  (m)(a) (e)(n)\n",
    "                  ])\n",
    "\n",
    "# ------- type the answer below this line ------- #\n",
    "\n"
   ]
  },
  {
   "cell_type": "markdown",
   "metadata": {},
   "source": [
    "### Question # 1:  \n",
    "Please use the same arrays from Question#0, here.\n",
    "\n",
    "Our friend at MagicApples would like to know:\n",
    "- How many times in a week does the store sell mangoes? (Hint: Use the fruits array)\n",
    "- On weekends (i.e. Saturday and Sunday), what is the ranking of the fruits ordered i.e. which fruit sold highest to lowest? (Hint: Use indexing)\n",
    "- Are the orange orders especially low certain time of the day?\n",
    "\n",
    "Print all answers to output\n",
    "\n",
    "[Note: Create new variables of your choice as needed.]"
   ]
  },
  {
   "cell_type": "code",
   "execution_count": null,
   "metadata": {},
   "outputs": [],
   "source": [
    "# Use the arrays 'fruits' and 'orders' from Question#0 above.\n",
    "\n",
    "# ------- type the answer below this line ------- #\n",
    "\n"
   ]
  },
  {
   "cell_type": "markdown",
   "metadata": {},
   "source": [
    "### Question # 2: \n",
    "The array 'price' below gives selling price of each fruit sold on a specific day (i.e. array 'orders' in Question#0)\n",
    "- Find the total revenue generated by the store on each week day (Hint: Use the array 'order' that has number of fruits sold during a day)\n",
    "- Array 'percent_cost_increase' gives the percentage increase in cost of each fruit on a specific time of weekday. Using this array and the 'price' array, calculate the new price of fruits after the hike. Store this in a new variable 'new_price'\n",
    "(Hint: 10% increase in price, of say \\\\$50 would be = \\\\$50*(1 + (10/100)) = $55.)\n",
    "- Calculate total revenue after price increase and also print the total revenue before price increase.\n",
    "\n",
    "Print all answers to output\n",
    "\n",
    "[Note: Create new variables of your choice as needed.]"
   ]
  },
  {
   "cell_type": "code",
   "execution_count": null,
   "metadata": {},
   "outputs": [],
   "source": [
    "price = np.array([ [1.0,1.1,0.6,1.3], # Monday\n",
    "                   [0.9,1.2,0.7,1.4], # Tuesday\n",
    "                   [1.2,0.9,0.3,0.9], # Wednesday\n",
    "                   [1.1,0.8,0.4,1.2], # Thursday\n",
    "                   [0.9,1.3,0.4,1.5], # Friday\n",
    "                   [0.8,1.2,1.1,2.0], # Saturday\n",
    "                   [1.3,1.1,0.7,1.5]  # Sunday\n",
    "                #  (m)(a) (e)(n)\n",
    "                  ])\n",
    "\n",
    "percent_cost_increase = np.array([ \n",
    "                   [37,50,11,29], # Monday\n",
    "                   [33,45,10,30], # Tuesday\n",
    "                   [32,46,9,32], # Wednesday\n",
    "                   [39,54,12,33], # Thursday\n",
    "                   [34,55,13,31], # Friday\n",
    "                   [33,56,14,34], # Saturday\n",
    "                   [35,58,12,33]  # Sunday\n",
    "                #  (m)(a) (e)(n)\n",
    "                  ])\n",
    "\n",
    "# ------- type the answer below this line ------- #\n",
    "\n",
    "\n"
   ]
  },
  {
   "cell_type": "markdown",
   "metadata": {},
   "source": [
    "### Question # 3:\n",
    "- Print the shape of array 'a' below. \n",
    "- Then, reduce the dimensions of the array using .squeeze(). And print new array shape.\n",
    "- Now, reshape the array to (5,3) and store in a new variable 'x\n",
    "- Next, flatten the array 'x' to create a 1D array\n",
    "- Find the number of elements in this 1D array and the sum of all the elements\n",
    "- Create another array 'b' using random numbers of shape ((3,7). \n",
    "- Find the dot product between x and b\n",
    "\n",
    "Print all answers to output\n",
    "\n",
    "[Note: Create new variables of your choice as needed.]"
   ]
  },
  {
   "cell_type": "code",
   "execution_count": null,
   "metadata": {},
   "outputs": [],
   "source": [
    "a = np.array([[[[9.1,2.2,3.4,5,4.9],\n",
    "              [3.4,2.3,6.4,3.6,2.0],\n",
    "              [6.5,8.6,4.4,1.2,6.7]]]]\n",
    "             )\n",
    "\n",
    "# ------- type the answer below this line ------- #\n",
    "\n"
   ]
  },
  {
   "cell_type": "markdown",
   "metadata": {},
   "source": [
    "### Question # 4:\n",
    "- Split the array 'z' into two arrays of same shape. (Hint: horizontal)\n",
    "- Use broadcasting to multiply each element of the array 'z' by 1000 store this in a new variable 'y'\n",
    "- Create a new array 'z2' such that elementwise sum of z+z1=0\n",
    "\n",
    "\n",
    "Print all answers to output\n",
    "\n",
    "[Note: Create new variables of your choice as needed.]"
   ]
  },
  {
   "cell_type": "code",
   "execution_count": 8,
   "metadata": {},
   "outputs": [
    {
     "name": "stdout",
     "output_type": "stream",
     "text": [
      "z_slice_1:\n",
      " [[3.5 4.9 2.3 5.  1.  3.4 4.4]\n",
      " [0.5 3.9 1.3 4.  5.  4.4 2.4]\n",
      " [4.5 1.9 3.3 4.  5.  3.9 2.3]] \n",
      "z_slice_1:\n",
      " [[1.1 3.9 4.1 3.9 4.3 4.7 2.1]\n",
      " [5.  5.  1.1 1.1 2.4 4.9 2.3]\n",
      " [4.5 3.4 3.3 4.8 4.4 3.3 3.1]]\n",
      "\n",
      "\n",
      "y:\n",
      " [[3500. 4900. 2300. 5000. 1000. 3400. 4400.]\n",
      " [ 500. 3900. 1300. 4000. 5000. 4400. 2400.]\n",
      " [4500. 1900. 3300. 4000. 5000. 3900. 2300.]\n",
      " [1100. 3900. 4100. 3900. 4300. 4700. 2100.]\n",
      " [5000. 5000. 1100. 1100. 2400. 4900. 2300.]\n",
      " [4500. 3400. 3300. 4800. 4400. 3300. 3100.]]\n",
      "\n",
      "\n",
      "z2:\n",
      " [[-3.5 -4.9 -2.3 -5.  -1.  -3.4 -4.4]\n",
      " [-0.5 -3.9 -1.3 -4.  -5.  -4.4 -2.4]\n",
      " [-4.5 -1.9 -3.3 -4.  -5.  -3.9 -2.3]\n",
      " [-1.1 -3.9 -4.1 -3.9 -4.3 -4.7 -2.1]\n",
      " [-5.  -5.  -1.1 -1.1 -2.4 -4.9 -2.3]\n",
      " [-4.5 -3.4 -3.3 -4.8 -4.4 -3.3 -3.1]] \n",
      "z_plus_z2: [[0. 0. 0. 0. 0. 0. 0.]\n",
      " [0. 0. 0. 0. 0. 0. 0.]\n",
      " [0. 0. 0. 0. 0. 0. 0.]\n",
      " [0. 0. 0. 0. 0. 0. 0.]\n",
      " [0. 0. 0. 0. 0. 0. 0.]\n",
      " [0. 0. 0. 0. 0. 0. 0.]] \n",
      "Sum z and z2:  0.0\n"
     ]
    }
   ],
   "source": [
    "z = np.array([\n",
    "    [3.5, 4.9, 2.3, 5.0, 1.0, 3.4, 4.4], \n",
    "    [0.5, 3.9, 1.3, 4.0, 5.0, 4.4, 2.4], \n",
    "    [4.5, 1.9, 3.3, 4.0, 5.0, 3.9, 2.3], \n",
    "    [1.1, 3.9, 4.1, 3.9, 4.3, 4.7, 2.1], \n",
    "    [5.0, 5.0, 1.1, 1.1, 2.4, 4.9, 2.3], \n",
    "    [4.5, 3.4, 3.3, 4.8, 4.4, 3.3, 3.1], \n",
    "])\n",
    "# ------- type the answer below this line ------- #\n",
    "\n",
    "# Answer#1:\n",
    "z_slice_1 = z[0:3,:]\n",
    "z_slice_2 = z[3:,:]\n",
    "print('z_slice_1:\\n',z_slice_1, '\\nz_slice_1:\\n',z_slice_2)\n",
    "print(\"\\n\")\n",
    "\n",
    "# Answer#2:\n",
    "y = z*1000\n",
    "print(\"y:\\n\",y)\n",
    "print(\"\\n\")\n",
    "\n",
    "# Answer#3:\n",
    "z2 = -1*z\n",
    "z_plus_z2 = z+z2\n",
    "sum_z_z2 = np.sum(z_plus_z2)\n",
    "print(\"z2:\\n\",z2,\"\\nz_plus_z2:\", z_plus_z2, \"\\nSum z and z2: \", sum_z_z2)"
   ]
  },
  {
   "cell_type": "markdown",
   "metadata": {},
   "source": [
    "### Question # 5:\n",
    "\n",
    "Our friend at MagicApples says they can stack boxes of fruits, so can you stack arrays? Let's do it:\n",
    "- Stack arrays m1, m2, m3, m4 ad m5 to create a (5,4) dimensional array and store in variable 'm_new'\n",
    "- Then stack the array 'm_new' horizontally to create (5,8) dimensional array and store in another variable 'm_new2'\n",
    "\n",
    "Print all answers to output.\n",
    "\n",
    "[Note: Create new variables of your choice as needed.]"
   ]
  },
  {
   "cell_type": "code",
   "execution_count": 10,
   "metadata": {},
   "outputs": [],
   "source": [
    "m1 = np.array([1,2,3,4])\n",
    "m2 = np.array([10,20,30,40])\n",
    "m3 = np.array([100,200,300,400])\n",
    "m4 = np.array([1000,2000,3000,4000])\n",
    "m5 = np.array([10000,20000,30000,40000])\n",
    "\n",
    "# ------- type the answer below this line ------- #\n",
    "\n"
   ]
  },
  {
   "cell_type": "code",
   "execution_count": null,
   "metadata": {},
   "outputs": [],
   "source": []
  },
  {
   "cell_type": "code",
   "execution_count": null,
   "metadata": {},
   "outputs": [],
   "source": []
  },
  {
   "cell_type": "code",
   "execution_count": null,
   "metadata": {},
   "outputs": [],
   "source": []
  },
  {
   "cell_type": "markdown",
   "metadata": {},
   "source": [
    "### ////////////////////////////////////////////////////////////////////////////////////////////////////////\n",
    "### ////////////////////////////////////////////////////////////////////////////////////////////////////////\n",
    "### For practice, please try the questions above before looking at the answers below\n",
    "### ////////////////////////////////////////////////////////////////////////////////////////////////////////\n",
    "### ////////////////////////////////////////////////////////////////////////////////////////////////////////"
   ]
  },
  {
   "cell_type": "markdown",
   "metadata": {},
   "source": [
    "# Answers\n",
    "[Note: There may be different ways to answer the same question. Therefore, it is okay if the answers vary and sometimes do not match exactly.]"
   ]
  },
  {
   "cell_type": "code",
   "execution_count": null,
   "metadata": {},
   "outputs": [],
   "source": []
  },
  {
   "cell_type": "code",
   "execution_count": null,
   "metadata": {},
   "outputs": [],
   "source": []
  },
  {
   "cell_type": "markdown",
   "metadata": {},
   "source": [
    "### Question 0:\n",
    "\n",
    "#### Story:\n",
    "Our friend at MagicApples fruit store has given the data below for their weekly orders.\n",
    "The store sells mangoes, apples, oranges and bananas.\n",
    "- In the array 'fruits', the rows indicate day-of-week.\n",
    "Whereas, columns indicate time during the day such as: morning, afternoon, evening and night\n",
    " - For example: On Monday morning they sell mangoes\n",
    "- The array 'orders' is similar to fruits. It has weekly count of number of orders for each type of fruit.\n",
    " - For example: On Monday morning they sell '90' fruits.\n",
    "- Together arrays 'fruits' and 'orders' tell number of orders i.e. fruits sold for each type of fruit.\n",
    " - For example: On Monday morning they sell '90' fruits that are 'mangoes'.\n",
    "\n",
    "#### Requests:\n",
    "- Use boolean conditions to filter the array 'fruits' to include only 'apples' in the output. The length of that output array would tell how many times during a week the store sells apples. So how many times was it?\n",
    "- Using boolean conditions find the time of day when the orders are lowest on a Thursday.\n",
    "- Using the array 'order' find the day-of-week, that has highest number of orders in total.\n",
    "- Using the array 'order find the time of day that has the lowest orders in total.\n",
    "\n",
    "Print all answers to output\n",
    "\n",
    "[Note: Create new variables of your choice as needed.]"
   ]
  },
  {
   "cell_type": "code",
   "execution_count": 3,
   "metadata": {},
   "outputs": [
    {
     "name": "stdout",
     "output_type": "stream",
     "text": [
      "Apples were sold 8 times a week.\n",
      "\n",
      "\n",
      "On Thursday the lowest sales of fruits was  10\n",
      "Visually looking at the array, this number 10 was during the \"evening\".\n",
      "\n",
      "\n",
      "Highest orders were equal to  331  in  [290 310 326 331 325 307 296]\n",
      "Visually looking at the array, this was the row for 'Wednesday'.\n",
      "\n",
      "\n",
      "Highest orders were equal to  181  in  [647 728 181 629]\n",
      "Visually looking at the array, this was the row for 'evening'.\n"
     ]
    }
   ],
   "source": [
    "fruits = np.array([['mangoes', 'apples', 'oranges', 'bananas'], # Monday\n",
    "                   ['apples', 'apples', 'mangoes', 'bananas'],  # Tuesday\n",
    "                   ['oranges', 'oranges', 'bananas', 'mangoes'],# Wednesday\n",
    "                   ['apples', 'apples', 'mangoes', 'mangoes'],   # Thursday\n",
    "                   ['mangoes', 'apples', 'oranges', 'bananas'], # Friday\n",
    "                   ['apples', 'apples', 'mangoes', 'bananas'],  # Saturday\n",
    "                   ['oranges', 'oranges', 'bananas', 'mangoes'] # Sunday\n",
    "              #.  morning(m). afternoon(a) evening(e). night(n)\n",
    "             ])\n",
    "\n",
    "order = np.array([[90,100,20,80], # Monday\n",
    "                   [80,110,30,90], # Tuesday\n",
    "                   [120,90,34,82], # Wednesday\n",
    "                   [99,130,10,92], # Thursday\n",
    "                   [94,112,23,96], # Friday\n",
    "                   [88,101,29,89], # Saturday\n",
    "                   [76,85,35,100]  # Sunday\n",
    "                #  (m)(a) (e)(n)\n",
    "                  ])\n",
    "\n",
    "# ------- type the answer below this line ------- #\n",
    "\n",
    "# Answer # 1:\n",
    "apples_only = fruits[fruits=='apples']\n",
    "times_apples_sold = len(apples_only)\n",
    "print('Apples were sold %d times a week.' %(times_apples_sold))\n",
    "print(\"\\n\")\n",
    "\n",
    "# Answer # 2:\n",
    "lowest_orders_thu = min(order[3,:])\n",
    "print('On Thursday the lowest sales of fruits was ', lowest_orders_thu)\n",
    "print('Visually looking at the array, this number %d was during the \"evening\".' %(lowest_orders_thu))\n",
    "print(\"\\n\")\n",
    "\n",
    "# Answer # 3:\n",
    "highest_orders_day = np.sum(order, axis=1)\n",
    "print(\"Highest orders were equal to \", np.max(highest_orders_day), ' in ', highest_orders_day)\n",
    "print(\"Visually looking at the array, this was the row for 'Wednesday'.\")\n",
    "print(\"\\n\")\n",
    "\n",
    "# Answer # 4:\n",
    "lowest_orders_in_day = np.sum(order, axis=0)\n",
    "print(\"Highest orders were equal to \", np.min(lowest_orders_in_day), ' in ', lowest_orders_in_day)\n",
    "print(\"Visually looking at the array, this was the row for 'evening'.\")\n"
   ]
  },
  {
   "cell_type": "markdown",
   "metadata": {},
   "source": [
    "### Question # 1:  \n",
    "Please use the same arrays from Question#0, here.\n",
    "\n",
    "Our friend at MagicApples would like to know:\n",
    "- How many times in a week does the store sell mangoes? (Hint: Use the fruits array)\n",
    "- On weekends (i.e. Saturday and Sunday), what is the ranking of the fruits ordered i.e. which fruit sold highest to lowest? (Hint: Use indexing)\n",
    "- Are the orders especially low certain time of the day?\n",
    "\n",
    "Print all answers to output\n",
    "\n",
    "[Note: Create new variables of your choice as needed.]"
   ]
  },
  {
   "cell_type": "code",
   "execution_count": 4,
   "metadata": {},
   "outputs": [
    {
     "name": "stdout",
     "output_type": "stream",
     "text": [
      "Mangoes were sold 8 times a week.\n",
      "\n",
      "\n",
      "Apples: 189  Mangoes: 129  Oranges: 161  Bananas: 124\n",
      "Visually looking at above numbers, the ranking is:\n",
      "Apples:189 \n",
      "Oranges:161 \n",
      "Mangoes:129 \n",
      "Bananas:124\n",
      "\n",
      "\n",
      "Orders for oranges [Mon --> Sun]:  [196 175  43   0]\n",
      "Visually looking at the above numbers, 0 oranges are sold in the 'evening'. And highest 196 in the 'morning'\n"
     ]
    }
   ],
   "source": [
    "# Use the arrays 'fruits' and 'orders' from Question#0 above.\n",
    "\n",
    "# ------- type the answer below this line ------- #\n",
    "\n",
    "\n",
    "# Answer # 1:\n",
    "mangoes_only = fruits[fruits=='mangoes']\n",
    "times_mangoes_sold = len(mangoes_only)\n",
    "print('Mangoes were sold %d times a week.' %(times_mangoes_sold))\n",
    "print(\"\\n\")\n",
    "\n",
    "# Answer # 2:\n",
    "sat_sun_fruits = fruits[5:,:]\n",
    "sat_sun_order = order[5:,:]\n",
    "sat_sun_apples = sat_sun_order[sat_sun_fruits=='apples'].sum()\n",
    "sat_sun_mangoes = sat_sun_order[sat_sun_fruits=='mangoes'].sum()\n",
    "sat_sun_oranges = sat_sun_order[sat_sun_fruits=='oranges'].sum()\n",
    "sat_sun_bananas = sat_sun_order[sat_sun_fruits=='bananas'].sum()\n",
    "print(\"Apples:\",sat_sun_apples, \" Mangoes:\",sat_sun_mangoes, \" Oranges:\", sat_sun_oranges, \" Bananas:\", sat_sun_bananas )\n",
    "print(\"Visually looking at above numbers, the ranking is:\\nApples:189 \\nOranges:161 \\nMangoes:129 \\nBananas:124\")\n",
    "print(\"\\n\")\n",
    "\n",
    "# Answer # 3:\n",
    "oranges = order.copy()\n",
    "oranges[fruits!='oranges']=0\n",
    "oranges_order = oranges.sum(axis=0)\n",
    "print(\"Orders for oranges [Mon --> Sun]: \", oranges_order)\n",
    "print(\"Visually looking at the above numbers, %d oranges are sold in the 'evening'. And highest %d in the 'morning'\" %(oranges_order[3], oranges_order[0]))\n",
    "\n",
    "\n"
   ]
  },
  {
   "cell_type": "markdown",
   "metadata": {},
   "source": [
    "### Question # 2: \n",
    "The array 'price' below gives selling price of each fruit sold on a specific day (i.e. array 'order' in Question#0)\n",
    "- Find the total revenue generated by the store on each week day (Hint: Use the array 'order' that has number of fruits sold during a day)\n",
    "- Array 'percent_cost_increase' gives the percentage increase in cost of each fruit on a specific time of weekday. Using this array and the 'price' array, calculate the new price of fruits after the hike. Store this in a new variable 'new_price'\n",
    "(Hint: 10% increase in price, of say \\\\$50 would be = \\\\$50*(1 + (10/100)) = $55.)\n",
    "- Calculate total revenue after price increase and also print the total revenue before price increase.\n",
    "\n",
    "Print all answers to output\n",
    "\n",
    "[Note: Create new variables of your choice as needed.]"
   ]
  },
  {
   "cell_type": "code",
   "execution_count": 5,
   "metadata": {},
   "outputs": [
    {
     "name": "stdout",
     "output_type": "stream",
     "text": [
      "The revenue generated on each day [Mon --> Sun] is: ]:  [316.  351.  309.  327.3 383.4 401.5 366.8]\n",
      "\n",
      "\n",
      "new_price:\n",
      " [[1.37  1.65  0.666 1.677]\n",
      " [1.197 1.74  0.77  1.82 ]\n",
      " [1.584 1.314 0.327 1.188]\n",
      " [1.529 1.232 0.448 1.596]\n",
      " [1.206 2.015 0.452 1.965]\n",
      " [1.064 1.872 1.254 2.68 ]\n",
      " [1.755 1.738 0.784 1.995]]\n",
      "\n",
      "\n",
      "Total revenue before price increase was:  2455.0\n",
      "New total revenue after price increase is:  3393.277\n"
     ]
    }
   ],
   "source": [
    "price = np.array([ [1.0,1.1,0.6,1.3], # Monday\n",
    "                   [0.9,1.2,0.7,1.4], # Tuesday\n",
    "                   [1.2,0.9,0.3,0.9], # Wednesday\n",
    "                   [1.1,0.8,0.4,1.2], # Thursday\n",
    "                   [0.9,1.3,0.4,1.5], # Friday\n",
    "                   [0.8,1.2,1.1,2.0], # Saturday\n",
    "                   [1.3,1.1,0.7,1.5]  # Sunday\n",
    "                #  (m)(a) (e)(n)\n",
    "                  ])\n",
    "\n",
    "percent_cost_increase = np.array([ \n",
    "                   [37,50,11,29], # Monday\n",
    "                   [33,45,10,30], # Tuesday\n",
    "                   [32,46,9,32], # Wednesday\n",
    "                   [39,54,12,33], # Thursday\n",
    "                   [34,55,13,31], # Friday\n",
    "                   [33,56,14,34], # Saturday\n",
    "                   [35,58,12,33]  # Sunday\n",
    "                #  (m)(a) (e)(n)\n",
    "                  ])\n",
    "\n",
    "# ------- type the answer below this line ------- #\n",
    "\n",
    "\n",
    "# Answer#1:\n",
    "revenue = price*order\n",
    "week_day_revenue = revenue.sum(axis=1)\n",
    "print(\"The revenue generated on each day [Mon --> Sun] is: ]: \", week_day_revenue)\n",
    "print(\"\\n\")\n",
    "\n",
    "# Answer#2:\n",
    "new_price = price*(1+(percent_cost_increase/100))\n",
    "new_revenue = new_price*order\n",
    "total_revenue_after = new_revenue.sum()\n",
    "total_revenue_before = np.sum(price*order)\n",
    "print(\"new_price:\\n\", new_price)\n",
    "print(\"\\n\")\n",
    "print(\"Total revenue before price increase was: \", total_revenue_before)\n",
    "print(\"New total revenue after price increase is: \", total_revenue_after)\n",
    "\n",
    "\n"
   ]
  },
  {
   "cell_type": "markdown",
   "metadata": {},
   "source": [
    "### Question # 3:\n",
    "- Print the shape of array 'a' below. \n",
    "- Then, reduce the dimensions of the array using .squeeze(). And print new array shape.\n",
    "- Now, reshape the array to (5,3) and store in a new variable 'x\n",
    "- Next, flatten the array 'x' to create a 1D array\n",
    "- Find the number of elements in this 1D array and the sum of all the elements\n",
    "- Create another array 'b' using random numbers of shape ((3,7). \n",
    "- Find the dot product between x and b\n",
    "\n",
    "Print all answers to output\n",
    "\n",
    "[Note: Create new variables of your choice as needed.]"
   ]
  },
  {
   "cell_type": "code",
   "execution_count": 7,
   "metadata": {},
   "outputs": [
    {
     "name": "stdout",
     "output_type": "stream",
     "text": [
      "Shape of array \"a\" is:  (1, 1, 3, 5)\n",
      "\n",
      "\n",
      "Shape of array \"a\" is:  (3, 5)\n",
      "\n",
      "\n",
      "x:\n",
      " [[9.1 2.2 3.4]\n",
      " [5.  4.9 3.4]\n",
      " [2.3 6.4 3.6]\n",
      " [2.  6.5 8.6]\n",
      " [4.4 1.2 6.7]]\n",
      "\n",
      "\n",
      "Flattened x: \n",
      " [9.1 2.2 3.4 5.  4.9 3.4 2.3 6.4 3.6 2.  6.5 8.6 4.4 1.2 6.7]\n",
      "\n",
      "\n",
      "Number of elements in x:  15 \n",
      "Sum of x:  69.7\n",
      "\n",
      "\n",
      "b:\n",
      " [[0.76211458 0.79075507 0.62727516 0.48804355 0.5219963  0.8296133\n",
      "  0.98183838]\n",
      " [0.40053447 0.15045575 0.72774054 0.08844024 0.10428919 0.19335767\n",
      "  0.56473928]\n",
      " [0.58326479 0.09303371 0.84771035 0.49240851 0.00540772 0.45069008\n",
      "  0.62800898]]\n",
      "\n",
      "\n",
      "x dot b:\n",
      " [[ 9.7995188   7.84318844 10.19144834  6.30995379  4.99798878  9.50721413\n",
      "  12.31238618]\n",
      " [ 7.75629209  5.00732318  9.58451963  4.54776387  3.13938479  6.62786532\n",
      "   9.81164491]\n",
      " [ 6.41603738  3.11657486  9.15202958  3.46118835  1.88751013  4.76808394\n",
      "   8.13339201]\n",
      " [ 9.14378039  3.35956246 13.27517281  5.78566187  1.76837878  6.79198614\n",
      "  11.03535935]\n",
      " [ 7.7418196   4.28319509  9.31295868  5.55265696  2.45816249  6.90195126\n",
      "   9.20543618]]\n"
     ]
    }
   ],
   "source": [
    "a = np.array([[[[9.1,2.2,3.4,5,4.9],\n",
    "              [3.4,2.3,6.4,3.6,2.0],\n",
    "              [6.5,8.6,4.4,1.2,6.7]]]]\n",
    "             )\n",
    "\n",
    "# ------- type the answer below this line ------- #\n",
    "\n",
    "a = np.array([[[[9.1,2.2,3.4,5,4.9],\n",
    "              [3.4,2.3,6.4,3.6,2.0],\n",
    "              [6.5,8.6,4.4,1.2,6.7]]]]\n",
    "             )\n",
    "\n",
    "# ------- type the answer below this line ------- #\n",
    "\n",
    "# Answer#1:\n",
    "print('Shape of array \"a\" is: ', a.shape)\n",
    "print('\\n')\n",
    "\n",
    "# Answer#2:\n",
    "a = np.squeeze(a)\n",
    "print('Shape of array \"a\" is: ', a.shape)\n",
    "print(\"\\n\")\n",
    "\n",
    "# Answer#3:\n",
    "x = a.reshape(5,3)\n",
    "print(\"x:\\n\",x)\n",
    "print(\"\\n\")\n",
    "\n",
    "# Answer#4:\n",
    "x_flatten = x.flatten()\n",
    "print(\"Flattened x: \\n\", x_flatten)\n",
    "print(\"\\n\")\n",
    "\n",
    "# Answer#5:\n",
    "num_x = len(x_flatten)\n",
    "sum_x = np.sum(x_flatten)\n",
    "print(\"Number of elements in x: \", num_x, \"\\nSum of x: \", sum_x)\n",
    "print(\"\\n\")\n",
    "\n",
    "# Answer#6:\n",
    "b = np.random.random((3,7))\n",
    "print(\"b:\\n\",b)\n",
    "print(\"\\n\")\n",
    "\n",
    "# Answer#7:\n",
    "x_dot_b = np.dot(x,b)\n",
    "print(\"x dot b:\\n\", x_dot_b)"
   ]
  },
  {
   "cell_type": "markdown",
   "metadata": {},
   "source": [
    "### Question # 4:\n",
    "- Multiply the array 'z' into two arrays of same shape\n",
    "- Use broadcasting to multiply each element of the array by 1000 store this in a new variable 'y'\n",
    "- Create a new array 'z2' such that elementwise sum of z+z1=0\n",
    "\n",
    "\n",
    "Print all answers to output\n",
    "\n",
    "[Note: Create new variables of your choice as needed.]"
   ]
  },
  {
   "cell_type": "code",
   "execution_count": null,
   "metadata": {},
   "outputs": [],
   "source": [
    "z = np.array([\n",
    "    [3.5, 4.9, 2.3, 5.0, 1.0, 3.4, 4.4], \n",
    "    [0.5, 3.9, 1.3, 4.0, 5.0, 4.4, 2.4], \n",
    "    [4.5, 1.9, 3.3, 4.0, 5.0, 3.9, 2.3], \n",
    "    [1.1, 3.9, 4.1, 3.9, 4.3, 4.7, 2.1], \n",
    "    [5.0, 5.0, 1.1, 1.1, 2.4, 4.9, 2.3], \n",
    "    [4.5, 3.4, 3.3, 4.8, 4.4, 3.3, 3.1], \n",
    "])\n",
    "# ------- type the answer below this line ------- #\n",
    "\n"
   ]
  },
  {
   "cell_type": "markdown",
   "metadata": {},
   "source": [
    "### Question # 5:\n",
    "\n",
    "Our friend at MagicApples says they can stack boxes of fruits, so can you stack arrays? Let's do it:\n",
    "- Stack arrays m1, m2, m3, m4 ad m5 to create a (5,4) dimensional array and store in variable 'm_new'\n",
    "- Then stack the array 'm_new' horizontally to create (5,8) dimensional array and store in another variable 'm_new2'\n",
    "\n",
    "Print all answers to output.\n",
    "\n",
    "[Note: Create new variables of your choice as needed.]"
   ]
  },
  {
   "cell_type": "code",
   "execution_count": 11,
   "metadata": {},
   "outputs": [
    {
     "name": "stdout",
     "output_type": "stream",
     "text": [
      "m_new:\n",
      " [[    1     2     3     4]\n",
      " [   10    20    30    40]\n",
      " [  100   200   300   400]\n",
      " [ 1000  2000  3000  4000]\n",
      " [10000 20000 30000 40000]] \n",
      "Shape: (5, 4)\n",
      "\n",
      "\n",
      "m_new2:\n",
      " [[    1     2     3     4     1     2     3     4]\n",
      " [   10    20    30    40    10    20    30    40]\n",
      " [  100   200   300   400   100   200   300   400]\n",
      " [ 1000  2000  3000  4000  1000  2000  3000  4000]\n",
      " [10000 20000 30000 40000 10000 20000 30000 40000]] \n",
      "Shape: (5, 8)\n",
      "Yes! we can stack arrays!\n"
     ]
    }
   ],
   "source": [
    "m1 = np.array([1,2,3,4])\n",
    "m2 = np.array([10,20,30,40])\n",
    "m3 = np.array([100,200,300,400])\n",
    "m4 = np.array([1000,2000,3000,4000])\n",
    "m5 = np.array([10000,20000,30000,40000])\n",
    "\n",
    "# ------- type the answer below this line ------- #\n",
    "\n",
    "m1 = np.array([1,2,3,4])\n",
    "m2 = np.array([10,20,30,40])\n",
    "m3 = np.array([100,200,300,400])\n",
    "m4 = np.array([1000,2000,3000,4000])\n",
    "m5 = np.array([10000,20000,30000,40000])\n",
    "\n",
    "# ------- type the answer below this line ------- #\n",
    "\n",
    "\n",
    "# Answer#1:\n",
    "m_new = np.vstack([m1,m2,m3,m4,m5])\n",
    "print(\"m_new:\\n\", m_new, \"\\nShape:\", m_new.shape)\n",
    "print(\"\\n\")\n",
    "\n",
    "# Answer#2:\n",
    "m_new2 = np.hstack([m_new,m_new])\n",
    "print(\"m_new2:\\n\", m_new2, \"\\nShape:\", m_new2.shape)\n",
    "\n",
    "print(\"Yes! we can stack arrays!\")\n"
   ]
  },
  {
   "cell_type": "code",
   "execution_count": null,
   "metadata": {},
   "outputs": [],
   "source": []
  },
  {
   "cell_type": "markdown",
   "metadata": {},
   "source": [
    "# Congratulations on completing the exercise!"
   ]
  },
  {
   "cell_type": "markdown",
   "metadata": {},
   "source": [
    "### Hope you enjoyed the questions. Thank you !!!"
   ]
  },
  {
   "cell_type": "markdown",
   "metadata": {},
   "source": [
    "#### Please like, share and subscribe to learndataa \n",
    "-<html>https://www.youtube.com/channel/UCzUpHQAfj3ulmJkTAfBtXLw/</html>"
   ]
  },
  {
   "cell_type": "code",
   "execution_count": 27,
   "metadata": {},
   "outputs": [],
   "source": [
    "#learndataa learndataa learndataa learndataa learndataa learndataa learndataa learndataa learndataa"
   ]
  }
 ],
 "metadata": {
  "kernelspec": {
   "display_name": "Python 3",
   "language": "python",
   "name": "python3"
  },
  "language_info": {
   "codemirror_mode": {
    "name": "ipython",
    "version": 3
   },
   "file_extension": ".py",
   "mimetype": "text/x-python",
   "name": "python",
   "nbconvert_exporter": "python",
   "pygments_lexer": "ipython3",
   "version": "3.7.4"
  }
 },
 "nbformat": 4,
 "nbformat_minor": 2
}
