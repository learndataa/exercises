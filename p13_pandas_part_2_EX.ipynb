{
 "cells": [
  {
   "cell_type": "code",
   "execution_count": null,
   "metadata": {},
   "outputs": [],
   "source": [
    "#learndataa learndataa learndataa learndataa learndataa learndataa learndataa learndataa learndataa"
   ]
  },
  {
   "cell_type": "markdown",
   "metadata": {},
   "source": [
    "## Exercises"
   ]
  },
  {
   "cell_type": "markdown",
   "metadata": {},
   "source": [
    "### For Beginners: 13. Pandas (Part 2) .loc, .iloc in Python"
   ]
  },
  {
   "cell_type": "markdown",
   "metadata": {},
   "source": [
    "#### Total questions sets: 2\n",
    "#### Estimated time required: upto 60 minutes or more (Please take your time to understand and solve the questions.)"
   ]
  },
  {
   "cell_type": "markdown",
   "metadata": {},
   "source": [
    "[Notes: \n",
    "- Answers may be typed after the line \"#-------#\" in each cell. Additional cells may be created if needed.\n",
    "- The estimated time required to complete the exercise may vary depending on your prior knowledge.\n",
    "- Answers to the questions are posted at the end of this worksheet. However, to help you learn, it is suggested that you to try to answer the questions yourself before looking at the answers.\n",
    "]"
   ]
  },
  {
   "cell_type": "markdown",
   "metadata": {},
   "source": [
    "### Import libraries"
   ]
  },
  {
   "cell_type": "code",
   "execution_count": 2,
   "metadata": {},
   "outputs": [],
   "source": [
    "import numpy as np\n",
    "import pandas as pd\n",
    "import matplotlib.pyplot as plt"
   ]
  },
  {
   "cell_type": "markdown",
   "metadata": {},
   "source": [
    "### Question 0:\n",
    "\n",
    "'Café by the Bay' has shared with us some of their recipes. These are listed in the DataFrame 'recipes' below. Its a busy restaurant especially on Friday's and weekends. And <b>its Friday today</b> ! Using your machine learning algorithm they already have the predicted number of customers at various timepoints during the day today. This data is in 'expected_cust_num' below.\n",
    "\n",
    "#### Requests:\n",
    "- They immediately need the recipe for pizza. Can you find it?\n",
    "- <b>It's Friday today!</b> let's quickly find out:\n",
    "    - how much stock we have for all ingredients for today?\n",
    "    - how much total stock of ingredients have we already purchased from Mon. to Fri.?\n",
    "- Now! now the accounts manager needs to confirm how much sugar, salt and sauce we ordered until today. Lets find out!\n",
    "- The Chef wants to know how many ovens do we have available today, tomorrow and on Sunday\n",
    "- The Cashier is talking with his Manager for 2 hour leave during lunch time today between '12:00pm-02:00pm'. They both would like to know what would be the total number of customers should they be expecting at that time. \n",
    "- Also, how many customers for pizza should they expect between '12:00pm-02:00pm'. Use the fastest method you know to get this data. How many micro-seconds did it take?\n",
    "\n",
    "\n",
    "Print all answers to output.\n",
    "\n",
    "\n",
    "[Note: Create new variables of your choice as needed.]\n",
    "\n"
   ]
  },
  {
   "cell_type": "code",
   "execution_count": null,
   "metadata": {},
   "outputs": [],
   "source": [
    "# Recipies\n",
    "recipes = pd.DataFrame(\n",
    "   [ [200,  4, 100,  5, 15,    0, 2, 300],\n",
    "    [100,  2,  50,  1,  10,  0, 1, 300],\n",
    "    [250,  0,   1,  5, 5, 200, 1, 320],\n",
    "    [500, 10,  5,  10, 20, 300, 2, 300]],\n",
    "    index=['cake', 'cookies', 'pasta', 'pizza'],\n",
    "    columns=['flour_gm', 'yeast_gm', 'sugar_gm', 'salt_gm', 'dough_kneading_min', 'sauce_gm', 'eggs_num', 'oven_temp_degF']\n",
    ")\n",
    "\n",
    "# Stock of ingredients\n",
    "stock = pd.DataFrame(\n",
    "    [[100, 1, 100, 3, 250, 4, 2],\n",
    "     [150, 1, 150, 2, 250, 5, 2],\n",
    "     [100, 1, 100, 1, 300, 4, 3],\n",
    "     [200, 1, 250, 1, 200, 6, 4],\n",
    "     [350, 2, 300, 2, 500, 8, 4],\n",
    "     [450, 2, 400, 2, 800, 12, 7],\n",
    "     [500, 2, 300, 2, 700, 10, 5]\n",
    "    ],\n",
    "    index=['mon', 'tue', 'wed', 'thu', 'fri', 'sat', 'sun'],\n",
    "    columns=['flour_kg', 'yeast_kg', 'sugar_kg', 'salt_kg', 'sauce_kg', 'eggs_dozen', 'oven_num']\n",
    ")\n",
    "\n",
    "\n",
    "# Number of customers\n",
    "expected_cust_num = pd.DataFrame(\n",
    "   [[10,  2,  10,  12,   25,   5,   1],\n",
    "    [50,  5,   5,   5,   55,  11,   0],\n",
    "    [ 5,  2, 100,  35,   12,  25,  70],\n",
    "    [ 1,  5, 175,  33,  300, 450, 270]],\n",
    "    index=['cake', 'cookies', 'pasta', 'pizza'],\n",
    "    columns=['8:00am-10:00am', '10:00am-12:00pm', '12:00pm-02:00pm', '02:00pm-04:00pm', '04:00pm-06:00pm', '06:00pm-08:00pm', '08:00pm-10:00pm']\n",
    ")\n",
    "\n",
    "\n",
    "\n",
    "\n",
    "\n",
    "# ------- type the answer below this line ------- #\n",
    "\n"
   ]
  },
  {
   "cell_type": "markdown",
   "metadata": {},
   "source": [
    "### Question 1:\n",
    "\n",
    "#### Requests:\n",
    "- You just ran your prediction model for Saturday and it seems the 'expected_cust_num' is the same as Friday for all timing except for '06:00pm-08:00pm'. Because its a game night!\n",
    "    - Therefore, create a copy of the DataFrame 'expected_cust_num' and save it as 'expected_cust_num_sat'.\n",
    "    - Next, update the numbers 'expected_cust_num_sat' for time '06:00pm-08:00pm' to those given in 'sat_exp' below.\n",
    "    \n",
    "- The Chef wants to know if the quantity of sauce that they stock-up for just two days of weekend (Sat. and Sun.) is more than the combined total stock of sauce for rest of the week (Mon. to Fri.)?\n",
    "\n",
    "\n",
    "\n",
    "\n",
    "\n",
    "[Note: Create new variables of your choice as needed.]"
   ]
  },
  {
   "cell_type": "code",
   "execution_count": 4,
   "metadata": {},
   "outputs": [],
   "source": [
    "# Predictiosn for Saturday time '06:00pm-08:00pm'\n",
    "sat_exp = pd.Series([50, 75, 150, 500], index=['cake', 'cookies', 'pasta', 'pizza'])\n",
    "\n",
    "\n"
   ]
  },
  {
   "cell_type": "code",
   "execution_count": null,
   "metadata": {},
   "outputs": [],
   "source": []
  },
  {
   "cell_type": "markdown",
   "metadata": {},
   "source": [
    "### ////////////////////////////////////////////////////////////////////////////////////////////////////////\n",
    "### ////////////////////////////////////////////////////////////////////////////////////////////////////////\n",
    "### For practice, please try the questions above before looking at the answers below\n",
    "### ////////////////////////////////////////////////////////////////////////////////////////////////////////\n",
    "### ////////////////////////////////////////////////////////////////////////////////////////////////////////"
   ]
  },
  {
   "cell_type": "markdown",
   "metadata": {},
   "source": [
    "# Answers\n",
    "[Note: There may be different ways to answer the same question. Therefore, it is okay if the answers vary and sometimes do not match exactly.]"
   ]
  },
  {
   "cell_type": "code",
   "execution_count": null,
   "metadata": {},
   "outputs": [],
   "source": []
  },
  {
   "cell_type": "markdown",
   "metadata": {},
   "source": [
    "### Question 0:\n",
    "\n",
    "'Café by the Bay' has shared with us some of their recipes. These are listed in the DataFrame 'recipes' below. Its a busy restaurant especially on Friday's and weekends. And <b>its Friday today</b> ! Using your machine learning algorithm they already have the predicted number of customers at various timepoints during the day today. This data is in 'expected_cust_num' below.\n",
    "\n",
    "#### Requests:\n",
    "- They immediately need the recipe for pizza. Can you find it?\n",
    "- <b>It's Friday today!</b> let's quickly find out:\n",
    "    - how much stock we have for all ingredients for today?\n",
    "    - how much total stock of ingredients have we already purchased from Mon. to Fri.?\n",
    "- Now! now the accounts manager needs to confirm how much sugar, salt and sauce we ordered until today. Lets find out!\n",
    "- The Chef wants to know how many ovens do we have available today, tomorrow and on Sunday\n",
    "- The Cashier is talking with his Manager for 2 hour leave during lunch time today between '12:00pm-02:00pm'. They both would like to know what would be the total number of customers should they be expecting at that time. \n",
    "- Also, how many customers for pizza should they expect between '12:00pm-02:00pm'. Use the fastest method you know to get this data. How many micro-seconds did it take?\n",
    "\n",
    "\n",
    "Print all answers to output.\n",
    "\n",
    "\n",
    "[Note: Create new variables of your choice as needed.]\n"
   ]
  },
  {
   "cell_type": "code",
   "execution_count": 3,
   "metadata": {},
   "outputs": [
    {
     "name": "stdout",
     "output_type": "stream",
     "text": [
      "Answer # 1 --------------------------------------\n",
      "Recipe for pizza is:\n",
      " flour_gm              500\n",
      "yeast_gm               10\n",
      "sugar_gm                5\n",
      "salt_gm                10\n",
      "dough_kneading_min     20\n",
      "sauce_gm              300\n",
      "eggs_num                2\n",
      "oven_temp_degF        300\n",
      "Name: pizza, dtype: int64\n",
      "\n",
      "\n",
      "Answer # 2 --------------------------------------\n",
      "Stock of ingredients for today i.e. Friday:\n",
      " flour_kg      350\n",
      "yeast_kg        2\n",
      "sugar_kg      300\n",
      "salt_kg         2\n",
      "sauce_kg      500\n",
      "eggs_dozen      8\n",
      "oven_num        4\n",
      "Name: fri, dtype: int64\n",
      "\n",
      "\n",
      "Total stock of ingredients from Monday to Friday:\n",
      " flour_kg       900\n",
      "yeast_kg         6\n",
      "sugar_kg       900\n",
      "salt_kg          9\n",
      "sauce_kg      1500\n",
      "eggs_dozen      27\n",
      "oven_num        15\n",
      "dtype: int64\n",
      "\n",
      "\n",
      "Answer # 3 --------------------------------------\n",
      "Total stock of sugar, salt and sauce from Monday to Friday:\n",
      " sugar_kg     900\n",
      "salt_kg        9\n",
      "sauce_kg    1500\n",
      "dtype: int64\n",
      "\n",
      "\n",
      "Answer # 4 --------------------------------------\n",
      "Number of ovens available on weekend (Sat. and Sun.) are:\n",
      " sat    7\n",
      "sun    5\n",
      "Name: oven_num, dtype: int64\n",
      "\n",
      "\n",
      "Answer # 5 --------------------------------------\n",
      "Expected number of pizza customers on Friday between \"12:00pm-2:00pm\" are:\n",
      " 175\n",
      "\n",
      "\n"
     ]
    }
   ],
   "source": [
    "# Recipies\n",
    "recipes = pd.DataFrame(\n",
    "   [ [200,  4, 100,  5, 15,    0, 2, 300],\n",
    "    [100,  2,  50,  1,  10,  0, 1, 300],\n",
    "    [250,  0,   1,  5, 5, 200, 1, 320],\n",
    "    [500, 10,  5,  10, 20, 300, 2, 300]],\n",
    "    index=['cake', 'cookies', 'pasta', 'pizza'],\n",
    "    columns=['flour_gm', 'yeast_gm', 'sugar_gm', 'salt_gm', 'dough_kneading_min', 'sauce_gm', 'eggs_num', 'oven_temp_degF']\n",
    ")\n",
    "\n",
    "# Stock of ingredients\n",
    "stock = pd.DataFrame(\n",
    "    [[100, 1, 100, 3, 250, 4, 2],\n",
    "     [150, 1, 150, 2, 250, 5, 2],\n",
    "     [100, 1, 100, 1, 300, 4, 3],\n",
    "     [200, 1, 250, 1, 200, 6, 4],\n",
    "     [350, 2, 300, 2, 500, 8, 4],\n",
    "     [450, 2, 400, 2, 800, 12, 7],\n",
    "     [500, 2, 300, 2, 700, 10, 5]\n",
    "    ],\n",
    "    index=['mon', 'tue', 'wed', 'thu', 'fri', 'sat', 'sun'],\n",
    "    columns=['flour_kg', 'yeast_kg', 'sugar_kg', 'salt_kg', 'sauce_kg', 'eggs_dozen', 'oven_num']\n",
    ")\n",
    "\n",
    "\n",
    "# Number of customers\n",
    "expected_cust_num = pd.DataFrame(\n",
    "   [[10,  2,  10,  12,   25,   5,   1],\n",
    "    [50,  5,   5,   5,   55,  11,   0],\n",
    "    [ 5,  2, 100,  35,   12,  25,  70],\n",
    "    [ 1,  5, 175,  33,  300, 450, 270]],\n",
    "    index=['cake', 'cookies', 'pasta', 'pizza'],\n",
    "    columns=['8:00am-10:00am', '10:00am-12:00pm', '12:00pm-02:00pm', '02:00pm-04:00pm', '04:00pm-06:00pm', '06:00pm-08:00pm', '08:00pm-10:00pm']\n",
    ")\n",
    "\n",
    "\n",
    "\n",
    "\n",
    "\n",
    "# ------- type the answer below this line ------- #\n",
    "\n",
    "print(\"Answer # 1 --------------------------------------\")\n",
    "r = recipes.loc['pizza']\n",
    "print(\"Recipe for pizza is:\\n\", r)\n",
    "print(\"\\n\")\n",
    "\n",
    "print(\"Answer # 2 --------------------------------------\")\n",
    "stock_fri_only = stock.loc['fri']\n",
    "print(\"Stock of ingredients for today i.e. Friday:\\n\", stock_fri_only)\n",
    "print(\"\\n\")\n",
    "stock_mon_to_fri = stock.loc[:'fri', :]\n",
    "total_stock_mon_to_fri = np.sum(stock_mon_to_fri)\n",
    "print(\"Total stock of ingredients from Monday to Friday:\\n\", total_stock_mon_to_fri)\n",
    "print(\"\\n\")\n",
    "\n",
    "print(\"Answer # 3 --------------------------------------\")\n",
    "sss = stock.loc[:'fri',['sugar_kg','salt_kg','sauce_kg']]\n",
    "total_sss = np.sum(sss)\n",
    "print(\"Total stock of sugar, salt and sauce from Monday to Friday:\\n\", total_sss)\n",
    "print(\"\\n\")\n",
    "\n",
    "\n",
    "print(\"Answer # 4 --------------------------------------\")\n",
    "ovens_ss = stock.loc['sat':, 'oven_num']\n",
    "print('Number of ovens available on weekend (Sat. and Sun.) are:\\n', ovens_ss)\n",
    "print(\"\\n\")\n",
    "\n",
    "print(\"Answer # 5 --------------------------------------\")\n",
    "exp_pizza_cust = expected_cust_num.at['pizza', '12:00pm-02:00pm']\n",
    "print('Expected number of pizza customers on Friday between \"12:00pm-2:00pm\" are:\\n', exp_pizza_cust)\n",
    "print(\"\\n\")"
   ]
  },
  {
   "cell_type": "markdown",
   "metadata": {},
   "source": [
    "### Question 1:\n",
    "\n",
    "#### Requests:\n",
    "- You just ran your prediction model for Saturday and it seems the 'expected_cust_num' is the same as Friday for all timing except for '06:00pm-08:00pm'. Because its a game night!\n",
    "    - Therefore, create a copy of the DataFrame 'expected_cust_num' and save it as 'expected_cust_num_sat'.\n",
    "    - Next, update the numbers 'expected_cust_num_sat' for time '06:00pm-08:00pm' to those given in 'sat_exp' below.\n",
    "    \n",
    "- The Chef wants to know if the quantity of sauce that they stock-up for just two days of weekend (Sat. and Sun.) is more than the combined total stock of sauce for rest of the week (Mon. to Fri.)?\n",
    "\n",
    "\n",
    "\n",
    "\n",
    "\n",
    "[Note: Create new variables of your choice as needed.]"
   ]
  },
  {
   "cell_type": "code",
   "execution_count": 4,
   "metadata": {},
   "outputs": [
    {
     "name": "stdout",
     "output_type": "stream",
     "text": [
      "Answer # 1 --------------------------------------\n",
      "New expected_cust_num_sat:\n",
      "          8:00am-10:00am  10:00am-12:00pm  12:00pm-02:00pm  02:00pm-04:00pm  \\\n",
      "cake                 10                2               10               12   \n",
      "cookies              50                5                5                5   \n",
      "pasta                 5                2              100               35   \n",
      "pizza                 1                5              175               33   \n",
      "\n",
      "         04:00pm-06:00pm  06:00pm-08:00pm  08:00pm-10:00pm  \n",
      "cake                  25               50                1  \n",
      "cookies               55               75                0  \n",
      "pasta                 12              150               70  \n",
      "pizza                300              500              270  \n",
      "\n",
      "\n",
      "Answer # 5 --------------------------------------\n",
      "Stock of sauce (kgs) for weekdays is 1500 and weekends is 1500.\n",
      "It is False that the sauce stock on weekend is more than weekdays.\n"
     ]
    }
   ],
   "source": [
    "# Predictiosn for Saturday time '06:00pm-08:00pm'\n",
    "sat_exp = pd.Series([50, 75, 150, 500], index=['cake', 'cookies', 'pasta', 'pizza'])\n",
    "\n",
    "\n",
    "# ------- type the answer below this line ------- #\n",
    "\n",
    "\n",
    "print(\"Answer # 1 --------------------------------------\")\n",
    "expected_cust_num_sat = expected_cust_num.copy()\n",
    "expected_cust_num_sat['06:00pm-08:00pm'] = sat_exp\n",
    "print('New expected_cust_num_sat:\\n', expected_cust_num_sat)\n",
    "print(\"\\n\")\n",
    "\n",
    "print(\"Answer # 2 --------------------------------------\")\n",
    "sauce_sat_sun = np.sum(stock.loc['sat':,'sauce_kg'])\n",
    "sauce_mon_to_fri = np.sum(stock.loc[:'fri','sauce_kg'])\n",
    "print(\"Stock of sauce (kgs) for weekdays is %d and weekends is %d.\" %(sauce_mon_to_fri, sauce_sat_sun))\n",
    "print(\"It is %s that the sauce stock on weekend is more than weekdays.\" %(sauce_sat_sun>sauce_mon_to_fri))\n",
    "\n",
    "\n"
   ]
  },
  {
   "cell_type": "code",
   "execution_count": null,
   "metadata": {},
   "outputs": [],
   "source": []
  },
  {
   "cell_type": "code",
   "execution_count": null,
   "metadata": {},
   "outputs": [],
   "source": []
  },
  {
   "cell_type": "markdown",
   "metadata": {},
   "source": [
    "# Congratulations on completing the exercise!"
   ]
  },
  {
   "cell_type": "markdown",
   "metadata": {},
   "source": [
    "### Hope you enjoyed the questions. Thank you !!!"
   ]
  },
  {
   "cell_type": "markdown",
   "metadata": {},
   "source": [
    "#### Please like, share and subscribe to learndataa \n",
    "-<html>https://www.youtube.com/channel/UCzUpHQAfj3ulmJkTAfBtXLw/</html>"
   ]
  },
  {
   "cell_type": "code",
   "execution_count": 27,
   "metadata": {},
   "outputs": [],
   "source": [
    "#learndataa learndataa learndataa learndataa learndataa learndataa learndataa learndataa learndataa"
   ]
  }
 ],
 "metadata": {
  "kernelspec": {
   "display_name": "Python 3",
   "language": "python",
   "name": "python3"
  },
  "language_info": {
   "codemirror_mode": {
    "name": "ipython",
    "version": 3
   },
   "file_extension": ".py",
   "mimetype": "text/x-python",
   "name": "python",
   "nbconvert_exporter": "python",
   "pygments_lexer": "ipython3",
   "version": "3.7.4"
  }
 },
 "nbformat": 4,
 "nbformat_minor": 2
}
