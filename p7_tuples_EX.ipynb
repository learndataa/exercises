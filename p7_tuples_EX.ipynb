{
 "cells": [
  {
   "cell_type": "code",
   "execution_count": null,
   "metadata": {},
   "outputs": [],
   "source": [
    "#learndataa learndataa learndataa learndataa learndataa learndataa learndataa learndataa learndataa"
   ]
  },
  {
   "cell_type": "markdown",
   "metadata": {},
   "source": [
    "## Exercises"
   ]
  },
  {
   "cell_type": "markdown",
   "metadata": {},
   "source": [
    "### For Beginners: 7. Tuple in Python"
   ]
  },
  {
   "cell_type": "markdown",
   "metadata": {},
   "source": [
    "#### Total questions sets: 2\n",
    "#### Estimated time required: upto 60 minutes or more (Please take your time to understand and solve the questions.)"
   ]
  },
  {
   "cell_type": "markdown",
   "metadata": {},
   "source": [
    "[Notes: \n",
    "- Answers may be typed after the line \"#-------#\" in each cell. Additional cells may be created if needed.\n",
    "- The estimated time required to complete the exercise may vary depending on your prior knowledge.\n",
    "- Answers to the questions are posted at the end of this worksheet. However, to help you learn, it is suggested that you to try to answer the questions yourself before looking at the answers.\n",
    "]"
   ]
  },
  {
   "cell_type": "markdown",
   "metadata": {},
   "source": [
    "### Import libraries"
   ]
  },
  {
   "cell_type": "code",
   "execution_count": 8,
   "metadata": {},
   "outputs": [],
   "source": [
    "import numpy as np\n",
    "import pandas as pd\n",
    "import matplotlib.pyplot as plt"
   ]
  },
  {
   "cell_type": "markdown",
   "metadata": {},
   "source": [
    "### Question 0:\n",
    "\n",
    "- Create a tuple 'a' with random five integer elements\n",
    "- Combine 'z_list' with tuple 'x' to create a new list 'x_list'\n",
    "- Using a 'for-loop' square each element of tuple 'y' and store in a new variable 'y_squared'\n",
    "- Count the number of times the element '1' repeats in the tuple 'r'\n",
    "- Find the minimum and maximum element of the tuple 'x'\n",
    "- Convert 'z_list' to a tuple 'z_tuple' and convert 'y' to a list 'y_list'\n",
    "- Concatenate or join two tuples 'x' and 'y' and save the new tuple in variable 'xy'\n",
    "\n",
    "Print all answers to output\n",
    "\n",
    "[Note: Create new variables of your choice as needed.]"
   ]
  },
  {
   "cell_type": "code",
   "execution_count": null,
   "metadata": {},
   "outputs": [],
   "source": [
    "z_list = [10,100,1000,10000,100000]\n",
    "x = (2,4,5,63,3)\n",
    "y = (9,3,5,3,9)\n",
    "r = (1,1,1,1,1,1,1,1,1,1,3,1,1,1,1,1,1,3,1,1,1,1,1,1,1,1,1,1,1,1,1,1,1,1,1,1,1,2,3,4)\n",
    "\n",
    "\n",
    "# ------- type the answer below this line ------- #\n",
    "\n"
   ]
  },
  {
   "cell_type": "markdown",
   "metadata": {},
   "source": [
    "### Question # 1:  \n",
    "[Note: Needs knowledge of Arrays, Lists as well]\n",
    "\n",
    "#### Story:\n",
    "Planet Tora in a nearby galaxy has ToraMining company. For safety reasons, they store all the machine operating parameters in tuples that cannot be mutated i.e. changed.\n",
    "- <b>p0 to p3</b>: Various operating parameters for mining\n",
    "- <b>minerals</b>: lists the names of each of the four minerals mined by ToraMining\n",
    "- <b>percent_in_soil</b>: shows the content of each minearl on the planet Tora\n",
    "- <b>Optimal mining conditions</b>: These are listed in the tuples\n",
    "\n",
    "\n",
    "#### Requests\n",
    "- Staff at ToraMining would like to see heatmaps of optimal parameters for each mineral.\n",
    "- Use max() to find and print the mineral that is most abundant on the planet. Also print the name of element from the list 'minerals'.\n",
    "\n",
    "#### Tasks\n",
    "- Convert the p0-->p5 tuples into one single array of shape (4,4) and store in variable 'params'\n",
    "Hint: np.array([p1,p2])\n",
    "- Use all four items in the optimal mining conditions tuples to filter params for each mineral\n",
    " - Hint:\n",
    "    - params_rd = params.copy()\n",
    "    - params_rd[(params_rd!=rd[0])&(params_rd!=rd[1])]=0 <-- here only two conditions are shown. You would have to add all four. Also remember to set all other values in params_rd to zero as shown.\n",
    "- Create a heatmap of parameters for each mineral\n",
    " - Hint: \n",
    "   - plt.imshow(params_rd)\n",
    "\n",
    "Print all answers to output\n",
    "\n",
    "[Note: Create new variables of your choice as needed.]"
   ]
  },
  {
   "cell_type": "code",
   "execution_count": null,
   "metadata": {},
   "outputs": [],
   "source": [
    "minerals = ['rapid_diamond', 'aqua_green','torastone']\n",
    "percent_in_soil = [1.0, 9.0, 65] #\n",
    "\n",
    "# Parameters in tuples:\n",
    "p0 = (50, 51,52, 53) # Operating temperature\n",
    "p1 = (10,11,13,14) # Ground crust thickness\n",
    "p2 = (5.1,5.2,5.3,5.4) # Star light angle\n",
    "p3 = (41,42,43,44) # Ground hardness \n",
    "\n",
    "\n",
    "# Optimal mining conditions:\n",
    "# (p0,p1,p2,p3)\n",
    "rd = (50, 10, 5, 41) # rapid_diamond\n",
    "ag = (52, 13, 5, 43) # aqua_green\n",
    "ts = (53, 14, 5, 44) # torastone\n",
    "\n",
    "# ------- type the answer below this line ------- #\n",
    "\n",
    "# Create params:\n",
    "params = \n",
    "\n"
   ]
  },
  {
   "cell_type": "code",
   "execution_count": null,
   "metadata": {},
   "outputs": [],
   "source": [
    "# ------- type the answer below this line ------- #\n",
    "# rapid_diamond\n",
    "params_rd = params.copy()\n",
    "\n"
   ]
  },
  {
   "cell_type": "code",
   "execution_count": null,
   "metadata": {},
   "outputs": [],
   "source": [
    "# ------- type the answer below this line ------- #\n",
    "# aqua_green\n",
    "params_ag = params.copy()\n",
    "\n"
   ]
  },
  {
   "cell_type": "code",
   "execution_count": null,
   "metadata": {},
   "outputs": [],
   "source": [
    "# ------- type the answer below this line ------- #\n",
    "# torastone\n",
    "params_ts = params.copy()\n",
    "\n"
   ]
  },
  {
   "cell_type": "code",
   "execution_count": null,
   "metadata": {},
   "outputs": [],
   "source": []
  },
  {
   "cell_type": "code",
   "execution_count": null,
   "metadata": {},
   "outputs": [],
   "source": []
  },
  {
   "cell_type": "code",
   "execution_count": null,
   "metadata": {},
   "outputs": [],
   "source": []
  },
  {
   "cell_type": "markdown",
   "metadata": {},
   "source": [
    "### ////////////////////////////////////////////////////////////////////////////////////////////////////////\n",
    "### ////////////////////////////////////////////////////////////////////////////////////////////////////////\n",
    "### For practice, please try the questions above before looking at the answers below\n",
    "### ////////////////////////////////////////////////////////////////////////////////////////////////////////\n",
    "### ////////////////////////////////////////////////////////////////////////////////////////////////////////"
   ]
  },
  {
   "cell_type": "markdown",
   "metadata": {},
   "source": [
    "# Answers\n",
    "[Note: There may be different ways to answer the same question. Therefore, it is okay if the answers vary and sometimes do not match exactly.]"
   ]
  },
  {
   "cell_type": "code",
   "execution_count": null,
   "metadata": {},
   "outputs": [],
   "source": []
  },
  {
   "cell_type": "markdown",
   "metadata": {},
   "source": [
    "### Question 0:\n",
    "\n",
    "- Create a tuple 'a' with random five integer elements\n",
    "- Combine 'z_list' with tuple 'x' to create a new list 'x_list'\n",
    "- Using a 'for-loop' square each element of tuple 'y' and store in a new variable 'y_squared'\n",
    "- Count the number of times the element '1' repeats in the tuple 'r'\n",
    "- Find the minimum and maximum element of the tuple 'x'\n",
    "- Convert 'z_list' to a tuple 'z_tuple' and convert 'y' to a list 'y_list'\n",
    "- Concatenate or join two tuples 'x' and 'y' and save the new tuple in variable 'xy'\n",
    "\n",
    "Print all answers to output\n",
    "\n",
    "[Note: Create new variables of your choice as needed.]"
   ]
  },
  {
   "cell_type": "code",
   "execution_count": 2,
   "metadata": {},
   "outputs": [
    {
     "name": "stdout",
     "output_type": "stream",
     "text": [
      "a:  (23, 18, 25, 2, 13)\n",
      "\n",
      "\n",
      "x_list:  [2, 4, 5, 63, 3, 9, 3, 5, 3, 9]\n",
      "\n",
      "\n",
      "y_squared:  [81, 9, 25, 9, 81]\n",
      "\n",
      "\n",
      "r_count:  35\n",
      "\n",
      "\n",
      "x_min:  2 \n",
      "x_max:  63\n",
      "\n",
      "\n",
      "z_tuple: (10, 100, 1000, 10000, 100000) \n",
      "y_list: [9, 3, 5, 3, 9]\n",
      "\n",
      "\n",
      "xy: (2, 4, 5, 63, 3, 9, 3, 5, 3, 9)\n"
     ]
    }
   ],
   "source": [
    "z_list = [10,100,1000,10000,100000]\n",
    "x = (2,4,5,63,3)\n",
    "y = (9,3,5,3,9)\n",
    "r = (1,1,1,1,1,1,1,1,1,1,3,1,1,1,1,1,1,3,1,1,1,1,1,1,1,1,1,1,1,1,1,1,1,1,1,1,1,2,3,4)\n",
    "\n",
    "\n",
    "# ------- type the answer below this line ------- #\n",
    "\n",
    "z_list = [10,100,1000,10000,100000]\n",
    "x = (2,4,5,63,3)\n",
    "y = (9,3,5,3,9)\n",
    "r = (1,1,1,1,1,1,1,1,1,1,3,1,1,1,1,1,1,3,1,1,1,1,1,1,1,1,1,1,1,1,1,1,1,1,1,1,1,2,3,4)\n",
    "\n",
    "\n",
    "# ------- type the answer below this line ------- #\n",
    "\n",
    "# Answer#1:\n",
    "a = tuple(np.random.randint(55, size=5))\n",
    "print(\"a: \",a)\n",
    "print(\"\\n\")\n",
    "\n",
    "# Answer#2:\n",
    "x_list = [*x, *y]\n",
    "print('x_list: ', x_list)\n",
    "print(\"\\n\")\n",
    "\n",
    "# Answer#3:\n",
    "y_squared = [i**2 for i in y]\n",
    "print(\"y_squared: \", y_squared)\n",
    "print(\"\\n\")\n",
    "\n",
    "# Answer#4:\n",
    "r_count = r.count(1)\n",
    "print(\"r_count: \", r_count)\n",
    "print(\"\\n\")\n",
    "\n",
    "# Answer#5:\n",
    "x_min = min(x)\n",
    "x_max = max(x)\n",
    "print(\"x_min: \", x_min, \"\\nx_max: \", x_max)\n",
    "print(\"\\n\")\n",
    "\n",
    "# Answer#6:\n",
    "z_tuple = tuple(z_list)\n",
    "y_list = list(y)\n",
    "print(\"z_tuple:\", z_tuple, \"\\ny_list:\", y_list)\n",
    "print(\"\\n\")\n",
    "\n",
    "# Answer#7:\n",
    "xy = x + y\n",
    "print('xy:',xy)"
   ]
  },
  {
   "cell_type": "markdown",
   "metadata": {},
   "source": [
    "### Question # 1:  \n",
    "[Note: Needs knowledge of Arrays, Lists as well]\n",
    "\n",
    "#### Story:\n",
    "Planet Tora in a nearby galaxy has ToraMining company. For safety reasons, they store all the machine operating parameters in tuples that cannot be mutated i.e. changed.\n",
    "- <b>p0 to p3</b>: Various operating parameters for mining\n",
    "- <b>minerals</b>: lists the names of each of the four minerals mined by ToraMining\n",
    "- <b>percent_in_soil</b>: shows the content of each minearl on the planet Tora\n",
    "- <b>Optimal mining conditions</b>: These are listed in the tuples\n",
    "\n",
    "\n",
    "#### Requests\n",
    "- Staff at ToraMining would like to see heatmaps of optimal parameters for each mineral.\n",
    "- Use max() to find and print the mineral that is most abundant on the planet. Also print the name of element from the list 'minerals'.\n",
    "\n",
    "#### Tasks\n",
    "- Convert the p0-->p5 tuples into one single array of shape (4,4) and store in variable 'params'\n",
    "Hint: np.array([p1,p2])\n",
    "- Use all four items in the optimal mining conditions tuples to filter params for each mineral\n",
    " - Hint:\n",
    "    - params_rd = params.copy()\n",
    "    - params_rd[(params_rd!=rd[0])&(params_rd!=rd[1])]=0 <-- here only two conditions are shown. You would have to add all four. Also remember to set all other values in params_rd to zero as shown.\n",
    "- Create a heatmap of parameters for each mineral\n",
    " - Hint: \n",
    "   - plt.imshow(params_rd)\n",
    "\n",
    "Print all answers to output\n",
    "\n",
    "[Note: Create new variables of your choice as needed.]"
   ]
  },
  {
   "cell_type": "code",
   "execution_count": 11,
   "metadata": {},
   "outputs": [
    {
     "name": "stdout",
     "output_type": "stream",
     "text": [
      "[[50.  51.  52.  53. ]\n",
      " [10.  11.  13.  14. ]\n",
      " [ 5.1  5.2  5.3  5.4]\n",
      " [41.  42.  43.  44. ]]\n",
      "\n",
      "\n",
      "The most abundant mineral was  torastone\n"
     ]
    }
   ],
   "source": [
    "minerals = ['rapid_diamond', 'aqua_green','torastone']\n",
    "percent_in_soil = [1.0, 9.0, 65] #\n",
    "\n",
    "# Parameters in tuples:\n",
    "p0 = (50, 51,52, 53) # Operating temperature\n",
    "p1 = (10,11,13,14) # Ground crust thickness\n",
    "p2 = (5.1,5.2,5.3,5.4) # Star light angle\n",
    "p3 = (41,42,43,44) # Ground hardness \n",
    "\n",
    "\n",
    "# Optimal mining conditions:\n",
    "# (p0,p1,p2,p3)\n",
    "rd = (50, 10, 5, 41) # rapid_diamond\n",
    "ag = (52, 13, 5, 43) # aqua_green\n",
    "ts = (53, 14, 5, 44) # torastone\n",
    "\n",
    "# ------- type the answer below this line ------- #\n",
    "\n",
    "# Create params:\n",
    "params = np.array([p0,p1,p2,p3])\n",
    "print(params)\n",
    "print(\"\\n\")\n",
    "\n",
    "# Answer#1:\n",
    "abundant_mineral = minerals[np.argmax(percent_in_soil)]\n",
    "print(\"The most abundant mineral is \", abundant_mineral)\n"
   ]
  },
  {
   "cell_type": "code",
   "execution_count": 5,
   "metadata": {},
   "outputs": [
    {
     "data": {
      "text/plain": [
       "<matplotlib.image.AxesImage at 0x1150e0a90>"
      ]
     },
     "execution_count": 5,
     "metadata": {},
     "output_type": "execute_result"
    },
    {
     "data": {
      "image/png": "[encoded data removed]",
      "text/plain": [
       "<Figure size 432x288 with 1 Axes>"
      ]
     },
     "metadata": {
      "needs_background": "light"
     },
     "output_type": "display_data"
    }
   ],
   "source": [
    "# Answer#2:\n",
    "# ------- type the answer below this line ------- #\n",
    "# rapid_diamond\n",
    "params_rd = params.copy()\n",
    "params_rd[((params_rd!=rd[0]) & (params_rd!=rd[1]) & (params_rd!=rd[2]) & (params_rd!=rd[3]))]=0\n",
    "plt.imshow(params_rd)\n"
   ]
  },
  {
   "cell_type": "code",
   "execution_count": 6,
   "metadata": {},
   "outputs": [
    {
     "data": {
      "text/plain": [
       "<matplotlib.image.AxesImage at 0x1152b2110>"
      ]
     },
     "execution_count": 6,
     "metadata": {},
     "output_type": "execute_result"
    },
    {
     "data": {
      "image/png": "[encoded data removed]",
      "text/plain": [
       "<Figure size 432x288 with 1 Axes>"
      ]
     },
     "metadata": {
      "needs_background": "light"
     },
     "output_type": "display_data"
    }
   ],
   "source": [
    "# ------- type the answer below this line ------- #\n",
    "# aqua_green\n",
    "params_ag = params.copy()\n",
    "params_ag[((params_ag!=ag[0]) & (params_ag!=ag[1]) & (params_ag!=ag[2]) & (params_ag!=ag[3]))]=0\n",
    "plt.imshow(params_ag)\n"
   ]
  },
  {
   "cell_type": "code",
   "execution_count": 7,
   "metadata": {},
   "outputs": [
    {
     "data": {
      "text/plain": [
       "<matplotlib.image.AxesImage at 0x1153443d0>"
      ]
     },
     "execution_count": 7,
     "metadata": {},
     "output_type": "execute_result"
    },
    {
     "data": {
      "image/png": "[encoded data removed]",
      "text/plain": [
       "<Figure size 432x288 with 1 Axes>"
      ]
     },
     "metadata": {
      "needs_background": "light"
     },
     "output_type": "display_data"
    }
   ],
   "source": [
    "# ------- type the answer below this line ------- #\n",
    "# torastone\n",
    "params_ts = params.copy()\n",
    "params_ts[((params_ts!=ts[0]) & (params_ts!=ts[1]) & (params_ts!=ts[2]) & (params_ts!=ts[3]))]=0\n",
    "plt.imshow(params_ts)\n"
   ]
  },
  {
   "cell_type": "code",
   "execution_count": null,
   "metadata": {},
   "outputs": [],
   "source": []
  },
  {
   "cell_type": "code",
   "execution_count": null,
   "metadata": {},
   "outputs": [],
   "source": []
  },
  {
   "cell_type": "markdown",
   "metadata": {},
   "source": [
    "# Congratulations on completing the exercise!"
   ]
  },
  {
   "cell_type": "markdown",
   "metadata": {},
   "source": [
    "### Hope you enjoyed the questions. Thank you !!!"
   ]
  },
  {
   "cell_type": "markdown",
   "metadata": {},
   "source": [
    "#### Please like, share and subscribe to learndataa \n",
    "-<html>https://www.youtube.com/channel/UCzUpHQAfj3ulmJkTAfBtXLw/</html>"
   ]
  },
  {
   "cell_type": "code",
   "execution_count": 27,
   "metadata": {},
   "outputs": [],
   "source": [
    "#learndataa learndataa learndataa learndataa learndataa learndataa learndataa learndataa learndataa"
   ]
  }
 ],
 "metadata": {
  "kernelspec": {
   "display_name": "Python 3",
   "language": "python",
   "name": "python3"
  },
  "language_info": {
   "codemirror_mode": {
    "name": "ipython",
    "version": 3
   },
   "file_extension": ".py",
   "mimetype": "text/x-python",
   "name": "python",
   "nbconvert_exporter": "python",
   "pygments_lexer": "ipython3",
   "version": "3.7.4"
  }
 },
 "nbformat": 4,
 "nbformat_minor": 2
}
