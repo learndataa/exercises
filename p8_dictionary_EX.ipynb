{
 "cells": [
  {
   "cell_type": "code",
   "execution_count": null,
   "metadata": {},
   "outputs": [],
   "source": [
    "#learndataa learndataa learndataa learndataa learndataa learndataa learndataa learndataa learndataa"
   ]
  },
  {
   "cell_type": "markdown",
   "metadata": {},
   "source": [
    "## Exercises"
   ]
  },
  {
   "cell_type": "markdown",
   "metadata": {},
   "source": [
    "### For Beginners: 8. Dictionary in Python"
   ]
  },
  {
   "cell_type": "markdown",
   "metadata": {},
   "source": [
    "#### Total questions sets: 5\n",
    "#### Estimated time required: upto 60 minutes or more (Please take your time to understand and solve the questions.)"
   ]
  },
  {
   "cell_type": "markdown",
   "metadata": {},
   "source": [
    "[Notes: \n",
    "- Answers may be typed after the line \"#-------#\" in each cell. Additional cells may be created if needed.\n",
    "- The estimated time required to complete the exercise may vary depending on your prior knowledge.\n",
    "- Answers to the questions are posted at the end of this worksheet. However, to help you learn, it is suggested that you to try to answer the questions yourself before looking at the answers.\n",
    "]"
   ]
  },
  {
   "cell_type": "markdown",
   "metadata": {},
   "source": [
    "### Import libraries"
   ]
  },
  {
   "cell_type": "code",
   "execution_count": 2,
   "metadata": {},
   "outputs": [],
   "source": [
    "import numpy as np\n",
    "import pandas as pd\n",
    "import matplotlib.pyplot as plt"
   ]
  },
  {
   "cell_type": "markdown",
   "metadata": {},
   "source": [
    "### Question 0:\n",
    "\n",
    "#### Story\n",
    "A team at cruise liner 'OceanBlue' would like store their data in a dictionary as key-value pairs. To get started, they have the following data about passengers:\n",
    "    - first_name: 'Rib', 'Mic','Fan','Da','Emper'\n",
    "    - last_name: 'Bon','Gelo','Fan','Ta','Ature' #(i.e. surname)\n",
    "    - cabin: 'sea_view','pool_side','palace','economy','deck_view'\n",
    "    - preferred_show: 'music','drama','movie','water_show','comedy'\n",
    "    - room_number: 11, 93, 5, 19, 55\n",
    "\n",
    "#### Request:\n",
    "- Arrange the information into a dictionary and save it as 'pax'\n",
    "- Assign a number 'pax_num' from 1 to 5 to each passenger and add it to the dictionary 'pax' as a new key:value pair\n",
    "- Find the length of the dictionary\n",
    "- Write a code line that can check if a passenger first_name exists in 'pax'. For example: 'De'\n",
    "- Print all the first names and the last names from the 'pax' using for-loop\n",
    "- Print new set of keys for dictionary 'pax'\n",
    "\n",
    "\n",
    "\n",
    "Print all answers to output\n",
    "\n",
    "[Note: Create new variables of your choice as needed.]"
   ]
  },
  {
   "cell_type": "code",
   "execution_count": null,
   "metadata": {},
   "outputs": [],
   "source": [
    "\n",
    "\n",
    "# ------- type the answer below this line ------- #\n",
    "\n",
    "pax = \n"
   ]
  },
  {
   "cell_type": "markdown",
   "metadata": {},
   "source": [
    "### Question # 1:  \n",
    "\n",
    "There was a last minute change on the cruise. They have cancelled 'preferred_show'. They have been replaced by 'fun_activities below chosen by each passenger.\n",
    "    - fun_activities: 'drawing', 'acting', 'rock_climbing', 'pool_volley_ball', 'video_games'\n",
    "    - For example: Rib Bon chose drawing.\n",
    "   \n",
    "\n",
    "- There are additional activities and timings listed below\n",
    "\n",
    "#### Requests:\n",
    "- Remove 'preferred_show' and all its contents from the above dictionary 'pax' (from Question#0)\n",
    "    - Print new set of keys for dictionary 'pax' to see if 'preferred_show was indeed removed\n",
    "\n",
    "Now create a new cell and write the code for remaining requests:\n",
    "- and add 'fun_activities' to 'pax'\n",
    "    - Print new set of keys for dictionary 'pax' to see if 'fun_activities' was added\n",
    "- Next, add the new information of each 'outdoor_activity' as a key and its timing as value pair to 'pax'\n",
    "    - For example: The passenger Rib Bon would be:\n",
    "          - boating on Monday, 7:00AM-8:00AM, \n",
    "          - sky diving on Monday, 9:00AM-10:00AM\n",
    "          - snorkeling on Monday, 11:00AM-12:00PM\n",
    "          - fishing on Monday, 4:00PM-5:00PM\n",
    "\n",
    "    - Print new set of keys for dictionary 'pax' to see if all 'outdoor_activities' are added\n",
    "\n",
    "Print all answers to output\n",
    "\n",
    "[Note: Create new variables of your choice as needed.]"
   ]
  },
  {
   "cell_type": "code",
   "execution_count": null,
   "metadata": {},
   "outputs": [],
   "source": [
    "outdoor_activities = ['boating', 'sky_diving','snorkeling','fishing']\n",
    "boating_timing = ['Monday, 7:00AM-8:00AM', 'Tuesday,  7:00AM-8:00AM', 'Thursday,  7:00AM-8:00AM', 'Friday,  7:00AM-8:00AM', 'Saturday,  7:00AM-8:00AM']\n",
    "sky_diving_timing = ['Monday, 9:00AM-10:00AM', 'Tuesday, 9:00AM-10:00AM', 'Thursday, 9:00AM-10:00AM', 'Friday, 9:00AM-10:00AM', 'Saturday, 9:00AM-10:00AM']\n",
    "snorkeling_timing = ['Monday, 11:00AM-12:00PM', 'Tuesday, 11:00AM-12:00PM', 'Thursday, 11:00AM-12:00PM', 'Friday, 11:00AM-12:00PM', 'Saturday, 11:00AM-12:00PM']\n",
    "fishing_timing = ['Monday, 4:00PM-5:00PM', 'Tuesday, 4:00PM-5:00PM', 'Thursday, 4:00PM-5:00PM', 'Friday, 4:00PM-5:00PM', 'Saturday, 4:00PM-5:00PM']\n",
    "\n",
    "\n",
    "\n",
    "# ------- type the answer below this line ------- #\n",
    "\n",
    "pax = \n"
   ]
  },
  {
   "cell_type": "markdown",
   "metadata": {},
   "source": [
    "### Question #2\n",
    "\n",
    "The crew of OceanBlue realized that they forgot to add the 'deck' to the passenger tickets.\n",
    "\n",
    "#### Request:\n",
    "- Create a new key 'deck' in the dictionary 'pax'. Here, based on the 'room_number' of a passenger, add the corresponding 'deck' to the dictionary. [Hint: Use of for_loops, arrays and booleans suggested.]\n",
    "- Print new set of keys for dictionary 'pax'\n",
    "\n",
    "Print all answers to output\n",
    "\n",
    "[Note: Create new variables of your choice as needed.]"
   ]
  },
  {
   "cell_type": "code",
   "execution_count": null,
   "metadata": {},
   "outputs": [],
   "source": [
    "room_number = np.array([[11,23,55,77],\n",
    "                        [23,78,45,34],\n",
    "                        [84,93,88,36],\n",
    "                        [1,4,9,5],\n",
    "                        [19,17,14,13]])\n",
    "deck = np.array([['A','B','C','D'],\n",
    "                 ['C','D','B','A'],\n",
    "                 ['C','A','B','D'],\n",
    "                 ['D','B','C','A'],\n",
    "                 ['B','A','C','D']])\n",
    "\n",
    "\n",
    "# ------- type the answer below this line ------- #\n",
    "\n",
    "pax =\n",
    "\n"
   ]
  },
  {
   "cell_type": "markdown",
   "metadata": {},
   "source": [
    "### Question # 3\n",
    "\n",
    "OceanBlue has information about the onsite tours for passengers.\n",
    "\n",
    "#### Request:\n",
    "- Add the five day information from the array 'location' to the dictionary 'pax'\n",
    "    - Hint: Use 'Day_1' as key and 'SunCity'-->'SnowPeak' as values\n",
    "    \n",
    "Print all answers to output\n",
    "\n",
    "[Note: Create new variables of your choice as needed.]"
   ]
  },
  {
   "cell_type": "code",
   "execution_count": null,
   "metadata": {},
   "outputs": [],
   "source": [
    "location= np.array([\n",
    "    ['Tour_Day_1', 'SunCity', 'BlueOcean', 'MysticRiver', 'MountainMax', 'SnowPeak'],\n",
    "    ['Tour_Day_2', 'SnowPeak', 'MountainMax', 'MysticRiver', 'BlueOcean', 'SunCity'],\n",
    "    ['Tour_Day_3', 'MountainMax', 'SnowPeak', 'SunCity', 'MysticRiver', 'BlueOcean'],\n",
    "    ['Tour_Day_4', 'SunCity', 'BlueOcean', 'SnowPeak', 'MountainMax', 'MysticRiver'],\n",
    "    ['Tour_Day_5', 'SnowPeak', 'BlueOcean', 'MountainMax', 'SunCity', 'MysticRiver']\n",
    "\n",
    "    # Keys        [ <------------------------- values ---------------------------->]\n",
    "])\n",
    "\n",
    "# ------- type the answer below this line ------- #\n",
    "\n",
    "\n"
   ]
  },
  {
   "cell_type": "markdown",
   "metadata": {},
   "source": [
    "### Question # 4\n",
    "\n",
    "Print the iterenary for each passenger from the dictionary 'pax'.\n",
    "\n",
    "Hint_1: To access key and values from dictionary use the method below:\n",
    "    - For example:\n",
    "        - a_dict = {'name':['To','Ra','Pam'],\n",
    "                    'city':['Yado', 'Rila','Zim']\n",
    "                    }\n",
    "        - a_dict['name'] gives the ['To','Ra','Pam']\n",
    "        - a_dict['name'][0] gives the 'To'\n",
    "        - a_dict.keys() gives ['name', 'city']\n",
    "\n",
    "Hint_2: Use for-loop to iterate over all the keys in the dictionary 'pax'\n",
    "\n",
    "Example complete iterenary for each passenger in the dictionary 'pax':\n",
    "    - First name\n",
    "    - Last name \n",
    "    - Cabin\n",
    "    - Preferred show\n",
    "    - Berth number\n",
    "    - Deck\n",
    "    - Fun activities\n",
    "    - Outdoor activities\n",
    "    - Boating timing\n",
    "    - Sky diving timing\n",
    "    - Snorkeling timing\n",
    "    - Fishing timing\n",
    "    - Tour_Day_1\n",
    "    - Tour_Day_2\n",
    "    - Tour_Day_3\n",
    "    - Tour_Day_4\n",
    "    - Tour_Day_5\n",
    "\n",
    "\n",
    "Print all answers to output\n",
    "\n",
    "[Note: Create new variables of your choice as needed.]"
   ]
  },
  {
   "cell_type": "code",
   "execution_count": null,
   "metadata": {},
   "outputs": [],
   "source": [
    "\n",
    "\n",
    "# ------- type the answer below this line ------- #\n",
    "\n",
    "\n",
    "\n"
   ]
  },
  {
   "cell_type": "markdown",
   "metadata": {},
   "source": [
    "### ////////////////////////////////////////////////////////////////////////////////////////////////////////\n",
    "### ////////////////////////////////////////////////////////////////////////////////////////////////////////\n",
    "### For practice, please try the questions above before looking at the answers below\n",
    "### ////////////////////////////////////////////////////////////////////////////////////////////////////////\n",
    "### ////////////////////////////////////////////////////////////////////////////////////////////////////////"
   ]
  },
  {
   "cell_type": "markdown",
   "metadata": {},
   "source": [
    "# Answers\n",
    "[Note: There may be different ways to answer the same question. Therefore, it is okay if the answers vary and sometimes do not match exactly.]"
   ]
  },
  {
   "cell_type": "code",
   "execution_count": null,
   "metadata": {},
   "outputs": [],
   "source": []
  },
  {
   "cell_type": "markdown",
   "metadata": {},
   "source": [
    "### Question 0:\n",
    "\n",
    "#### Story\n",
    "A team at cruise liner 'OceanBlue' would like store their data in a dictionary as key-value pairs. To get started, they have the following data about passengers:\n",
    "    - first_name: 'Rib', 'Mic','Fan','Da','Emper'\n",
    "    - last_name: 'Bon','Gelo','Fan','Ta','Ature' #(i.e. surname)\n",
    "    - cabin: 'sea_view','pool_side','palace','economy','deck_view'\n",
    "    - preferred_show: 'music','drama','movie','water_show','comedy'\n",
    "    - room_number: 11, 93, 5, 19, 55\n",
    "\n",
    "#### Request:\n",
    "- Arrange the information into a dictionary and save it as 'pax'\n",
    "- Assign a number 'pax_num' from 1 to 5 to each passenger and add it to the dictionary 'pax' as a new key:value pair\n",
    "- Find the length of the dictionary\n",
    "- Write a code line that can check if a passenger first_name exists in 'pax'. For example: 'De'\n",
    "- Print all the first names and the last names from the 'pax' using for-loop\n",
    "- Print new set of keys for dictionary 'pax'\n",
    "\n",
    "\n",
    "\n",
    "Print all answers to output\n",
    "\n",
    "[Note: Create new variables of your choice as needed.]"
   ]
  },
  {
   "cell_type": "code",
   "execution_count": 23,
   "metadata": {},
   "outputs": [
    {
     "name": "stdout",
     "output_type": "stream",
     "text": [
      "pax:\n",
      " {'first_name': ['Rib', 'Mic', 'Fan', 'Da', 'Emper'], 'last_name': ['Bon', 'Gelo', 'Fan', 'Ta', 'Ature'], 'cabin': ['sea_view', 'pool_side', 'palace', 'economy', 'deck_view'], 'preferred_show': ['music', 'drama', 'movie', 'water_show', 'comedy'], 'room_number': [11, 93, 5, 19, 55]}\n",
      "\n",
      "\n",
      "pax:\n",
      " {'first_name': ['Rib', 'Mic', 'Fan', 'Da', 'Emper'], 'last_name': ['Bon', 'Gelo', 'Fan', 'Ta', 'Ature'], 'cabin': ['sea_view', 'pool_side', 'palace', 'economy', 'deck_view'], 'preferred_show': ['music', 'drama', 'movie', 'water_show', 'comedy'], 'room_number': [11, 93, 5, 19, 55], 'pax_num': array([1, 2, 3, 4, 5])}\n",
      "\n",
      "\n",
      "Length of dictionary pax is  6\n",
      "\n",
      "\n",
      "It is False that the name De is in the dictionary pax.\n",
      "\n",
      "\n",
      "Rib  Bon\n",
      "Mic  Gelo\n",
      "Fan  Fan\n",
      "Da  Ta\n",
      "Emper  Ature\n",
      "\n",
      "\n",
      "Keys:  dict_keys(['first_name', 'last_name', 'cabin', 'preferred_show', 'room_number', 'pax_num'])\n",
      "\n",
      "\n"
     ]
    }
   ],
   "source": [
    "\n",
    "# ------- type the answer below this line ------- #\n",
    "\n",
    "# Answer # 1:\n",
    "pax = {\n",
    "    'first_name': ['Rib', 'Mic','Fan','Da','Emper'],\n",
    "    'last_name': ['Bon','Gelo','Fan','Ta','Ature'],\n",
    "    'cabin': ['sea_view','pool_side','palace','economy','deck_view'],\n",
    "    'preferred_show': ['music','drama','movie','water_show','comedy'],\n",
    "    'room_number': [11, 93, 5, 19, 55]\n",
    "}\n",
    "print('pax:\\n',pax)\n",
    "print(\"\\n\")\n",
    "\n",
    "# Answer # 2:\n",
    "pax['pax_num'] = np.arange(1,6)\n",
    "print('pax:\\n',pax)\n",
    "print(\"\\n\")\n",
    "\n",
    "\n",
    "# Answer # 3:\n",
    "pax_length = len(pax)\n",
    "print(\"Length of dictionary pax is \", pax_length)\n",
    "print(\"\\n\")\n",
    "\n",
    "# Answer # 4:\n",
    "check_this_name = 'De'\n",
    "name_answer = check_this_name in pax\n",
    "print(\"It is %s that the name %s is in the dictionary pax.\" %(name_answer, check_this_name))\n",
    "print(\"\\n\")\n",
    "\n",
    "\n",
    "# Answer # 5:\n",
    "for i in range(len(pax['first_name'])):\n",
    "    print(pax['first_name'][i], '', pax['last_name'][i])\n",
    "print(\"\\n\")\n",
    "\n",
    "\n",
    "# Answer # 5:\n",
    "pax_keys = pax.keys()\n",
    "print(\"Keys: \", pax_keys)\n",
    "print(\"\\n\")"
   ]
  },
  {
   "cell_type": "markdown",
   "metadata": {},
   "source": [
    "### Question # 1:  \n",
    "\n",
    "There was a last minute change on the cruise. They have cancelled 'preferred_show'. They have been replaced by 'fun_activities below chosen by each passenger.\n",
    "    - fun_activities: 'drawing', 'acting', 'rock_climbing', 'pool_volley_ball', 'video_games'\n",
    "    - For example: Rib Bon chose drawing.\n",
    "   \n",
    "\n",
    "- There are additional activities and timings listed below\n",
    "\n",
    "#### Requests:\n",
    "- Remove 'preferred_show' and all its contents from the above dictionary 'pax' (from Question#0)\n",
    "    - Print new set of keys for dictionary 'pax' to see if 'preferred_show was indeed removed\n",
    "\n",
    "Now create a new cell and write the code for remaining requests:\n",
    "- and add 'fun_activities' to 'pax'\n",
    "    - Print new set of keys for dictionary 'pax' to see if 'fun_activities' was added\n",
    "- Next, add the new information of each 'outdoor_activity' as a key and its timing as value pair to 'pax'\n",
    "    - For example: The passenger Rib Bon would be:\n",
    "          - boating on Monday, 7:00AM-8:00AM, \n",
    "          - sky diving on Monday, 9:00AM-10:00AM\n",
    "          - snorkeling on Monday, 11:00AM-12:00PM\n",
    "          - fishing on Monday, 4:00PM-5:00PM\n",
    "\n",
    "    - Print new set of keys for dictionary 'pax' to see if all 'outdoor_activities' are added\n",
    "\n",
    "Print all answers to output\n",
    "\n",
    "[Note: Create new variables of your choice as needed.]"
   ]
  },
  {
   "cell_type": "code",
   "execution_count": 24,
   "metadata": {},
   "outputs": [
    {
     "name": "stdout",
     "output_type": "stream",
     "text": [
      "pax:\n",
      " {'first_name': ['Rib', 'Mic', 'Fan', 'Da', 'Emper'], 'last_name': ['Bon', 'Gelo', 'Fan', 'Ta', 'Ature'], 'cabin': ['sea_view', 'pool_side', 'palace', 'economy', 'deck_view'], 'room_number': [11, 93, 5, 19, 55], 'pax_num': array([1, 2, 3, 4, 5])} \n",
      "New keys:  dict_keys(['first_name', 'last_name', 'cabin', 'room_number', 'pax_num'])\n",
      "\n",
      "\n"
     ]
    }
   ],
   "source": [
    "outdoor_activities = ['boating', 'sky_diving','snorkeling','fishing']\n",
    "boating_timing = ['Monday, 7:00AM-8:00AM', 'Tuesday,  7:00AM-8:00AM', 'Thursday,  7:00AM-8:00AM', 'Friday,  7:00AM-8:00AM', 'Saturday,  7:00AM-8:00AM']\n",
    "sky_diving_timing = ['Monday, 9:00AM-10:00AM', 'Tuesday, 9:00AM-10:00AM', 'Thursday, 9:00AM-10:00AM', 'Friday, 9:00AM-10:00AM', 'Saturday, 9:00AM-10:00AM']\n",
    "snorkeling_timing = ['Monday, 11:00AM-12:00PM', 'Tuesday, 11:00AM-12:00PM', 'Thursday, 11:00AM-12:00PM', 'Friday, 11:00AM-12:00PM', 'Saturday, 11:00AM-12:00PM']\n",
    "fishing_timing = ['Monday, 4:00PM-5:00PM', 'Tuesday, 4:00PM-5:00PM', 'Thursday, 4:00PM-5:00PM', 'Friday, 4:00PM-5:00PM', 'Saturday, 4:00PM-5:00PM']\n",
    "\n",
    "\n",
    "\n",
    "# ------- type the answer below this line ------- #\n",
    "# Remove 'preferred_show' and all its contents from the above dictionary 'pax' (from Question#0)\n",
    "\n",
    "# Answer # 1\n",
    "del pax['preferred_show'] \n",
    "print('pax:\\n',pax,'\\nNew keys: ', pax.keys())\n",
    "print(\"\\n\")"
   ]
  },
  {
   "cell_type": "code",
   "execution_count": 25,
   "metadata": {},
   "outputs": [
    {
     "name": "stdout",
     "output_type": "stream",
     "text": [
      "pax:\n",
      " {'first_name': ['Rib', 'Mic', 'Fan', 'Da', 'Emper'], 'last_name': ['Bon', 'Gelo', 'Fan', 'Ta', 'Ature'], 'cabin': ['sea_view', 'pool_side', 'palace', 'economy', 'deck_view'], 'room_number': [11, 93, 5, 19, 55], 'pax_num': array([1, 2, 3, 4, 5]), 'fun_activities': ['drawing', 'acting', 'rock_climbing', 'pool_volley_ball', 'video_games']} \n",
      "\n",
      "New keys:  dict_keys(['first_name', 'last_name', 'cabin', 'room_number', 'pax_num', 'fun_activities'])\n",
      "\n",
      "\n"
     ]
    }
   ],
   "source": [
    "# ------- type the answer below this line ------- #\n",
    "# and add 'fun_activities' to 'pax'\n",
    "\n",
    "# Answer # 2:\n",
    "pax['fun_activities']= ['drawing', 'acting', 'rock_climbing', 'pool_volley_ball', 'video_games']\n",
    "print('pax:\\n',pax,'\\n\\nNew keys: ', pax.keys())\n",
    "print(\"\\n\")"
   ]
  },
  {
   "cell_type": "code",
   "execution_count": 26,
   "metadata": {},
   "outputs": [
    {
     "name": "stdout",
     "output_type": "stream",
     "text": [
      "pax:\n",
      " {'first_name': ['Rib', 'Mic', 'Fan', 'Da', 'Emper'], 'last_name': ['Bon', 'Gelo', 'Fan', 'Ta', 'Ature'], 'cabin': ['sea_view', 'pool_side', 'palace', 'economy', 'deck_view'], 'room_number': [11, 93, 5, 19, 55], 'pax_num': array([1, 2, 3, 4, 5]), 'fun_activities': ['drawing', 'acting', 'rock_climbing', 'pool_volley_ball', 'video_games'], 'boating': ['Monday, 7:00AM-8:00AM', 'Tuesday,  7:00AM-8:00AM', 'Thursday,  7:00AM-8:00AM', 'Friday,  7:00AM-8:00AM', 'Saturday,  7:00AM-8:00AM'], 'sky_diving': ['Monday, 9:00AM-10:00AM', 'Tuesday, 9:00AM-10:00AM', 'Thursday, 9:00AM-10:00AM', 'Friday, 9:00AM-10:00AM', 'Saturday, 9:00AM-10:00AM'], 'snorkeling': ['Monday, 11:00AM-12:00PM', 'Tuesday, 11:00AM-12:00PM', 'Thursday, 11:00AM-12:00PM', 'Friday, 11:00AM-12:00PM', 'Saturday, 11:00AM-12:00PM'], 'fishing': ['Monday, 4:00PM-5:00PM', 'Tuesday, 4:00PM-5:00PM', 'Thursday, 4:00PM-5:00PM', 'Friday, 4:00PM-5:00PM', 'Saturday, 4:00PM-5:00PM']} \n",
      "\n",
      "New keys:  dict_keys(['first_name', 'last_name', 'cabin', 'room_number', 'pax_num', 'fun_activities', 'boating', 'sky_diving', 'snorkeling', 'fishing'])\n",
      "\n",
      "\n"
     ]
    }
   ],
   "source": [
    "# ------- type the answer below this line ------- #\n",
    "# Next, add the new information of each 'outdoor_activity' as a key and its timing as value pair to 'pax'\n",
    "\n",
    "# Answer # 3:\n",
    "timing_list = [boating_timing, sky_diving_timing, snorkeling_timing, fishing_timing]\n",
    "for i in range(len(outdoor_activities)):\n",
    "    pax[outdoor_activities[i]]=timing_list[i]\n",
    "print('pax:\\n',pax,'\\n\\nNew keys: ', pax.keys())\n",
    "print(\"\\n\")"
   ]
  },
  {
   "cell_type": "markdown",
   "metadata": {},
   "source": [
    "### Question #2\n",
    "\n",
    "The crew of OceanBlue realized that they forgot to add the 'deck' to the passenger tickets.\n",
    "\n",
    "#### Request:\n",
    "- Create a new key 'deck' in the dictionary 'pax'. Here, based on the 'room_number' of a passenger, add the corresponding 'deck' to the dictionary. [Hint: Use of for_loops, arrays and booleans suggested.]\n",
    "- Print new set of keys for dictionary 'pax'\n",
    "\n",
    "Print all answers to output\n",
    "\n",
    "[Note: Create new variables of your choice as needed.]"
   ]
  },
  {
   "cell_type": "code",
   "execution_count": 27,
   "metadata": {},
   "outputs": [
    {
     "name": "stdout",
     "output_type": "stream",
     "text": [
      "pax:\n",
      " {'first_name': ['Rib', 'Mic', 'Fan', 'Da', 'Emper'], 'last_name': ['Bon', 'Gelo', 'Fan', 'Ta', 'Ature'], 'cabin': ['sea_view', 'pool_side', 'palace', 'economy', 'deck_view'], 'room_number': [11, 93, 5, 19, 55], 'pax_num': array([1, 2, 3, 4, 5]), 'fun_activities': ['drawing', 'acting', 'rock_climbing', 'pool_volley_ball', 'video_games'], 'boating': ['Monday, 7:00AM-8:00AM', 'Tuesday,  7:00AM-8:00AM', 'Thursday,  7:00AM-8:00AM', 'Friday,  7:00AM-8:00AM', 'Saturday,  7:00AM-8:00AM'], 'sky_diving': ['Monday, 9:00AM-10:00AM', 'Tuesday, 9:00AM-10:00AM', 'Thursday, 9:00AM-10:00AM', 'Friday, 9:00AM-10:00AM', 'Saturday, 9:00AM-10:00AM'], 'snorkeling': ['Monday, 11:00AM-12:00PM', 'Tuesday, 11:00AM-12:00PM', 'Thursday, 11:00AM-12:00PM', 'Friday, 11:00AM-12:00PM', 'Saturday, 11:00AM-12:00PM'], 'fishing': ['Monday, 4:00PM-5:00PM', 'Tuesday, 4:00PM-5:00PM', 'Thursday, 4:00PM-5:00PM', 'Friday, 4:00PM-5:00PM', 'Saturday, 4:00PM-5:00PM'], 'deck': ['A', 'A', 'A', 'B', 'C']}\n",
      "\n",
      "\n",
      "New keys: dict_keys(['first_name', 'last_name', 'cabin', 'room_number', 'pax_num', 'fun_activities', 'boating', 'sky_diving', 'snorkeling', 'fishing', 'deck'])\n"
     ]
    }
   ],
   "source": [
    "room_number = np.array([[11,23,55,77],\n",
    "                        [23,78,45,34],\n",
    "                        [84,93,88,36],\n",
    "                        [1,4,9,5],\n",
    "                        [19,17,14,13]])\n",
    "deck = np.array([['A','B','C','D'],\n",
    "                 ['C','D','B','A'],\n",
    "                 ['C','A','B','D'],\n",
    "                 ['D','B','C','A'],\n",
    "                 ['B','A','C','D']])\n",
    "\n",
    "\n",
    "# ------- type the answer below this line ------- #\n",
    "\n",
    "# Answer # 1:\n",
    "pax_deck_list =  [] # Initialize empty list\n",
    "for n in pax['room_number']:\n",
    "    pax_room_filter = room_number==n # In array 'room_number', flag a room from 'pax[room_number]' as True and others as False\n",
    "    pax_deck = deck[pax_room_filter][0] # Use the True/False filter in the array deck to get the corresponding 'deck'\n",
    "    pax_deck_list.append(pax_deck) # Append the deck for that room into the list 'pax_deck_list'\n",
    "\n",
    "pax['deck'] = pax_deck_list # Insert the new 'pax_deck_list' into the dictionary 'pax'\n",
    "\n",
    "print('pax:\\n', pax)\n",
    "print('\\n')\n",
    "print('New keys:', pax.keys())\n",
    "\n"
   ]
  },
  {
   "cell_type": "markdown",
   "metadata": {},
   "source": [
    "### Question # 3\n",
    "\n",
    "OceanBlue has information about the onsite tours for passengers.\n",
    "\n",
    "#### Request:\n",
    "- Add the five day information from the array 'location' to the dictionary 'pax'\n",
    "    - Hint: Use 'Day_1' as key and 'SunCity'-->'SnowPeak' as values\n",
    "    \n",
    "Print all answers to output\n",
    "\n",
    "[Note: Create new variables of your choice as needed.]"
   ]
  },
  {
   "cell_type": "code",
   "execution_count": 28,
   "metadata": {},
   "outputs": [
    {
     "name": "stdout",
     "output_type": "stream",
     "text": [
      "pax:\n",
      " {'first_name': ['Rib', 'Mic', 'Fan', 'Da', 'Emper'], 'last_name': ['Bon', 'Gelo', 'Fan', 'Ta', 'Ature'], 'cabin': ['sea_view', 'pool_side', 'palace', 'economy', 'deck_view'], 'room_number': [11, 93, 5, 19, 55], 'pax_num': array([1, 2, 3, 4, 5]), 'fun_activities': ['drawing', 'acting', 'rock_climbing', 'pool_volley_ball', 'video_games'], 'boating': ['Monday, 7:00AM-8:00AM', 'Tuesday,  7:00AM-8:00AM', 'Thursday,  7:00AM-8:00AM', 'Friday,  7:00AM-8:00AM', 'Saturday,  7:00AM-8:00AM'], 'sky_diving': ['Monday, 9:00AM-10:00AM', 'Tuesday, 9:00AM-10:00AM', 'Thursday, 9:00AM-10:00AM', 'Friday, 9:00AM-10:00AM', 'Saturday, 9:00AM-10:00AM'], 'snorkeling': ['Monday, 11:00AM-12:00PM', 'Tuesday, 11:00AM-12:00PM', 'Thursday, 11:00AM-12:00PM', 'Friday, 11:00AM-12:00PM', 'Saturday, 11:00AM-12:00PM'], 'fishing': ['Monday, 4:00PM-5:00PM', 'Tuesday, 4:00PM-5:00PM', 'Thursday, 4:00PM-5:00PM', 'Friday, 4:00PM-5:00PM', 'Saturday, 4:00PM-5:00PM'], 'deck': ['A', 'A', 'A', 'B', 'C'], 'Tour_Day_1': ['SunCity', 'BlueOcean', 'MysticRiver', 'MountainMax', 'SnowPeak'], 'Tour_Day_2': ['SnowPeak', 'MountainMax', 'MysticRiver', 'BlueOcean', 'SunCity'], 'Tour_Day_3': ['MountainMax', 'SnowPeak', 'SunCity', 'MysticRiver', 'BlueOcean'], 'Tour_Day_4': ['SunCity', 'BlueOcean', 'SnowPeak', 'MountainMax', 'MysticRiver'], 'Tour_Day_5': ['SnowPeak', 'BlueOcean', 'MountainMax', 'SunCity', 'MysticRiver']}\n",
      "\n",
      "\n",
      "New keys:\n",
      " dict_keys(['first_name', 'last_name', 'cabin', 'room_number', 'pax_num', 'fun_activities', 'boating', 'sky_diving', 'snorkeling', 'fishing', 'deck', 'Tour_Day_1', 'Tour_Day_2', 'Tour_Day_3', 'Tour_Day_4', 'Tour_Day_5'])\n"
     ]
    }
   ],
   "source": [
    "location= np.array([\n",
    "    ['Tour_Day_1', 'SunCity', 'BlueOcean', 'MysticRiver', 'MountainMax', 'SnowPeak'],\n",
    "    ['Tour_Day_2', 'SnowPeak', 'MountainMax', 'MysticRiver', 'BlueOcean', 'SunCity'],\n",
    "    ['Tour_Day_3', 'MountainMax', 'SnowPeak', 'SunCity', 'MysticRiver', 'BlueOcean'],\n",
    "    ['Tour_Day_4', 'SunCity', 'BlueOcean', 'SnowPeak', 'MountainMax', 'MysticRiver'],\n",
    "    ['Tour_Day_5', 'SnowPeak', 'BlueOcean', 'MountainMax', 'SunCity', 'MysticRiver']\n",
    "\n",
    "    # Keys        [ <------------------------- values ---------------------------->]\n",
    "])\n",
    "\n",
    "# ------- type the answer below this line ------- #\n",
    "\n",
    "# Answer # 1:\n",
    "for i in range(location.shape[0]):\n",
    "    key = location[i,0] # Get the keys from column at index=0 from array location\n",
    "    value = list(location[i,1:]) # Get the values for the key. These are the columns in array location from index=1 onwards\n",
    "    pax[key] = value\n",
    "\n",
    "print(\"pax:\\n\", pax)\n",
    "print(\"\\n\")\n",
    "print(\"New keys:\\n\", pax.keys())"
   ]
  },
  {
   "cell_type": "markdown",
   "metadata": {},
   "source": [
    "### Question # 4\n",
    "\n",
    "Print the iterenary for each passenger from the dictionary 'pax'.\n",
    "\n",
    "Hint_1: To access key and values from dictionary use the method below:\n",
    "    - For example:\n",
    "        - a_dict = {'name':['To','Ra','Pam'],\n",
    "                    'city':['Yado', 'Rila','Zim']\n",
    "                    }\n",
    "        - a_dict['name'] gives the ['To','Ra','Pam']\n",
    "        - a_dict['name'][0] gives the 'To'\n",
    "        - a_dict.keys() gives ['name', 'city']\n",
    "\n",
    "Hint_2: Use for-loop to iterate over all the keys in the dictionary 'pax'\n",
    "\n",
    "Example complete iterenary for each passenger in the dictionary 'pax':\n",
    "    - First name\n",
    "    - Last name \n",
    "    - Cabin\n",
    "    - Preferred show\n",
    "    - Berth number\n",
    "    - Deck\n",
    "    - Fun activities\n",
    "    - Outdoor activities\n",
    "    - Boating timing\n",
    "    - Sky diving timing\n",
    "    - Snorkeling timing\n",
    "    - Fishing timing\n",
    "    - Tour_Day_1\n",
    "    - Tour_Day_2\n",
    "    - Tour_Day_3\n",
    "    - Tour_Day_4\n",
    "    - Tour_Day_5\n",
    "\n",
    "\n",
    "Print all answers to output\n",
    "\n",
    "[Note: Create new variables of your choice as needed.]"
   ]
  },
  {
   "cell_type": "code",
   "execution_count": 31,
   "metadata": {
    "scrolled": false
   },
   "outputs": [
    {
     "name": "stdout",
     "output_type": "stream",
     "text": [
      "##############################################\n",
      "# Itinerary for passengers onboard OceanBlue #\n",
      "#              Welcome!!!                    #\n",
      "##############################################\n",
      "\n",
      "-----------------------------------------\n",
      "*** Passenger #  0  ***\n",
      "-----------------------------------------\n",
      "\n",
      "first_name : Rib\n",
      "last_name : Bon\n",
      "cabin : sea_view\n",
      "room_number : 11\n",
      "pax_num : 1\n",
      "fun_activities : drawing\n",
      "boating : Monday, 7:00AM-8:00AM\n",
      "sky_diving : Monday, 9:00AM-10:00AM\n",
      "snorkeling : Monday, 11:00AM-12:00PM\n",
      "fishing : Monday, 4:00PM-5:00PM\n",
      "deck : A\n",
      "Tour_Day_1 : SunCity\n",
      "Tour_Day_2 : SnowPeak\n",
      "Tour_Day_3 : MountainMax\n",
      "Tour_Day_4 : SunCity\n",
      "Tour_Day_5 : SnowPeak\n",
      "\n",
      "-----------------------------------------\n",
      "*** Passenger #  1  ***\n",
      "-----------------------------------------\n",
      "\n",
      "first_name : Mic\n",
      "last_name : Gelo\n",
      "cabin : pool_side\n",
      "room_number : 93\n",
      "pax_num : 2\n",
      "fun_activities : acting\n",
      "boating : Tuesday,  7:00AM-8:00AM\n",
      "sky_diving : Tuesday, 9:00AM-10:00AM\n",
      "snorkeling : Tuesday, 11:00AM-12:00PM\n",
      "fishing : Tuesday, 4:00PM-5:00PM\n",
      "deck : A\n",
      "Tour_Day_1 : BlueOcean\n",
      "Tour_Day_2 : MountainMax\n",
      "Tour_Day_3 : SnowPeak\n",
      "Tour_Day_4 : BlueOcean\n",
      "Tour_Day_5 : BlueOcean\n",
      "\n",
      "-----------------------------------------\n",
      "*** Passenger #  2  ***\n",
      "-----------------------------------------\n",
      "\n",
      "first_name : Fan\n",
      "last_name : Fan\n",
      "cabin : palace\n",
      "room_number : 5\n",
      "pax_num : 3\n",
      "fun_activities : rock_climbing\n",
      "boating : Thursday,  7:00AM-8:00AM\n",
      "sky_diving : Thursday, 9:00AM-10:00AM\n",
      "snorkeling : Thursday, 11:00AM-12:00PM\n",
      "fishing : Thursday, 4:00PM-5:00PM\n",
      "deck : A\n",
      "Tour_Day_1 : MysticRiver\n",
      "Tour_Day_2 : MysticRiver\n",
      "Tour_Day_3 : SunCity\n",
      "Tour_Day_4 : SnowPeak\n",
      "Tour_Day_5 : MountainMax\n",
      "\n",
      "-----------------------------------------\n",
      "*** Passenger #  3  ***\n",
      "-----------------------------------------\n",
      "\n",
      "first_name : Da\n",
      "last_name : Ta\n",
      "cabin : economy\n",
      "room_number : 19\n",
      "pax_num : 4\n",
      "fun_activities : pool_volley_ball\n",
      "boating : Friday,  7:00AM-8:00AM\n",
      "sky_diving : Friday, 9:00AM-10:00AM\n",
      "snorkeling : Friday, 11:00AM-12:00PM\n",
      "fishing : Friday, 4:00PM-5:00PM\n",
      "deck : B\n",
      "Tour_Day_1 : MountainMax\n",
      "Tour_Day_2 : BlueOcean\n",
      "Tour_Day_3 : MysticRiver\n",
      "Tour_Day_4 : MountainMax\n",
      "Tour_Day_5 : SunCity\n",
      "\n",
      "-----------------------------------------\n",
      "*** Passenger #  4  ***\n",
      "-----------------------------------------\n",
      "\n",
      "first_name : Emper\n",
      "last_name : Ature\n",
      "cabin : deck_view\n",
      "room_number : 55\n",
      "pax_num : 5\n",
      "fun_activities : video_games\n",
      "boating : Saturday,  7:00AM-8:00AM\n",
      "sky_diving : Saturday, 9:00AM-10:00AM\n",
      "snorkeling : Saturday, 11:00AM-12:00PM\n",
      "fishing : Saturday, 4:00PM-5:00PM\n",
      "deck : C\n",
      "Tour_Day_1 : SnowPeak\n",
      "Tour_Day_2 : SunCity\n",
      "Tour_Day_3 : BlueOcean\n",
      "Tour_Day_4 : MysticRiver\n",
      "Tour_Day_5 : MysticRiver\n",
      "\n",
      "##############################################\n"
     ]
    }
   ],
   "source": [
    "\n",
    "\n",
    "# ------- type the answer below this line ------- #\n",
    "\n",
    "# Answer # 1:\n",
    "\n",
    "print(\"##############################################\")\n",
    "print(\"# Itinerary for passengers onboard OceanBlue #\")\n",
    "print(\"#              Welcome!!!                    #\")\n",
    "print(\"##############################################\")\n",
    "for i in range(len(pax['first_name'])):\n",
    "    print(\"\\n-----------------------------------------\")\n",
    "    print(\"*** Passenger # \", i, \" ***\")\n",
    "    print(\"-----------------------------------------\\n\")\n",
    "    for key in pax:\n",
    "        print(key, \":\", pax[key][i])\n",
    "\n",
    "print(\"\\n##############################################\")"
   ]
  },
  {
   "cell_type": "code",
   "execution_count": null,
   "metadata": {},
   "outputs": [],
   "source": []
  },
  {
   "cell_type": "code",
   "execution_count": null,
   "metadata": {},
   "outputs": [],
   "source": []
  },
  {
   "cell_type": "markdown",
   "metadata": {},
   "source": [
    "# Congratulations on completing the exercise!"
   ]
  },
  {
   "cell_type": "markdown",
   "metadata": {},
   "source": [
    "### Hope you enjoyed the questions. Thank you !!!"
   ]
  },
  {
   "cell_type": "markdown",
   "metadata": {},
   "source": [
    "#### Please like, share and subscribe to learndataa \n",
    "-<html>https://www.youtube.com/channel/UCzUpHQAfj3ulmJkTAfBtXLw/</html>"
   ]
  },
  {
   "cell_type": "code",
   "execution_count": 27,
   "metadata": {},
   "outputs": [],
   "source": [
    "#learndataa learndataa learndataa learndataa learndataa learndataa learndataa learndataa learndataa"
   ]
  }
 ],
 "metadata": {
  "kernelspec": {
   "display_name": "Python 3",
   "language": "python",
   "name": "python3"
  },
  "language_info": {
   "codemirror_mode": {
    "name": "ipython",
    "version": 3
   },
   "file_extension": ".py",
   "mimetype": "text/x-python",
   "name": "python",
   "nbconvert_exporter": "python",
   "pygments_lexer": "ipython3",
   "version": "3.7.4"
  }
 },
 "nbformat": 4,
 "nbformat_minor": 2
}
