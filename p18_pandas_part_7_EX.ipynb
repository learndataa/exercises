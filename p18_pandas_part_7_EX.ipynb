{
 "cells": [
  {
   "cell_type": "code",
   "execution_count": 1,
   "metadata": {},
   "outputs": [],
   "source": [
    "#learndataa learndataa learndataa learndataa learndataa learndataa learndataa learndataa learndataa"
   ]
  },
  {
   "cell_type": "markdown",
   "metadata": {},
   "source": [
    "## Exercises"
   ]
  },
  {
   "cell_type": "markdown",
   "metadata": {},
   "source": [
    "### For Beginners: 18. Pandas (Part 7) Index for DataFrames in Python"
   ]
  },
  {
   "cell_type": "markdown",
   "metadata": {},
   "source": [
    "#### Total questions sets:  3\n",
    "#### Estimated time required: upto 45 minutes or more (Please take your time to understand and solve the questions.)"
   ]
  },
  {
   "cell_type": "markdown",
   "metadata": {},
   "source": [
    "[Notes: \n",
    "- Answers may be typed after the line \"#-------#\" in each cell. Additional cells may be created if needed.\n",
    "- The estimated time required to complete the exercise may vary depending on your prior knowledge.\n",
    "- Answers to the questions are posted at the end of this worksheet. However, to help you learn, it is suggested that you to try to answer the questions yourself before looking at the answers.\n",
    "]"
   ]
  },
  {
   "cell_type": "markdown",
   "metadata": {},
   "source": [
    "### Import libraries"
   ]
  },
  {
   "cell_type": "code",
   "execution_count": 11,
   "metadata": {},
   "outputs": [],
   "source": [
    "import numpy as np\n",
    "import pandas as pd\n",
    "import matplotlib.pyplot as plt"
   ]
  },
  {
   "cell_type": "code",
   "execution_count": null,
   "metadata": {},
   "outputs": [],
   "source": []
  },
  {
   "cell_type": "markdown",
   "metadata": {},
   "source": [
    "### Question 0:\n",
    "\n",
    "#### Story:\n",
    "Game data for five teams is stored in the DataFrame 'data' below.\n",
    "\n",
    "#### Request:\n",
    "    - Notice how the year and month were extracted from the column 'game_year'\n",
    "    - Print the indices of 'data'\n",
    "    - Create a copy of 'data' as 'df1', and change the indices for the rows to [0,1,2,....9]\n",
    "    - Create a copy of 'data' as 'df2', and reset indices (Hint: use .reset_index()\n",
    "    - Create a copy of 'data' as 'df3', and set the column 'winner' as index\n",
    "        - Then, use .lookup() command to get the 'wscore' (winning score) for the 'Team_B'\n",
    "    - Create a copy of 'data' as 'df4', and set the column 'game_year' as index\n",
    "        - Then, create a bar plot of crowd using this index. (Hint: x-axis: index, y-axis: crowd)\n",
    "\n",
    "Print all answers to output.\n",
    "\n",
    "\n",
    "[Note: Create new variables of your choice as needed. Create new cells as needed]\n",
    "\n",
    "\n"
   ]
  },
  {
   "cell_type": "code",
   "execution_count": 12,
   "metadata": {},
   "outputs": [],
   "source": [
    "# Game data\n",
    "data= pd.DataFrame({\n",
    "    'game_date':['01-02-1991','04-03-1992','05-12-1993','06-25-1994','11-12-1995',\n",
    "           '12-13-2000','01-02-1999','07-09-1998','04-13-1997','06-27-1996'],\n",
    "    'winner':['Team_A','Team_B','Team_B','Team_C','Team_A',\n",
    "             'Team_C','Team_B','Team_A','Team_D','Team_F'],\n",
    "    'wscore':[3,2,4,1,2,\n",
    "             3,5,2,2,1],\n",
    "    'city':['Plateau','Plateau','Suncity','Overfalls','Overfalls',\n",
    "           'Overfalls','Suncity','Plateau','Suncity','Overfalls'],\n",
    "    'crowd':[20233,24352,12536,52524,54634,\n",
    "            52213,12435,24212,14252,55241]\n",
    "    },\n",
    "    index=[101,102,103,105,109,\n",
    "          121,123,145,189,200]\n",
    "        \n",
    ")\n",
    "# Extract year and month from the game_date\n",
    "data['game_date'] = data['game_date'].apply(lambda x: pd.Timestamp(x))\n",
    "data['game_year'] = data['game_date'].apply(lambda x: x.year)\n",
    "data['game_month'] = data['game_date'].apply(lambda x: x.month)\n",
    "\n",
    "# Sort by game_date\n",
    "data = data.sort_values(by='game_date')\n",
    "\n",
    "\n",
    "# ------- type the answer below this line ------- #\n",
    "\n"
   ]
  },
  {
   "cell_type": "markdown",
   "metadata": {},
   "source": [
    "### Question 1:\n",
    "\n",
    "Use the same DataFrame 'data' from Q#1 above.\n",
    "\n",
    "    - Create a copy of 'data' as 'df5', and using indexing operation, get information about 'Team_B' only\n",
    "    [Hint: use .set_index()]\n",
    "    \n",
    "    - Create a copy of 'data' as 'df6', and using .drop_duplicates() get only the highest score for each team\n",
    "\n",
    "    - Create a copy of 'data' as 'df7', and set city as index.\n",
    "        - Then, find city with (i) highest score and (ii) its highest crowd\n",
    "    \n",
    "    \n",
    "\n",
    "Print all answers to output.\n",
    "\n",
    "[Note: Create new variables of your choice as needed. Create new cells as needed]"
   ]
  },
  {
   "cell_type": "code",
   "execution_count": null,
   "metadata": {},
   "outputs": [],
   "source": [
    "\n",
    "# ------- type the answer below this line ------- #\n",
    "\n",
    "\n",
    "    \n"
   ]
  },
  {
   "cell_type": "markdown",
   "metadata": {},
   "source": [
    "### Question 2:\n",
    "\n",
    "    - Create a copy of 'data' as 'df7', and set the columns 'winner' and 'city' as index\n",
    "        - Then, using these indicies get 'game_year' and 'wscore' information about 'Team_C' when they played in the city 'Overfalls'\n",
    "\n",
    "    - Create a copy of 'data' as 'df8', and set the columns 'game_year', 'winner' and 'city' as index\n",
    "        - Then, using these indicies, find what was the 'wscore' and 'crowd' for the 'Team_D' when they played in 'Suncity' in the year 1997\n",
    "\n",
    "Print all answers to output.\n",
    "\n",
    "[Note: Create new variables of your choice as needed. Create new cells as needed]"
   ]
  },
  {
   "cell_type": "code",
   "execution_count": 8,
   "metadata": {},
   "outputs": [],
   "source": [
    "\n",
    "# ------- type the answer below this line ------- #\n",
    "\n",
    "\n",
    "    \n",
    "\n"
   ]
  },
  {
   "cell_type": "code",
   "execution_count": null,
   "metadata": {},
   "outputs": [],
   "source": []
  },
  {
   "cell_type": "code",
   "execution_count": null,
   "metadata": {},
   "outputs": [],
   "source": []
  },
  {
   "cell_type": "markdown",
   "metadata": {},
   "source": [
    "### ////////////////////////////////////////////////////////////////////////////////////////////////////////\n",
    "### ////////////////////////////////////////////////////////////////////////////////////////////////////////\n",
    "### For practice, please try the questions above before looking at the answers below\n",
    "### ////////////////////////////////////////////////////////////////////////////////////////////////////////\n",
    "### ////////////////////////////////////////////////////////////////////////////////////////////////////////"
   ]
  },
  {
   "cell_type": "markdown",
   "metadata": {},
   "source": [
    "# Answers\n",
    "[Note: There may be different ways to answer the same question. Therefore, it is okay if the answers vary and sometimes do not match exactly.]"
   ]
  },
  {
   "cell_type": "code",
   "execution_count": null,
   "metadata": {},
   "outputs": [],
   "source": []
  },
  {
   "cell_type": "markdown",
   "metadata": {},
   "source": [
    "### Question 0:\n",
    "\n",
    "#### Story:\n",
    "Game data for five teams is stored in the DataFrame 'data' below.\n",
    "\n",
    "#### Request:\n",
    "    - Notice how the year and month were extracted from the column 'game_year'\n",
    "    - Print the indices of 'data'\n",
    "    - Create a copy of 'data' as 'df1', and change the indices for the rows to [0,1,2,....9]\n",
    "    - Create a copy of 'data' as 'df2', and reset indices (Hint: use .reset_index()\n",
    "    - Create a copy of 'data' as 'df3', and set the column 'winner' as index\n",
    "        - Then, use .lookup() command to get the 'wscore' (winning score) for the 'Team_B'\n",
    "    - Create a copy of 'data' as 'df4', and set the column 'game_year' as index\n",
    "        - Then, create a bar plot of crowd using this index. (Hint: x-axis: index, y-axis: crowd)\n",
    "\n",
    "Print all answers to output.\n",
    "\n",
    "\n",
    "[Note: Create new variables of your choice as needed. Create new cells as needed]\n",
    "\n",
    "\n"
   ]
  },
  {
   "cell_type": "code",
   "execution_count": 14,
   "metadata": {},
   "outputs": [
    {
     "name": "stdout",
     "output_type": "stream",
     "text": [
      "# Answer-1 -------------------------------\n",
      "Noted the use of 'apply()' and 'lambda()'.\n",
      "\n",
      "\n",
      "# Answer-2 -------------------------------\n",
      "Indices of 'data':\n",
      " [101 102 103 105 109 200 189 145 123 121]\n",
      "\n",
      "\n",
      "# Answer-3 -------------------------------\n",
      "New indices of 'df1':\n",
      " [0 1 2 3 4 5 6 7 8 9]\n",
      "\n",
      "\n",
      "# Answer-4 -------------------------------\n",
      "New indices of 'df2':\n",
      " [0 1 2 3 4 5 6 7 8 9]\n",
      "\n",
      "\n",
      "# Answer-5 -------------------------------\n",
      "Winning score 'wscore' for 'Team_B':\n",
      " [2 4 5]\n",
      "\n",
      "\n",
      "# Answer-6 -------------------------------\n"
     ]
    },
    {
     "data": {
      "image/png": "[encoded data removed]",
      "text/plain": [
       "<Figure size 432x288 with 1 Axes>"
      ]
     },
     "metadata": {
      "needs_background": "light"
     },
     "output_type": "display_data"
    }
   ],
   "source": [
    "# Game data\n",
    "data= pd.DataFrame({\n",
    "    'game_date':['01-02-1991','04-03-1992','05-12-1993','06-25-1994','11-12-1995',\n",
    "           '12-13-2000','01-02-1999','07-09-1998','04-13-1997','06-27-1996'],\n",
    "    'winner':['Team_A','Team_B','Team_B','Team_C','Team_A',\n",
    "             'Team_C','Team_B','Team_A','Team_D','Team_F'],\n",
    "    'wscore':[3,2,4,1,2,\n",
    "             3,5,2,2,1],\n",
    "    'city':['Plateau','Plateau','Suncity','Overfalls','Overfalls',\n",
    "           'Overfalls','Suncity','Plateau','Suncity','Overfalls'],\n",
    "    'crowd':[20233,24352,12536,52524,54634,\n",
    "            52213,12435,24212,14252,55241]\n",
    "    },\n",
    "    index=[101,102,103,105,109,\n",
    "          121,123,145,189,200]\n",
    "        \n",
    ")\n",
    "# Extract year and month from the game_date\n",
    "data['game_date'] = data['game_date'].apply(lambda x: pd.Timestamp(x))\n",
    "data['game_year'] = data['game_date'].apply(lambda x: x.year)\n",
    "data['game_month'] = data['game_date'].apply(lambda x: x.month)\n",
    "\n",
    "# Sort by game_date\n",
    "data = data.sort_values(by='game_date')\n",
    "\n",
    "\n",
    "\n",
    "\n",
    "# ------- type the answer below this line ------- #\n",
    "\n",
    "\n",
    "print(\"# Answer-1 -------------------------------\")\n",
    "print(\"Noted the use of 'apply()' and 'lambda()'.\")\n",
    "print(\"\\n\")\n",
    "\n",
    "\n",
    "print(\"# Answer-2 -------------------------------\")\n",
    "print(\"Indices of 'data':\\n\", data.index.values)\n",
    "print(\"\\n\")\n",
    "\n",
    "print(\"# Answer-3 -------------------------------\")\n",
    "df1 = data.copy()\n",
    "df1.index = list(range(0,10))\n",
    "print(\"New indices of 'df1':\\n\", df1.index.values)\n",
    "print(\"\\n\")\n",
    "\n",
    "print(\"# Answer-4 -------------------------------\")\n",
    "df2 = data.copy()\n",
    "df2 = df2.reset_index(drop=True)\n",
    "print(\"New indices of 'df2':\\n\", df2.index.values)\n",
    "print(\"\\n\")\n",
    "\n",
    "print(\"# Answer-5 -------------------------------\")\n",
    "df3 = data.copy()\n",
    "df3 = df3.set_index('winner')\n",
    "x = df3.lookup(['Team_B'],['wscore'])[0]\n",
    "print(\"Winning score 'wscore' for 'Team_B':\\n\", x)\n",
    "print(\"\\n\")\n",
    "\n",
    "\n",
    "print(\"# Answer-6 -------------------------------\")\n",
    "df4 = data.copy()\n",
    "df4 = df4.set_index('game_year')\n",
    "\n",
    "plt.bar(df4.index, df4['crowd'])\n",
    "plt.xlabel('Game year')\n",
    "plt.ylabel('Crowd or number of people')\n",
    "plt.title(\"Timeline of game year and crowd.\")\n",
    "plt.show()\n",
    "\n"
   ]
  },
  {
   "cell_type": "markdown",
   "metadata": {},
   "source": [
    "### Question 1:\n",
    "\n",
    "Use the same DataFrame 'data' from Q#1 above.\n",
    "\n",
    "    - Create a copy of 'data' as 'df5', and using indexing operation, get information about 'Team_B' only\n",
    "    [Hint: use .set_index()]\n",
    "    \n",
    "    - Create a copy of 'data' as 'df6', and using .drop_duplicates() get only the highest score for each team\n",
    "\n",
    "    - Create a copy of 'data' as 'df7', and set city as index.\n",
    "        - Then, find city with (i) highest score and (ii) its highest crowd\n",
    "    \n",
    "    \n",
    "\n",
    "Print all answers to output.\n",
    "\n",
    "[Note: Create new variables of your choice as needed. Create new cells as needed]"
   ]
  },
  {
   "cell_type": "code",
   "execution_count": 15,
   "metadata": {},
   "outputs": [
    {
     "name": "stdout",
     "output_type": "stream",
     "text": [
      "# Answer-1 -------------------------------\n",
      "Information about 'Team_B':\n",
      "         game_date  wscore     city  crowd  game_year  game_month\n",
      "winner                                                          \n",
      "Team_B 1992-04-03       2  Plateau  24352       1992           4\n",
      "Team_B 1993-05-12       4  Suncity  12536       1993           5\n",
      "Team_B 1999-01-02       5  Suncity  12435       1999           1\n",
      "\n",
      "\n",
      "# Answer-2 -------------------------------\n",
      "Highest score by team:\n",
      "      winner  wscore\n",
      "101  Team_A       3\n",
      "123  Team_B       5\n",
      "121  Team_C       3\n",
      "189  Team_D       2\n",
      "200  Team_F       1\n",
      "\n",
      "\n",
      "# Answer-3 -------------------------------\n",
      "Highest score city:  Suncity\n",
      "Highest crowd in the highest score city:  14252\n",
      "\n",
      "\n"
     ]
    }
   ],
   "source": [
    "\n",
    "# ------- type the answer below this line ------- #\n",
    "\n",
    "\n",
    "print(\"# Answer-1 -------------------------------\")\n",
    "df5 = data.copy()\n",
    "df5 = df5.set_index('winner')\n",
    "x = df5.loc[['Team_B'],:]\n",
    "print(\"Information about 'Team_B':\\n\", x)\n",
    "print(\"\\n\")\n",
    "\n",
    "print(\"# Answer-2 -------------------------------\")\n",
    "df6 = data.copy()\n",
    "df6 = df6.sort_values(by=['winner','wscore'])\n",
    "x = df6.drop_duplicates('winner', keep='last')\n",
    "print(\"Highest score by team:\\n\", x[['winner','wscore']])\n",
    "print(\"\\n\")\n",
    "\n",
    "print(\"# Answer-3 -------------------------------\")\n",
    "df7 = data.copy()\n",
    "df7 = df7.set_index('city')\n",
    "# Sort by wscore and crowd such that highest value is at the top at index=0\n",
    "x1 = df7.sort_values(by=['wscore','crowd'], ascending=False)\n",
    "# Get city with highest score\n",
    "highest_wscore_city = x1.index[0]\n",
    "# Get highest crowd for above city\n",
    "highest_crowd_in_highest_wscore_city = x1.loc[x1.index[0], 'crowd'].max()\n",
    "print(\"Highest score city: \", highest_wscore_city)\n",
    "print(\"Highest crowd in the highest score city: \", highest_crowd_in_highest_wscore_city)\n",
    "print(\"\\n\")\n",
    "\n",
    "\n",
    "\n",
    "    \n"
   ]
  },
  {
   "cell_type": "markdown",
   "metadata": {},
   "source": [
    "### Question 2:\n",
    "\n",
    "    - Create a copy of 'data' as 'df8', and set the columns 'winner' and 'city' as index\n",
    "        - Then, using these indicies get 'game_year' and 'wscore' information about 'Team_C' when they played in the city 'Overfalls'\n",
    "\n",
    "    - Create a copy of 'data' as 'df9', and set the columns 'game_year', 'winner' and 'city' as index\n",
    "        - Then, using these indicies, find what was the 'wscore' and 'crowd' for the 'Team_D' when they played in 'Suncity' in the year 1997\n",
    "\n",
    "Print all answers to output.\n",
    "\n",
    "[Note: Create new variables of your choice as needed. Create new cells as needed]"
   ]
  },
  {
   "cell_type": "code",
   "execution_count": 17,
   "metadata": {},
   "outputs": [
    {
     "name": "stdout",
     "output_type": "stream",
     "text": [
      "# Answer-1 -------------------------------\n",
      "Information about Team_C in Overfalls:\n",
      "                   game_year  wscore\n",
      "winner city                        \n",
      "Team_C Overfalls       1994       1\n",
      "       Overfalls       2000       3\n",
      "\n",
      "\n",
      "# Answer-2 -------------------------------\n",
      "Information about Team_D in Suncity in 1997:\n",
      "                           wscore  crowd\n",
      "game_year winner city                  \n",
      "1997      Team_D Suncity       2  14252\n",
      "\n",
      "\n"
     ]
    }
   ],
   "source": [
    "\n",
    "# ------- type the answer below this line ------- #\n",
    "\n",
    "print(\"# Answer-1 -------------------------------\")\n",
    "df8 = data.copy()\n",
    "df8 = df8.set_index(['winner','city'])\n",
    "x = df8.loc[['Team_C', 'Overfalls'], ['game_year', 'wscore']]\n",
    "\n",
    "print(\"Information about Team_C in Overfalls:\\n\", x)\n",
    "print(\"\\n\")\n",
    "\n",
    "print(\"# Answer-2 -------------------------------\")\n",
    "df9 = data.copy()\n",
    "df9 = df9.set_index(['game_year','winner','city'])\n",
    "x = df9.loc[[1997, 'Team_D', 'Suncity'], ['wscore', 'crowd']]\n",
    "\n",
    "print(\"Information about Team_D in Suncity in 1997:\\n\", x)\n",
    "print(\"\\n\")\n",
    "\n",
    "\n",
    "\n",
    "    \n",
    "\n"
   ]
  },
  {
   "cell_type": "code",
   "execution_count": null,
   "metadata": {},
   "outputs": [],
   "source": []
  },
  {
   "cell_type": "code",
   "execution_count": null,
   "metadata": {},
   "outputs": [],
   "source": []
  },
  {
   "cell_type": "code",
   "execution_count": null,
   "metadata": {},
   "outputs": [],
   "source": []
  },
  {
   "cell_type": "markdown",
   "metadata": {},
   "source": [
    "# Congratulations on completing the exercise!"
   ]
  },
  {
   "cell_type": "markdown",
   "metadata": {},
   "source": [
    "### Hope you enjoyed the questions. Thank you !!!"
   ]
  },
  {
   "cell_type": "markdown",
   "metadata": {},
   "source": [
    "#### Please like, share and subscribe to learndataa \n",
    "-<html>https://www.youtube.com/channel/UCzUpHQAfj3ulmJkTAfBtXLw/</html>"
   ]
  },
  {
   "cell_type": "code",
   "execution_count": 27,
   "metadata": {},
   "outputs": [],
   "source": [
    "#learndataa learndataa learndataa learndataa learndataa learndataa learndataa learndataa learndataa"
   ]
  }
 ],
 "metadata": {
  "kernelspec": {
   "display_name": "Python 3",
   "language": "python",
   "name": "python3"
  },
  "language_info": {
   "codemirror_mode": {
    "name": "ipython",
    "version": 3
   },
   "file_extension": ".py",
   "mimetype": "text/x-python",
   "name": "python",
   "nbconvert_exporter": "python",
   "pygments_lexer": "ipython3",
   "version": "3.7.4"
  }
 },
 "nbformat": 4,
 "nbformat_minor": 2
}
