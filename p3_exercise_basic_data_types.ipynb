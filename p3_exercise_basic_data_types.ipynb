{
 "cells": [
  {
   "cell_type": "code",
   "execution_count": null,
   "metadata": {},
   "outputs": [],
   "source": [
    "#learndataa learndataa learndataa learndataa learndataa learndataa learndataa learndataa learndataa"
   ]
  },
  {
   "cell_type": "markdown",
   "metadata": {},
   "source": [
    "## <center> Exercises </center>"
   ]
  },
  {
   "cell_type": "markdown",
   "metadata": {},
   "source": [
    "### For Beginners: 3. Basic data types in Python "
   ]
  },
  {
   "cell_type": "markdown",
   "metadata": {},
   "source": [
    "#### Total questions: 5\n",
    "#### Estimated time required: < 30 minutes"
   ]
  },
  {
   "cell_type": "markdown",
   "metadata": {},
   "source": [
    "[Notes: \n",
    "- Answers may be typed after the line \"#-------#\" in each cell. Additional cells may be created if needed.\n",
    "- The estimated time required to complete the exercise may vary depending on your prior knowledge.\n",
    "- Answers to the questions are posted at the end of this worksheet. However, to help you learn, it is suggested that you to try to answer the questions yourself before looking at the answers.\n",
    "]"
   ]
  },
  {
   "cell_type": "markdown",
   "metadata": {},
   "source": [
    "### Question 0:\n",
    "- Print 'Hello World' "
   ]
  },
  {
   "cell_type": "code",
   "execution_count": null,
   "metadata": {},
   "outputs": [],
   "source": [
    "# ------- type the answer below this line ------- #\n",
    "\n"
   ]
  },
  {
   "cell_type": "markdown",
   "metadata": {},
   "source": [
    "### Question # 1:  Find the type of the variables and print the output below the cell"
   ]
  },
  {
   "cell_type": "code",
   "execution_count": 2,
   "metadata": {},
   "outputs": [
    {
     "name": "stdout",
     "output_type": "stream",
     "text": [
      "100\n",
      "<class 'int'>\n"
     ]
    }
   ],
   "source": [
    "# ---------------------------\n",
    "# Example question and asnwer\n",
    "# ---------------------------\n",
    "x = 100\n",
    "\n",
    "# ------- type the answer below this line ------- #\n",
    "\n",
    "print(x)\n",
    "print(type(x))"
   ]
  },
  {
   "cell_type": "code",
   "execution_count": null,
   "metadata": {},
   "outputs": [],
   "source": [
    "\n",
    "cash = 23.80\n",
    "\n",
    "# ------- type the answer below this line ------- #\n",
    "\n"
   ]
  },
  {
   "cell_type": "code",
   "execution_count": null,
   "metadata": {},
   "outputs": [],
   "source": [
    "\n",
    "first_name = 'Sky'\n",
    "\n",
    "# ------- type the answer below this line ------- #\n",
    "\n"
   ]
  },
  {
   "cell_type": "code",
   "execution_count": null,
   "metadata": {},
   "outputs": [],
   "source": [
    "sun = 1.3927*10**6 # km\n",
    "moon = 3474.2 # km\n",
    "\n",
    "\n",
    "\n",
    "# ------- type the answer below this line ------- #\n",
    "\n",
    "is_sun_greater_than_moon = "
   ]
  },
  {
   "cell_type": "markdown",
   "metadata": {},
   "source": [
    "### Question # 2: \n",
    "- Create a new variable that stores the total cost\n",
    "- Write the code to calculate total cost (Hint: x = 1 + 1)\n",
    "- Print cost as shown in this line: \"Total cost is ....\" (Hint: use %s for string and %f for float)"
   ]
  },
  {
   "cell_type": "code",
   "execution_count": null,
   "metadata": {},
   "outputs": [],
   "source": [
    "\n",
    "cost_of_soda = 2.00  # $\n",
    "cost_of_chips = 3 # $\n",
    "\n",
    "\n",
    "\n",
    "# ------- type the answer below this line ------- #\n",
    "\n",
    "total_cost = \n"
   ]
  },
  {
   "cell_type": "markdown",
   "metadata": {},
   "source": [
    "### Question # 3:\n",
    "- The store gave \\$0.50 discount on the chips\n",
    "- What is the final total_cost? (Hint: Subtract \\$0.50 from the total_cost calculated in cell above.)\n",
    "- Print cost as: \"Cost after discount is \\$....\" "
   ]
  },
  {
   "cell_type": "code",
   "execution_count": null,
   "metadata": {},
   "outputs": [],
   "source": [
    "discount = 2.00\n",
    "\n",
    "# ------- type the answer below this line ------- #\n",
    "\n",
    "final_cost = "
   ]
  },
  {
   "cell_type": "markdown",
   "metadata": {},
   "source": [
    "### Question # 4:\n",
    "- Check to see if the two numbers below are equal or one of them is greater than the other\n",
    "- To check each condition create additional cells if preferred and after answer is known\n",
    "- print answer as: \" number_1 is greater than/equal to/less than ....\""
   ]
  },
  {
   "cell_type": "code",
   "execution_count": null,
   "metadata": {},
   "outputs": [],
   "source": [
    "number_1 = 18972347924726394858345435937468035973427823658403560356724364245348975726427\n",
    "number_3 = 18972347924726394858345435937468035973427823658403560356724164245348975726427\n",
    "\n",
    "# ------- type the answer below this line ------- #\n",
    "\n"
   ]
  },
  {
   "cell_type": "markdown",
   "metadata": {},
   "source": [
    "### Question # 5:\n",
    "- Find the area of a square that has a side of length 248.56 inches (Hint: Use exponential such as x**2)\n",
    "- Print answer as: \"The area of square is ... square inches\" (Hint: Use %f to print float)"
   ]
  },
  {
   "cell_type": "code",
   "execution_count": null,
   "metadata": {},
   "outputs": [],
   "source": [
    "\n",
    "length_of_side = 248.56 # inches\n",
    "\n",
    "# ------- type the answer below this line ------- #\n",
    "\n",
    "area_of_square = "
   ]
  },
  {
   "cell_type": "code",
   "execution_count": null,
   "metadata": {},
   "outputs": [],
   "source": []
  },
  {
   "cell_type": "code",
   "execution_count": null,
   "metadata": {},
   "outputs": [],
   "source": []
  },
  {
   "cell_type": "code",
   "execution_count": null,
   "metadata": {},
   "outputs": [],
   "source": []
  },
  {
   "cell_type": "markdown",
   "metadata": {},
   "source": [
    "### ////////////////////////////////////////////////////////////////////////////////////////////////////////\n",
    "### ////////////////////////////////////////////////////////////////////////////////////////////////////////\n",
    "### For practice, please try the questions above before looking at the answers below\n",
    "### ////////////////////////////////////////////////////////////////////////////////////////////////////////\n",
    "### ////////////////////////////////////////////////////////////////////////////////////////////////////////"
   ]
  },
  {
   "cell_type": "markdown",
   "metadata": {},
   "source": [
    "# Answers\n",
    "[Note: There may be different ways to answer the same question. Therefore, it is okay if the answers vary and sometimes do not match exactly.]"
   ]
  },
  {
   "cell_type": "markdown",
   "metadata": {},
   "source": [
    "### Question 0:\n",
    "- Print 'Hello World' "
   ]
  },
  {
   "cell_type": "code",
   "execution_count": null,
   "metadata": {},
   "outputs": [],
   "source": [
    "# ------- type the answer below this line ------- #\n",
    "print(\"Hello World\")"
   ]
  },
  {
   "cell_type": "markdown",
   "metadata": {},
   "source": [
    "### Question # 1:  Find the type of the variables and print the output below the cell"
   ]
  },
  {
   "cell_type": "code",
   "execution_count": 2,
   "metadata": {},
   "outputs": [
    {
     "name": "stdout",
     "output_type": "stream",
     "text": [
      "100\n",
      "<class 'int'>\n"
     ]
    }
   ],
   "source": [
    "# ---------------------------\n",
    "# Example question and asnwer\n",
    "# ---------------------------\n",
    "x = 100\n",
    "\n",
    "# ------- type the answer below this line ------- #\n",
    "\n",
    "print(x)\n",
    "print(type(x))"
   ]
  },
  {
   "cell_type": "code",
   "execution_count": 13,
   "metadata": {},
   "outputs": [
    {
     "name": "stdout",
     "output_type": "stream",
     "text": [
      "23.8\n",
      "<class 'float'>\n"
     ]
    }
   ],
   "source": [
    "\n",
    "cash = 23.80\n",
    "\n",
    "# ------- type the answer below this line ------- #\n",
    "\n",
    "print(cash)\n",
    "print(type(cash))"
   ]
  },
  {
   "cell_type": "code",
   "execution_count": 14,
   "metadata": {},
   "outputs": [
    {
     "name": "stdout",
     "output_type": "stream",
     "text": [
      "Sky\n",
      "<class 'str'>\n"
     ]
    }
   ],
   "source": [
    "\n",
    "first_name = 'Sky'\n",
    "\n",
    "# ------- type the answer below this line ------- #\n",
    "\n",
    "print(first_name)\n",
    "print(type(first_name))"
   ]
  },
  {
   "cell_type": "code",
   "execution_count": 15,
   "metadata": {},
   "outputs": [
    {
     "name": "stdout",
     "output_type": "stream",
     "text": [
      "True\n",
      "<class 'bool'>\n"
     ]
    }
   ],
   "source": [
    "sun = 1.3927*10**6 # km\n",
    "moon = 3474.2 # km\n",
    "\n",
    "\n",
    "\n",
    "# ------- type the answer below this line ------- #\n",
    "\n",
    "is_sun_greater_than_moon = sun > moon\n",
    "\n",
    "print(is_sun_greater_than_moon)\n",
    "print(type(is_sun_greater_than_moon))"
   ]
  },
  {
   "cell_type": "markdown",
   "metadata": {},
   "source": [
    "### Question # 2: \n",
    "- Create a new variable that stores the total cost\n",
    "- Write the code to calculate total cost (Hint: x = 1 + 1)\n",
    "- Print cost as shown in this line: \"Total cost is ....\" (Hint: use %s for string and %f for float)"
   ]
  },
  {
   "cell_type": "code",
   "execution_count": 17,
   "metadata": {},
   "outputs": [
    {
     "name": "stdout",
     "output_type": "stream",
     "text": [
      "Total cost is $5.000000\n"
     ]
    }
   ],
   "source": [
    "\n",
    "cost_of_soda = 2.00  #$\n",
    "cost_of_chips = 3 #$\n",
    "\n",
    "\n",
    "\n",
    "# ------- type the answer below this line ------- #\n",
    "\n",
    "total_cost = cost_of_soda + cost_of_chips\n",
    "print(\"Total cost is $%f\" %(total_cost))"
   ]
  },
  {
   "cell_type": "markdown",
   "metadata": {},
   "source": [
    "### Question # 3:\n",
    "- The store gave \\$0.50 discount on the chips\n",
    "- What is the final total_cost? (Hint: Subtract \\$0.50 from the total_cost calculated in cell above.)\n",
    "- Print cost as: \"Cost after discount is ....\" "
   ]
  },
  {
   "cell_type": "code",
   "execution_count": 18,
   "metadata": {},
   "outputs": [
    {
     "name": "stdout",
     "output_type": "stream",
     "text": [
      "Cost after discount is $3.000000\n"
     ]
    }
   ],
   "source": [
    "discount = 2.00 #$\n",
    "\n",
    "# ------- type the answer below this line ------- #\n",
    "\n",
    "final_cost = total_cost - discount\n",
    "\n",
    "print(\"Cost after discount is $%f\" %(final_cost))"
   ]
  },
  {
   "cell_type": "markdown",
   "metadata": {},
   "source": [
    "### Question # 4:\n",
    "- Check to see if the two numbers below are equal or one of them is greater than the other\n",
    "- Print answer as: \" number_1 is greater than/equal to/less than ....\""
   ]
  },
  {
   "cell_type": "code",
   "execution_count": 19,
   "metadata": {},
   "outputs": [
    {
     "data": {
      "text/plain": [
       "False"
      ]
     },
     "execution_count": 19,
     "metadata": {},
     "output_type": "execute_result"
    }
   ],
   "source": [
    "number_1 = 18972347924726394858345435937468035973427823658403560356724364245348975726427\n",
    "number_3 = 18972347924726394858345435937468035973427823658403560356724164245348975726427\n",
    "\n",
    "# ------- type the answer below this line ------- #\n",
    "\n",
    "number_1==number_3\n"
   ]
  },
  {
   "cell_type": "code",
   "execution_count": 20,
   "metadata": {},
   "outputs": [
    {
     "data": {
      "text/plain": [
       "True"
      ]
     },
     "execution_count": 20,
     "metadata": {},
     "output_type": "execute_result"
    }
   ],
   "source": [
    "number_1>number_3"
   ]
  },
  {
   "cell_type": "code",
   "execution_count": 21,
   "metadata": {},
   "outputs": [
    {
     "name": "stdout",
     "output_type": "stream",
     "text": [
      "number_1 is greater than number 2\n"
     ]
    }
   ],
   "source": [
    "print(\"number_1 is greater than number 2\")"
   ]
  },
  {
   "cell_type": "markdown",
   "metadata": {},
   "source": [
    "### Question # 5:\n",
    "- Find the area of a square that has a side of length 248.56 inches (Hint: Use exponential such as x**2)\n",
    "- Print answer as: \"The area of square is ...\" (Hint: Use %f to print float)"
   ]
  },
  {
   "cell_type": "code",
   "execution_count": 22,
   "metadata": {},
   "outputs": [
    {
     "name": "stdout",
     "output_type": "stream",
     "text": [
      "The area of square is 61782.073600 square inches.\n"
     ]
    }
   ],
   "source": [
    "\n",
    "length_of_side = 248.56 # inches\n",
    "\n",
    "# ------- type the answer below this line ------- #\n",
    "\n",
    "area_of_square = length_of_side**2\n",
    "\n",
    "print(\"The area of square is %f square inches.\" %(area_of_square))"
   ]
  },
  {
   "cell_type": "code",
   "execution_count": null,
   "metadata": {},
   "outputs": [],
   "source": []
  },
  {
   "cell_type": "code",
   "execution_count": null,
   "metadata": {},
   "outputs": [],
   "source": []
  },
  {
   "cell_type": "markdown",
   "metadata": {},
   "source": [
    "### <center> Hope you enjoyed the exercise. Thank you !!! </center>"
   ]
  },
  {
   "cell_type": "markdown",
   "metadata": {},
   "source": [
    "#### <center> Please like, share and subscribe to learndataa <html>https://www.youtube.com/channel/UCzUpHQAfj3ulmJkTAfBtXLw/</html></center>"
   ]
  },
  {
   "cell_type": "code",
   "execution_count": 27,
   "metadata": {},
   "outputs": [],
   "source": [
    "#learndataa learndataa learndataa learndataa learndataa learndataa learndataa learndataa learndataa"
   ]
  }
 ],
 "metadata": {
  "kernelspec": {
   "display_name": "Python 3",
   "language": "python",
   "name": "python3"
  },
  "language_info": {
   "codemirror_mode": {
    "name": "ipython",
    "version": 3
   },
   "file_extension": ".py",
   "mimetype": "text/x-python",
   "name": "python",
   "nbconvert_exporter": "python",
   "pygments_lexer": "ipython3",
   "version": "3.7.4"
  }
 },
 "nbformat": 4,
 "nbformat_minor": 2
}
