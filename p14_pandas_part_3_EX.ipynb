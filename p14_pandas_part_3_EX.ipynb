{
 "cells": [
  {
   "cell_type": "code",
   "execution_count": null,
   "metadata": {},
   "outputs": [],
   "source": [
    "#learndataa learndataa learndataa learndataa learndataa learndataa learndataa learndataa learndataa"
   ]
  },
  {
   "cell_type": "markdown",
   "metadata": {},
   "source": [
    "## Exercises"
   ]
  },
  {
   "cell_type": "markdown",
   "metadata": {},
   "source": [
    "### For Beginners: 14. Pandas (Part 3) Sampling a Series and DataFrame in Python"
   ]
  },
  {
   "cell_type": "markdown",
   "metadata": {},
   "source": [
    "#### Total questions sets: \n",
    "#### Estimated time required: upto 60 minutes or more (Please take your time to understand and solve the questions.)"
   ]
  },
  {
   "cell_type": "markdown",
   "metadata": {},
   "source": [
    "[Notes: \n",
    "- Answers may be typed after the line \"#-------#\" in each cell. Additional cells may be created if needed.\n",
    "- The estimated time required to complete the exercise may vary depending on your prior knowledge.\n",
    "- Answers to the questions are posted at the end of this worksheet. However, to help you learn, it is suggested that you to try to answer the questions yourself before looking at the answers.\n",
    "]"
   ]
  },
  {
   "cell_type": "markdown",
   "metadata": {},
   "source": [
    "### Import libraries"
   ]
  },
  {
   "cell_type": "code",
   "execution_count": 2,
   "metadata": {},
   "outputs": [],
   "source": [
    "import numpy as np\n",
    "import pandas as pd\n",
    "import matplotlib.pyplot as plt"
   ]
  },
  {
   "cell_type": "markdown",
   "metadata": {},
   "source": [
    "### Question 0:\n",
    "\n",
    "Using the given Series 'a':\n",
    "    - randomly sample any n=4 elements\n",
    "    - check if the sum of all the elements in the Series 'weights' is equal to 1.0\n",
    "    - sample n=4 elements using 'weights'\n",
    "    - sample by fraction of 0.60\n",
    "    - sample n=3 with and without replacement\n",
    "\n",
    "\n",
    "Using the given DataFrame 'df':\n",
    "    - randomly sample n=3 columns\n",
    "    - sample n=2 columns using 'col_weights (Hint: Exclude column 'row_weights' from 'df' before getting the sample)\n",
    "    - randomly sample n=4 rows without replacement\n",
    "\n",
    "Print all answers to output.\n",
    "\n",
    "\n",
    "[Note: Create new variables of your choice as needed.]\n",
    "\n"
   ]
  },
  {
   "cell_type": "code",
   "execution_count": null,
   "metadata": {},
   "outputs": [],
   "source": [
    "# Series\n",
    "a = pd.Series([4,2,6,3,5,9,11,23])\n",
    "weights = pd.Series([.0,.10,.10,.30,.45,.5, .0, .0])\n",
    "\n",
    "# DataFrame\n",
    "df = pd.DataFrame({\n",
    "    'A':[2,3,4,3,2,9],\n",
    "    'B':[5,6,5,6,4,3],\n",
    "    'C':[3,5,6,4,3,5],\n",
    "    'D':[4,5,7,5,7,8],\n",
    "    'row_weights':[0.5,.3,.1,.05,.05, .0]\n",
    "})\n",
    "col_weights = [0.10,0.7,0.15, 0.05]\n",
    "# ------- type the answer below this line ------- #\n",
    "\n"
   ]
  },
  {
   "cell_type": "markdown",
   "metadata": {},
   "source": [
    "### Question 1:\n",
    "\n",
    "#### Story\n",
    "A highway construction company 'SuperTransport' is building a bridge across a river. Fortunately, the sand that they need can be extracted from the river bed. However, before they can use that sand it has be graded. Grading would ensure that the sand grain particles of varying sizes are included in the cement mix. They need our help with requests below. \n",
    "\n",
    "#### Requests:\n",
    "    - Using the weights given in array 'mix' randomly any select n=3 sand grades from 'sand_grades'\n",
    "    - Then, using for-loop and if-statement and Series 'sand_qty_avail': check to see if the total quantity available for those grades is atleast 300 tons or tonnes\n",
    "        Hint-1: for loop syntax is below\n",
    "        for i in range(10):\n",
    "                # do this\n",
    "                if(x>=300):\n",
    "                    print(grades)\n",
    "                    break;\n",
    "        Hint-2: if you are getting no matches that satisfy the condition >= 300, then increase the number of iterations in the for-loop\n",
    "        Hint-3: Use indexing of grades to get quantity\n",
    "\n",
    "\n",
    "Print all answers to output.\n",
    "\n",
    "[Note: Create new variables of your choice as needed.]"
   ]
  },
  {
   "cell_type": "code",
   "execution_count": 4,
   "metadata": {},
   "outputs": [],
   "source": [
    "# Sand grades: coarse: C1 (coarsest) to C3; medium: M3 to M1; fine: F3 to F1 (finest)\n",
    "sand_grades = pd.Series(['C3', 'C2', 'C1', 'M3', 'M2', 'M1', 'F3', 'F2', 'F1']) \n",
    "# Estimated quantity of (in tons or tonnes) sand extracted for construction\n",
    "sand_qty_avail = pd.Series([20,35,10,55,60,75,100,105,150])\n",
    "# Varying sand mix proportions of desired\n",
    "mix = pd.Series([0.07, 0.05, 0.10, 0.02, 0.36, 0.12, .06, 0.15, .07])\n",
    "\n",
    "\n",
    "# ------- type the answer below this line ------- #\n"
   ]
  },
  {
   "cell_type": "code",
   "execution_count": null,
   "metadata": {},
   "outputs": [],
   "source": []
  },
  {
   "cell_type": "markdown",
   "metadata": {},
   "source": [
    "### Question 2:\n",
    "\n",
    "Based on information in Question # 1 above:\n",
    "\n",
    "#### Requests:\n",
    "    - Now, find a mixture of sand such that only one of three grades (1 to 3) for each type (C, M and F) are selected. Thus, the final mix would have only one of each C, M and F.\n",
    "    - Then, using 'sand_qty_avail' check to see if the total quantity availale for those grades is atleast 300 tons or tonnes. If no, then run the code again to randomly select a new set.\n",
    "        Hint-1: for loop syntax is below\n",
    "        for i in range(10):\n",
    "                # do this\n",
    "                if(x>=300):\n",
    "                    print(grades)\n",
    "                    break;\n",
    "        Hint-2: if you are getting no matches that satisfy the condition >= 300, then increase the number of iterations in the for-loop\n",
    "\n",
    "\n",
    "\n",
    "Print all answers to output.\n",
    "\n",
    "[Note: Create new variables of your choice as needed.]"
   ]
  },
  {
   "cell_type": "code",
   "execution_count": 4,
   "metadata": {},
   "outputs": [],
   "source": [
    "\n",
    "# ------- type the answer below this line ------- #\n",
    "\n",
    "\n"
   ]
  },
  {
   "cell_type": "code",
   "execution_count": null,
   "metadata": {},
   "outputs": [],
   "source": []
  },
  {
   "cell_type": "markdown",
   "metadata": {},
   "source": [
    "### ////////////////////////////////////////////////////////////////////////////////////////////////////////\n",
    "### ////////////////////////////////////////////////////////////////////////////////////////////////////////\n",
    "### For practice, please try the questions above before looking at the answers below\n",
    "### ////////////////////////////////////////////////////////////////////////////////////////////////////////\n",
    "### ////////////////////////////////////////////////////////////////////////////////////////////////////////"
   ]
  },
  {
   "cell_type": "markdown",
   "metadata": {},
   "source": [
    "# Answers\n",
    "[Note: There may be different ways to answer the same question. Therefore, it is okay if the answers vary and sometimes do not match exactly.]"
   ]
  },
  {
   "cell_type": "code",
   "execution_count": null,
   "metadata": {},
   "outputs": [],
   "source": []
  },
  {
   "cell_type": "markdown",
   "metadata": {},
   "source": [
    "### Question 0:\n",
    "\n",
    "Using the given Series 'a':\n",
    "    - randomly sample any n=4 elements\n",
    "    - check if the sum of all the elements in the Series 'weights' is equal to 1.0\n",
    "    - sample n=4 elements using 'weights'\n",
    "    - sample by fraction of 0.60\n",
    "    - sample n=3 with and without replacement\n",
    "\n",
    "\n",
    "Using the given DataFrame 'df':\n",
    "    - randomly sample n=3 columns\n",
    "    - sample n=2 columns using 'col_weights (Hint: Exclude column 'row_weights' from 'df' before getting the sample)\n",
    "    - randomly sample n=4 rows without replacement\n",
    "\n",
    "Print all answers to output.\n",
    "\n",
    "\n",
    "[Note: Create new variables of your choice as needed.]\n",
    "\n"
   ]
  },
  {
   "cell_type": "code",
   "execution_count": 3,
   "metadata": {},
   "outputs": [
    {
     "name": "stdout",
     "output_type": "stream",
     "text": [
      "Answer # 1 --------------------------------\n",
      "Randomly sampled \"a\":\n",
      " 7    23\n",
      "4     5\n",
      "6    11\n",
      "5     9\n",
      "dtype: int64\n",
      "\n",
      "\n",
      "Answer # 2 --------------------------------\n",
      "Sum of \"weights\":\n",
      " 1.45\n",
      "\n",
      "\n",
      "Answer # 3 --------------------------------\n",
      "Sample \"a\" using weights:\n",
      " 2    6\n",
      "5    9\n",
      "4    5\n",
      "1    2\n",
      "dtype: int64\n",
      "\n",
      "\n",
      "Answer # 4 --------------------------------\n",
      "Sample \"a\" using fraction=0.60:\n",
      " 7    23\n",
      "0     4\n",
      "6    11\n",
      "4     5\n",
      "3     3\n",
      "dtype: int64\n",
      "\n",
      "\n",
      "Answer # 5 --------------------------------\n",
      "Sample \"a\" without replacement:\n",
      " 0     4\n",
      "3     3\n",
      "7    23\n",
      "dtype: int64\n",
      "Sample \"a\" with replacement:\n",
      " 4    5\n",
      "2    6\n",
      "4    5\n",
      "dtype: int64\n",
      "\n",
      "\n",
      "Answer # 6 --------------------------------\n",
      "Sample \"df\" columns:\n",
      "    C  B  row_weights\n",
      "0  3  5         0.50\n",
      "1  5  6         0.30\n",
      "2  6  5         0.10\n",
      "3  4  6         0.05\n",
      "4  3  4         0.05\n",
      "5  5  3         0.00\n",
      "\n",
      "\n",
      "Answer # 7 --------------------------------\n",
      "Sample \"df\" columns using weights:\n",
      "    B  D\n",
      "0  5  4\n",
      "1  6  5\n",
      "2  5  7\n",
      "3  6  5\n",
      "4  4  7\n",
      "5  3  8\n",
      "\n",
      "\n",
      "Answer # 8 --------------------------------\n",
      "Sample \"df\" rows without replacement:\n",
      "    A  B  C  D  row_weights\n",
      "2  4  5  6  7          0.1\n",
      "5  9  3  5  8          0.0\n",
      "5  9  3  5  8          0.0\n",
      "5  9  3  5  8          0.0\n",
      "\n",
      "\n"
     ]
    }
   ],
   "source": [
    "# Series\n",
    "a = pd.Series([4,2,6,3,5,9,11,23])\n",
    "weights = pd.Series([.0,.10,.10,.30,.45,.5, .0, .0])\n",
    "\n",
    "# DataFrame\n",
    "df = pd.DataFrame({\n",
    "    'A':[2,3,4,3,2,9],\n",
    "    'B':[5,6,5,6,4,3],\n",
    "    'C':[3,5,6,4,3,5],\n",
    "    'D':[4,5,7,5,7,8],\n",
    "    'row_weights':[0.5,.3,.1,.05,.05, .0]\n",
    "})\n",
    "col_weights = [0.10,0.7,0.15, 0.05]\n",
    "\n",
    "# ------- type the answer below this line ------- #\n",
    "\n",
    "print(\"Answer # 1 --------------------------------\")\n",
    "x  = a.sample(n=4)\n",
    "print('Randomly sampled \"a\":\\n',x)\n",
    "print(\"\\n\")\n",
    "\n",
    "print(\"Answer # 2 --------------------------------\")\n",
    "wsum = np.sum(weights)\n",
    "print('Sum of \"weights\":\\n',wsum)\n",
    "print(\"\\n\")\n",
    "\n",
    "print(\"Answer # 3 --------------------------------\")\n",
    "y = a.sample(n=4, weights=weights)\n",
    "print('Sample \"a\" using weights:\\n',y)\n",
    "print(\"\\n\")\n",
    "\n",
    "print(\"Answer # 4 --------------------------------\")\n",
    "y = a.sample(frac=.6)\n",
    "print('Sample \"a\" using fraction=0.60:\\n',y)\n",
    "print(\"\\n\")\n",
    "\n",
    "print(\"Answer # 5 --------------------------------\")\n",
    "replace_no = a.sample(n=3, replace=False)\n",
    "replace_yes = a.sample(n=3, replace=True)\n",
    "print('Sample \"a\" without replacement:\\n', replace_no)\n",
    "print('Sample \"a\" with replacement:\\n', replace_yes)\n",
    "print(\"\\n\")\n",
    "\n",
    "\n",
    "print(\"Answer # 6 --------------------------------\")\n",
    "dfx = df.sample(n=3, axis=1)\n",
    "print('Sample \"df\" columns:\\n',dfx)\n",
    "print(\"\\n\")\n",
    "\n",
    "print(\"Answer # 7 --------------------------------\")\n",
    "# Select subset of 'df' that excludes 'row_weights'\n",
    "dfx = df.loc[:,df.columns != 'row_weights']\n",
    "# dfx = df.drop('row_weights', axis=1)  #<-- alternative method \n",
    "\n",
    "# Sample\n",
    "dfx = dfx.sample(n=2, axis=1, weights=col_weights)\n",
    "print('Sample \"df\" columns using weights:\\n',dfx)\n",
    "print(\"\\n\")\n",
    "\n",
    "\n",
    "print(\"Answer # 8 --------------------------------\")\n",
    "dfy = df.sample(n=4, axis=0, replace=True)\n",
    "print('Sample \"df\" rows without replacement:\\n',dfy)\n",
    "print(\"\\n\")\n"
   ]
  },
  {
   "cell_type": "code",
   "execution_count": null,
   "metadata": {},
   "outputs": [],
   "source": []
  },
  {
   "cell_type": "markdown",
   "metadata": {},
   "source": [
    "### Question 1:\n",
    "\n",
    "#### Story\n",
    "A highway construction company 'SuperTransport' is building a bridge across a river. Fortunately, the sand that they need can be extracted from the river bed. However, before they can use that sand it has be graded. Grading would ensure that the sand grain particles of varying sizes are included in the cement mix. They need our help with requests below. \n",
    "\n",
    "#### Requests:\n",
    "    - Using the weights given in array 'mix' randomly any select n=3 sand grades from 'sand_grades'\n",
    "    - Then, using for-loop and if-statement and Series 'sand_qty_avail': check to see if the total quantity availale for those grades is atleast 300 tons or tonnes\n",
    "        Hint-1: for loop syntax is below\n",
    "        for i in range(10):\n",
    "                # do this\n",
    "                if(x>=300):\n",
    "                    print(grades)\n",
    "                    break;\n",
    "        Hint-2: if you are getting no matches that satisfy the condition >= 300, then increase the number of iterations in the for-loop\n",
    "        Hint-3: Use indexing of grades to get quantity\n",
    "\n",
    "\n",
    "Print all answers to output.\n",
    "\n",
    "[Note: Create new variables of your choice as needed.]"
   ]
  },
  {
   "cell_type": "code",
   "execution_count": 28,
   "metadata": {},
   "outputs": [
    {
     "name": "stdout",
     "output_type": "stream",
     "text": [
      "Answer # 1 --------------------------------\n",
      "Sampled grades:\n",
      " M3 M1 F2\n",
      "\n",
      "\n"
     ]
    }
   ],
   "source": [
    "# Sand grades: coarse: C1 (coarsest) to C3; medium: M3 to M1; fine: F3 to F1 (finest)\n",
    "sand_grades = pd.Series(['C3', 'C2', 'C1', 'M3', 'M2', 'M1', 'F3', 'F2', 'F1']) \n",
    "# Estimated quantity of (in tons or tonnes) sand extracted for construction\n",
    "sand_qty_avail = pd.Series([20,35,10,55,60,75,100,105,150])\n",
    "# Varying sand mix proportions of desired\n",
    "mix = pd.Series([0.07, 0.05, 0.10, 0.02, 0.36, 0.12, .06, 0.15, .07])\n",
    "\n",
    "\n",
    "# ------- type the answer below this line ------- #\n",
    "print(\"Answer # 1 --------------------------------\")\n",
    "# Randomly select grades C, M and F\n",
    "c = sand_grades[0:4].sample(n=1)\n",
    "m = sand_grades[4:7].sample(n=1)\n",
    "f = sand_grades[7:].sample(n=1)\n",
    "print(\"Sampled grades:\\n\", c.values[0], m.values[0], f.values[0])\n",
    "print(\"\\n\")\n"
   ]
  },
  {
   "cell_type": "code",
   "execution_count": 29,
   "metadata": {},
   "outputs": [
    {
     "name": "stdout",
     "output_type": "stream",
     "text": [
      "Answer # 2 --------------------------------\n",
      "Any three grades:\n",
      "Sampled grades:\n",
      " M3 M1 F2\n",
      "Total availability:  330\n",
      "Total availability of >= 300 tons or tonnes: True\n"
     ]
    }
   ],
   "source": [
    "print(\"Answer # 2 --------------------------------\")\n",
    "for i in range(100):\n",
    "    # Randomly select 'any three' grades \n",
    "    grade_index = sand_grades.sample(n=3).index\n",
    "    \n",
    "    # Use the index of above sampled Series to get corresponding quantity\n",
    "    sampled_qty = sand_qty_avail[grade_index]\n",
    "    ton_sum_avail = np.sum(sampled_qty)\n",
    "    check_300_ton = ton_sum_avail >= 300\n",
    "    if(check_300_ton==True):\n",
    "        print(\"Any three grades:\")\n",
    "        print(\"Sampled grades:\\n\", c.values[0], m.values[0], f.values[0])\n",
    "        print(\"Total availability: \", ton_sum_avail)\n",
    "        print('Total availability of >= 300 tons or tonnes:', check_300_ton)\n",
    "        break;\n",
    "\n",
    "\n"
   ]
  },
  {
   "cell_type": "code",
   "execution_count": null,
   "metadata": {},
   "outputs": [],
   "source": []
  },
  {
   "cell_type": "code",
   "execution_count": null,
   "metadata": {},
   "outputs": [],
   "source": []
  },
  {
   "cell_type": "markdown",
   "metadata": {},
   "source": [
    "### Question 2:\n",
    "\n",
    "Based on information in Question # 1 above:\n",
    "\n",
    "#### Requests:\n",
    "    - Now, find a mixture of sand such that only one of three grades (1 to 3) for each type (C, M and F) are selected. Thus, the final mix would have only one of each C, M and F.\n",
    "    - Then, using 'sand_qty_avail' check to see if the total quantity availale for those grades is atleast 300 tons or tonnes. If no, then run the code again to randomly select a new set.\n",
    "        Hint-1: for loop syntax is below\n",
    "        for i in range(10):\n",
    "                # do this\n",
    "                if(x>=300):\n",
    "                    print(grades)\n",
    "                    break;\n",
    "        Hint-2: if you are getting no matches that satisfy the condition >= 300, then increase the number of iterations in the for-loop\n",
    "\n",
    "\n",
    "\n",
    "Print all answers to output.\n",
    "\n",
    "[Note: Create new variables of your choice as needed.]"
   ]
  },
  {
   "cell_type": "code",
   "execution_count": 31,
   "metadata": {},
   "outputs": [
    {
     "name": "stdout",
     "output_type": "stream",
     "text": [
      "Answer # 3 --------------------------------\n",
      "***One each of C, M and F:***\n",
      "Sampled grades:\n",
      " M3 F3 F1\n",
      "Total availability:  305\n",
      "Total availability of >= 300 tons or tonnes: True\n"
     ]
    }
   ],
   "source": [
    "print(\"Answer # 3 --------------------------------\")\n",
    "for i in range(100):\n",
    "    # Randomly select any three grades \n",
    "    c = sand_grades[0:4].sample(n=1)\n",
    "    m = sand_grades[4:7].sample(n=1)\n",
    "    f = sand_grades[7:].sample(n=1)\n",
    "    #print(\"Sampled grades:\\n\", c.values[0], m.values[0], f.values[0])\n",
    "    \n",
    "    # Use the index of above sampled Series to get corresponding quantity\n",
    "    sampled_qty = sand_qty_avail[[c.index[0],m.index[0],f.index[0]]]\n",
    "    ton_sum_avail = np.sum(sampled_qty)\n",
    "    check_300_ton = ton_sum_avail >= 300\n",
    "    if(check_300_ton==True):\n",
    "        print(\"***One each of C, M and F:***\")\n",
    "        print(\"Sampled grades:\\n\", c.values[0], m.values[0], f.values[0])\n",
    "        print(\"Total availability: \", ton_sum_avail)\n",
    "        print('Total availability of >= 300 tons or tonnes:', check_300_ton)\n",
    "        break;\n",
    "\n"
   ]
  },
  {
   "cell_type": "code",
   "execution_count": null,
   "metadata": {},
   "outputs": [],
   "source": []
  },
  {
   "cell_type": "code",
   "execution_count": null,
   "metadata": {},
   "outputs": [],
   "source": []
  },
  {
   "cell_type": "markdown",
   "metadata": {},
   "source": [
    "# Congratulations on completing the exercise!"
   ]
  },
  {
   "cell_type": "markdown",
   "metadata": {},
   "source": [
    "### Hope you enjoyed the questions. Thank you !!!"
   ]
  },
  {
   "cell_type": "markdown",
   "metadata": {},
   "source": [
    "#### Please like, share and subscribe to learndataa \n",
    "-<html>https://www.youtube.com/channel/UCzUpHQAfj3ulmJkTAfBtXLw/</html>"
   ]
  },
  {
   "cell_type": "code",
   "execution_count": 27,
   "metadata": {},
   "outputs": [],
   "source": [
    "#learndataa learndataa learndataa learndataa learndataa learndataa learndataa learndataa learndataa"
   ]
  }
 ],
 "metadata": {
  "kernelspec": {
   "display_name": "Python 3",
   "language": "python",
   "name": "python3"
  },
  "language_info": {
   "codemirror_mode": {
    "name": "ipython",
    "version": 3
   },
   "file_extension": ".py",
   "mimetype": "text/x-python",
   "name": "python",
   "nbconvert_exporter": "python",
   "pygments_lexer": "ipython3",
   "version": "3.7.4"
  }
 },
 "nbformat": 4,
 "nbformat_minor": 2
}
